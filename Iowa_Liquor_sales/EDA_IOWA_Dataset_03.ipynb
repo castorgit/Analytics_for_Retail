{
 "cells": [
  {
   "cell_type": "markdown",
   "id": "08f9ca05",
   "metadata": {},
   "source": [
    "## EDA IOWA Dataset 03 - Fixing Missing Values in Counties\n",
    "\n",
    "**Status:** PUBLIC Distribution <br>\n",
    "\n",
    "**Author:** Jaume Manero IE<br>\n",
    "**Date created:** 2021/02/1<br>\n",
    "**Last modified:** 2024/01/18 <br>\n",
    "**Description:** Fixing missing values\n",
    "\n",
    "The original dataset has many missing values in the county. This is an example on how to fix it"
   ]
  },
  {
   "cell_type": "code",
   "execution_count": 45,
   "id": "bbf84bd4",
   "metadata": {},
   "outputs": [],
   "source": [
    "import pandas as pd\n",
    "import numpy as np\n",
    "%matplotlib inline\n",
    "warnings.filterwarnings('ignore')"
   ]
  },
  {
   "cell_type": "code",
   "execution_count": 46,
   "id": "534bf862",
   "metadata": {},
   "outputs": [],
   "source": [
    "file = 'Iowa_Liquor_Sales.csv'\n",
    "file = 'Iowa_Liquor_Sales_NOV23.csv'\n",
    "df = pd.read_csv(file, header=0)"
   ]
  },
  {
   "cell_type": "code",
   "execution_count": 47,
   "id": "ea12d1cc",
   "metadata": {},
   "outputs": [
    {
     "data": {
      "text/plain": [
       "Invoice/Item Number       object\n",
       "Date                      object\n",
       "Store Number               int64\n",
       "Store Name                object\n",
       "Address                   object\n",
       "City                      object\n",
       "Zip Code                  object\n",
       "Store Location            object\n",
       "County Number            float64\n",
       "County                    object\n",
       "Category                 float64\n",
       "Category Name             object\n",
       "Vendor Number            float64\n",
       "Vendor Name               object\n",
       "Item Number               object\n",
       "Item Description          object\n",
       "Pack                       int64\n",
       "Bottle Volume (ml)         int64\n",
       "State Bottle Cost        float64\n",
       "State Bottle Retail      float64\n",
       "Bottles Sold               int64\n",
       "Sale (Dollars)           float64\n",
       "Volume Sold (Liters)     float64\n",
       "Volume Sold (Gallons)    float64\n",
       "dtype: object"
      ]
     },
     "execution_count": 47,
     "metadata": {},
     "output_type": "execute_result"
    }
   ],
   "source": [
    "df.dtypes"
   ]
  },
  {
   "cell_type": "code",
   "execution_count": 4,
   "id": "478ccd1b",
   "metadata": {},
   "outputs": [
    {
     "data": {
      "text/plain": [
       "Index(['Invoice/Item Number', 'Date', 'Store Number', 'Store Name', 'Address',\n",
       "       'City', 'Zip Code', 'Store Location', 'County Number', 'County',\n",
       "       'Category', 'Category Name', 'Vendor Number', 'Vendor Name',\n",
       "       'Item Number', 'Item Description', 'Pack', 'Bottle Volume (ml)',\n",
       "       'State Bottle Cost', 'State Bottle Retail', 'Bottles Sold',\n",
       "       'Sale (Dollars)', 'Volume Sold (Liters)', 'Volume Sold (Gallons)'],\n",
       "      dtype='object')"
      ]
     },
     "execution_count": 4,
     "metadata": {},
     "output_type": "execute_result"
    }
   ],
   "source": [
    "df.columns"
   ]
  },
  {
   "cell_type": "code",
   "execution_count": 5,
   "id": "409eccd9",
   "metadata": {},
   "outputs": [
    {
     "data": {
      "text/plain": [
       "159892"
      ]
     },
     "execution_count": 5,
     "metadata": {},
     "output_type": "execute_result"
    }
   ],
   "source": [
    "# how many missing values in County?\n",
    "sum(pd.isnull(df['County']))"
   ]
  },
  {
   "cell_type": "code",
   "execution_count": 6,
   "id": "952abd94",
   "metadata": {},
   "outputs": [
    {
     "data": {
      "text/plain": [
       "3578185"
      ]
     },
     "execution_count": 6,
     "metadata": {},
     "output_type": "execute_result"
    }
   ],
   "source": [
    "# and in County Number?\n",
    "sum(pd.isnull(df['County Number']))"
   ]
  },
  {
   "cell_type": "code",
   "execution_count": 14,
   "id": "f5a8a104",
   "metadata": {},
   "outputs": [
    {
     "data": {
      "text/plain": [
       "83156"
      ]
     },
     "execution_count": 14,
     "metadata": {},
     "output_type": "execute_result"
    }
   ],
   "source": [
    "sum(pd.isnull(df['Zip Code']))"
   ]
  },
  {
   "cell_type": "code",
   "execution_count": 10,
   "id": "6f306817",
   "metadata": {},
   "outputs": [
    {
     "data": {
      "text/plain": [
       "County  County Number\n",
       "False   False            24132843.0\n",
       "        True              3418293.0\n",
       "True    True               159892.0\n",
       "dtype: float64"
      ]
     },
     "execution_count": 10,
     "metadata": {},
     "output_type": "execute_result"
    }
   ],
   "source": [
    "# in Both?\n",
    "\n",
    "df.isna().pivot_table(index='County', columns='County Number', aggfunc='size').stack()"
   ]
  },
  {
   "cell_type": "code",
   "execution_count": 13,
   "id": "8081e63b",
   "metadata": {},
   "outputs": [
    {
     "data": {
      "text/plain": [
       "County  Zip Code\n",
       "False   False       27551114\n",
       "        True              22\n",
       "True    False          76758\n",
       "        True           83134\n",
       "dtype: int64"
      ]
     },
     "execution_count": 13,
     "metadata": {},
     "output_type": "execute_result"
    }
   ],
   "source": [
    "# Conclusion Empty County has Empty County Number\n",
    "# Do they have Zip Code?\n",
    "df.isna().pivot_table(index='County', columns='Zip Code', aggfunc='size').stack()"
   ]
  },
  {
   "cell_type": "code",
   "execution_count": null,
   "id": "1a7eb5bf",
   "metadata": {},
   "outputs": [],
   "source": [
    "# We have 83134 empty zip codes. I think we can delete them\n",
    "# Lets create County from ZIP CODE\n",
    "# We can use a package uszipcode\n",
    "import uszipcode\n",
    "from uszipcode import SearchEngine\n",
    "\n",
    "search = SearchEngine()\n",
    "zipcode = search.by_zipcode(\"57001\")\n",
    "zipcode.county\n",
    "\n",
    "# we create a small function that returns county from ZIPCODE\n",
    "# Careful We create County in uppercase without the word county\n",
    "def reverseZIP(zipcode):\n",
    "    if np.isnan(zipcode):\n",
    "        return zipcode\n",
    "    zipcode = int(zipcode)\n",
    "    z = search.by_zipcode(zipcode)\n",
    "    if z is None:\n",
    "        return zipcode\n",
    "    county = z.county\n",
    "    county = county.replace(' County','')\n",
    "    return county.upper()\n",
    "\n",
    "print (reverseZIP(57101))"
   ]
  },
  {
   "cell_type": "code",
   "execution_count": null,
   "id": "1439e8b0",
   "metadata": {},
   "outputs": [],
   "source": [
    "# now we replace the county name in the WHOLE dataset from its ZIP\n",
    "# we do that because in this way we assure that some changes of County boundaries are avoided \n",
    "# and then the whole dataset is consistent"
   ]
  },
  {
   "cell_type": "code",
   "execution_count": null,
   "id": "7b96fa32",
   "metadata": {},
   "outputs": [],
   "source": [
    "df['New County'] = df['Zip Code'].apply(reverseZIP)"
   ]
  },
  {
   "cell_type": "code",
   "execution_count": null,
   "id": "04c7efdd",
   "metadata": {},
   "outputs": [],
   "source": [
    "# Now in the column New County we have the correct county and we have very few missing values\n",
    "# You can proceed to delete the rows\n",
    "sum(pd.isnull(df['New County']))"
   ]
  },
  {
   "cell_type": "code",
   "execution_count": null,
   "id": "6b9c9c22",
   "metadata": {},
   "outputs": [],
   "source": [
    "import session_info\n",
    "session_info.show(html=False)"
   ]
  }
 ],
 "metadata": {
  "kernelspec": {
   "display_name": "tf",
   "language": "python",
   "name": "tf"
  },
  "language_info": {
   "codemirror_mode": {
    "name": "ipython",
    "version": 3
   },
   "file_extension": ".py",
   "mimetype": "text/x-python",
   "name": "python",
   "nbconvert_exporter": "python",
   "pygments_lexer": "ipython3",
   "version": "3.10.13"
  }
 },
 "nbformat": 4,
 "nbformat_minor": 5
}
