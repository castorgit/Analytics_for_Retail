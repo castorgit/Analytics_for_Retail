{
 "cells": [
  {
   "cell_type": "markdown",
   "id": "08f9ca05",
   "metadata": {},
   "source": [
    "## EDA IOWA Dataset 03 - Fixing Missing Values in Counties\n",
    "\n",
    "**Status:** PUBLIC Distribution <br>\n",
    "\n",
    "**Author:** Jaume Manero IE<br>\n",
    "**Date created:** 2021/02/1<br>\n",
    "**Last modified:** 2024/01/18 <br>\n",
    "**Description:** Fixing missing values\n",
    "\n",
    "The original dataset has many missing values in the county. This is an example on how to fix it"
   ]
  },
  {
   "cell_type": "code",
   "execution_count": 1,
   "id": "bbf84bd4",
   "metadata": {},
   "outputs": [],
   "source": [
    "import pandas as pd\n",
    "import numpy as np\n",
    "%matplotlib inline"
   ]
  },
  {
   "cell_type": "code",
   "execution_count": 2,
   "id": "534bf862",
   "metadata": {},
   "outputs": [
    {
     "name": "stderr",
     "output_type": "stream",
     "text": [
      "C:\\Users\\manero\\AppData\\Local\\Temp\\ipykernel_24808\\2430874962.py:3: DtypeWarning: Columns (6,14) have mixed types. Specify dtype option on import or set low_memory=False.\n",
      "  df = pd.read_csv(file, header=0)\n"
     ]
    }
   ],
   "source": [
    "file = 'Iowa_Liquor_Sales.csv'\n",
    "file = 'Iowa_Liquor_Sales_NOV23.csv'\n",
    "df = pd.read_csv(file, header=0)"
   ]
  },
  {
   "cell_type": "code",
   "execution_count": 3,
   "id": "ea12d1cc",
   "metadata": {},
   "outputs": [
    {
     "data": {
      "text/plain": [
       "Invoice/Item Number       object\n",
       "Date                      object\n",
       "Store Number               int64\n",
       "Store Name                object\n",
       "Address                   object\n",
       "City                      object\n",
       "Zip Code                  object\n",
       "Store Location            object\n",
       "County Number            float64\n",
       "County                    object\n",
       "Category                 float64\n",
       "Category Name             object\n",
       "Vendor Number            float64\n",
       "Vendor Name               object\n",
       "Item Number               object\n",
       "Item Description          object\n",
       "Pack                       int64\n",
       "Bottle Volume (ml)         int64\n",
       "State Bottle Cost        float64\n",
       "State Bottle Retail      float64\n",
       "Bottles Sold               int64\n",
       "Sale (Dollars)           float64\n",
       "Volume Sold (Liters)     float64\n",
       "Volume Sold (Gallons)    float64\n",
       "dtype: object"
      ]
     },
     "execution_count": 3,
     "metadata": {},
     "output_type": "execute_result"
    }
   ],
   "source": [
    "df.dtypes"
   ]
  },
  {
   "cell_type": "code",
   "execution_count": 4,
   "id": "478ccd1b",
   "metadata": {},
   "outputs": [
    {
     "data": {
      "text/plain": [
       "Index(['Invoice/Item Number', 'Date', 'Store Number', 'Store Name', 'Address',\n",
       "       'City', 'Zip Code', 'Store Location', 'County Number', 'County',\n",
       "       'Category', 'Category Name', 'Vendor Number', 'Vendor Name',\n",
       "       'Item Number', 'Item Description', 'Pack', 'Bottle Volume (ml)',\n",
       "       'State Bottle Cost', 'State Bottle Retail', 'Bottles Sold',\n",
       "       'Sale (Dollars)', 'Volume Sold (Liters)', 'Volume Sold (Gallons)'],\n",
       "      dtype='object')"
      ]
     },
     "execution_count": 4,
     "metadata": {},
     "output_type": "execute_result"
    }
   ],
   "source": [
    "df.columns"
   ]
  },
  {
   "cell_type": "code",
   "execution_count": 5,
   "id": "c5a259e3",
   "metadata": {},
   "outputs": [
    {
     "data": {
      "text/plain": [
       "159892"
      ]
     },
     "execution_count": 5,
     "metadata": {},
     "output_type": "execute_result"
    }
   ],
   "source": [
    "# how many missing values in County?\n",
    "sum(pd.isnull(df['County']))"
   ]
  },
  {
   "cell_type": "code",
   "execution_count": 6,
   "id": "e251d7b4",
   "metadata": {},
   "outputs": [
    {
     "data": {
      "text/plain": [
       "3578185"
      ]
     },
     "execution_count": 6,
     "metadata": {},
     "output_type": "execute_result"
    }
   ],
   "source": [
    "# and in County Number?\n",
    "sum(pd.isnull(df['County Number']))"
   ]
  },
  {
   "cell_type": "code",
   "execution_count": 7,
   "id": "db3b1a50",
   "metadata": {},
   "outputs": [
    {
     "data": {
      "text/plain": [
       "83156"
      ]
     },
     "execution_count": 7,
     "metadata": {},
     "output_type": "execute_result"
    }
   ],
   "source": [
    "sum(pd.isnull(df['Zip Code']))"
   ]
  },
  {
   "cell_type": "code",
   "execution_count": 8,
   "id": "d1d85c0e",
   "metadata": {},
   "outputs": [
    {
     "data": {
      "text/plain": [
       "County  County Number\n",
       "False   False            24132843.0\n",
       "        True              3418293.0\n",
       "True    True               159892.0\n",
       "dtype: float64"
      ]
     },
     "execution_count": 8,
     "metadata": {},
     "output_type": "execute_result"
    }
   ],
   "source": [
    "# in Both?\n",
    "\n",
    "df.isna().pivot_table(index='County', columns='County Number', aggfunc='size').stack()"
   ]
  },
  {
   "cell_type": "code",
   "execution_count": 9,
   "id": "8081e63b",
   "metadata": {},
   "outputs": [
    {
     "data": {
      "text/plain": [
       "County  Zip Code\n",
       "False   False       27551114\n",
       "        True              22\n",
       "True    False          76758\n",
       "        True           83134\n",
       "dtype: int64"
      ]
     },
     "execution_count": 9,
     "metadata": {},
     "output_type": "execute_result"
    }
   ],
   "source": [
    "# Conclusion Empty County has Empty County Number\n",
    "# Do they have Zip Code?\n",
    "df.isna().pivot_table(index='County', columns='Zip Code', aggfunc='size').stack()"
   ]
  },
  {
   "cell_type": "code",
   "execution_count": 18,
   "id": "3cf740c7",
   "metadata": {},
   "outputs": [
    {
     "name": "stdout",
     "output_type": "stream",
     "text": [
      "MINNEHAHA\n"
     ]
    }
   ],
   "source": [
    "# We have 83134 empty zip codes. I think we can delete them\n",
    "# Lets create County from ZIP CODE\n",
    "# We can use a package uszipcode\n",
    "import uszipcode\n",
    "from uszipcode import SearchEngine\n",
    "\n",
    "search = SearchEngine()\n",
    "zipcode = search.by_zipcode(\"57001\")\n",
    "zipcode.county\n",
    "\n",
    "# we create a small function that returns county from ZIPCODE\n",
    "# Careful We create County in uppercase without the word county\n",
    "def reverseZIP(zipcode):\n",
    "    if pd.isna(zipcode):\n",
    "        return zipcode\n",
    "    try:\n",
    "       zipcode = int(zipcode)\n",
    "    except:\n",
    "       return np.nan\n",
    "    z = search.by_zipcode(zipcode)\n",
    "    if z is None:\n",
    "        return zipcode\n",
    "    county = z.county\n",
    "    county = county.replace(' County','')\n",
    "    return county.upper()\n",
    "\n",
    "print (reverseZIP(57101))"
   ]
  },
  {
   "cell_type": "code",
   "execution_count": 19,
   "id": "152d2881",
   "metadata": {},
   "outputs": [],
   "source": [
    "# now we replace the county name in the WHOLE dataset from its ZIP\n",
    "# we do that because in this way we assure that some changes of County boundaries are avoided \n",
    "# and then the whole dataset is consistent"
   ]
  },
  {
   "cell_type": "code",
   "execution_count": 20,
   "id": "d0406617",
   "metadata": {},
   "outputs": [],
   "source": [
    "df['New County'] = df['Zip Code'].apply(reverseZIP)"
   ]
  },
  {
   "cell_type": "code",
   "execution_count": 23,
   "id": "ef21604c",
   "metadata": {},
   "outputs": [
    {
     "name": "stdout",
     "output_type": "stream",
     "text": [
      "Number of nulls now in County 0\n",
      "Number of rows: 27619932\n"
     ]
    }
   ],
   "source": [
    "# Now in the column New County we have the correct county and we have very few missing values\n",
    "# You can proceed to delete the rows that are with Nan/Nulls as we don't have information (or is not worth to find it)\n",
    "print('Number of nulls now in County', sum(pd.isnull(df['New County'])))\n",
    "# The instruction for deletion is:\n",
    "df = df.dropna(subset=['New County'])\n",
    "# number of rows in the final dataframe\n",
    "num_rows = len(df)\n",
    "print(f\"Number of rows: {num_rows}\")"
   ]
  },
  {
   "cell_type": "code",
   "execution_count": 22,
   "id": "6b9c9c22",
   "metadata": {},
   "outputs": [
    {
     "name": "stdout",
     "output_type": "stream",
     "text": [
      "-----\n",
      "numpy               1.26.0\n",
      "pandas              2.0.3\n",
      "session_info        1.0.0\n",
      "uszipcode           1.0.1\n",
      "-----\n",
      "IPython             8.15.0\n",
      "jupyter_client      8.1.0\n",
      "jupyter_core        5.3.0\n",
      "-----\n",
      "Python 3.10.13 | packaged by Anaconda, Inc. | (main, Sep 11 2023, 13:15:57) [MSC v.1916 64 bit (AMD64)]\n",
      "Windows-10-10.0.22631-SP0\n",
      "-----\n",
      "Session information updated at 2024-01-18 23:58\n"
     ]
    }
   ],
   "source": [
    "import session_info\n",
    "session_info.show(html=False)"
   ]
  }
 ],
 "metadata": {
  "kernelspec": {
   "display_name": "tf",
   "language": "python",
   "name": "tf"
  },
  "language_info": {
   "codemirror_mode": {
    "name": "ipython",
    "version": 3
   },
   "file_extension": ".py",
   "mimetype": "text/x-python",
   "name": "python",
   "nbconvert_exporter": "python",
   "pygments_lexer": "ipython3",
   "version": "3.10.13"
  }
 },
 "nbformat": 4,
 "nbformat_minor": 5
}
