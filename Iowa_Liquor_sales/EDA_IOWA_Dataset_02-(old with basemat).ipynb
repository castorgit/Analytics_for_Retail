{
 "cells": [
  {
   "cell_type": "markdown",
   "metadata": {
    "colab_type": "text",
    "id": "weAfu3gUwUas"
   },
   "source": [
    "#Data Set Overivew\n",
    "\n",
    "The tutorial uses the Iowa Liquor Retails Sales. We will be using it dataset to predict future sales for one of the stores\n",
    "\n",
    "This dataset contains every wholesale purchase of liquor in the State of Iowa by retailers for sale to individuals since January 1, 2012.\n",
    "The State of Iowa controls the wholesale distribution of liquor intended for retail sale, which means this dataset offers a complete view of retail liquor sales in the entire state. The dataset contains every wholesale order of liquor by all grocery stores, liquor stores, convenience stores, etc., with details about the store and location, the exact liquor brand and size, and the number of bottles ordered."
   ]
  },
  {
   "cell_type": "code",
   "execution_count": 1,
   "metadata": {
    "colab": {},
    "colab_type": "code",
    "id": "ENjxOsRCbsG7"
   },
   "outputs": [],
   "source": [
    "# https://github.com/hamzafarooq/Time-Series"
   ]
  },
  {
   "cell_type": "code",
   "execution_count": 2,
   "metadata": {
    "colab": {},
    "colab_type": "code",
    "id": "zq4ZZ7W9ZWNY"
   },
   "outputs": [
    {
     "ename": "ModuleNotFoundError",
     "evalue": "No module named 'mpl_toolkits.basemap'",
     "output_type": "error",
     "traceback": [
      "\u001b[0;31m---------------------------------------------------------------------------\u001b[0m",
      "\u001b[0;31mModuleNotFoundError\u001b[0m                       Traceback (most recent call last)",
      "\u001b[0;32m/tmp/ipykernel_6343/1841258576.py\u001b[0m in \u001b[0;36m<module>\u001b[0;34m\u001b[0m\n\u001b[1;32m     18\u001b[0m \u001b[0;32mimport\u001b[0m \u001b[0mmatplotlib\u001b[0m\u001b[0;34m.\u001b[0m\u001b[0mpyplot\u001b[0m \u001b[0;32mas\u001b[0m \u001b[0mplt\u001b[0m\u001b[0;34m\u001b[0m\u001b[0;34m\u001b[0m\u001b[0m\n\u001b[1;32m     19\u001b[0m \u001b[0;32mimport\u001b[0m \u001b[0mmpl_toolkits\u001b[0m\u001b[0;34m\u001b[0m\u001b[0;34m\u001b[0m\u001b[0m\n\u001b[0;32m---> 20\u001b[0;31m \u001b[0;32mfrom\u001b[0m \u001b[0mmpl_toolkits\u001b[0m\u001b[0;34m.\u001b[0m\u001b[0mbasemap\u001b[0m \u001b[0;32mimport\u001b[0m \u001b[0mBasemap\u001b[0m\u001b[0;34m\u001b[0m\u001b[0;34m\u001b[0m\u001b[0m\n\u001b[0m",
      "\u001b[0;31mModuleNotFoundError\u001b[0m: No module named 'mpl_toolkits.basemap'"
     ]
    }
   ],
   "source": [
    "import numpy as np # linear algebra\n",
    "import pandas as pd\n",
    "import pandas as pd # data processing, CSV file I/O (e.g. pd.read_csv)\n",
    "import warnings\n",
    "import itertools\n",
    "%matplotlib inline\n",
    "from matplotlib import pyplot as plt\n",
    "warnings.filterwarnings(\"ignore\")\n",
    "plt.style.use('fivethirtyeight')\n",
    "import statsmodels.api as sm\n",
    "import matplotlib\n",
    "import datetime\n",
    "import seaborn as sns\n",
    "\n",
    "sns.set(rc={'figure.figsize':(11, 4)})\n",
    "%matplotlib inline\n",
    "import numpy as np\n",
    "import matplotlib.pyplot as plt\n",
    "import mpl_toolkits\n",
    "from mpl_toolkits.basemap import Basemap"
   ]
  },
  {
   "cell_type": "code",
   "execution_count": null,
   "metadata": {
    "colab": {},
    "colab_type": "code",
    "id": "YzRBrVjZv1iD"
   },
   "outputs": [],
   "source": [
    "file = 'Iowa_Liquor_Sales_2023.csv'\n",
    "df = pd.read_csv(file, header=0)"
   ]
  },
  {
   "cell_type": "markdown",
   "metadata": {
    "colab_type": "text",
    "id": "O22p19ePwTJp"
   },
   "source": [
    "# Data Overview"
   ]
  },
  {
   "cell_type": "code",
   "execution_count": null,
   "metadata": {
    "colab": {},
    "colab_type": "code",
    "id": "BkHhbGWeKTwd"
   },
   "outputs": [],
   "source": [
    "df_backup = df # it is always useful to store an orignial version of the data"
   ]
  },
  {
   "cell_type": "code",
   "execution_count": null,
   "metadata": {
    "colab": {},
    "colab_type": "code",
    "id": "X9hs_ZBUZWNg"
   },
   "outputs": [],
   "source": [
    "df_rows = df.shape[0]"
   ]
  },
  {
   "cell_type": "code",
   "execution_count": null,
   "metadata": {
    "colab": {
     "base_uri": "https://localhost:8080/",
     "height": 459
    },
    "colab_type": "code",
    "id": "2KHoVOMsZWNh",
    "outputId": "e4d0ba6b-4f12-4bec-c843-fb665bf4f6cf"
   },
   "outputs": [],
   "source": [
    "# Check for % of missing values in each column - drop nulls\n",
    "df.isnull().sum()/df_rows*100"
   ]
  },
  {
   "cell_type": "code",
   "execution_count": null,
   "metadata": {},
   "outputs": [],
   "source": [
    "df"
   ]
  },
  {
   "cell_type": "code",
   "execution_count": null,
   "metadata": {
    "colab": {},
    "colab_type": "code",
    "id": "prZ_OhywZWNk"
   },
   "outputs": [],
   "source": [
    "df.dropna(inplace=True)\n",
    "#df = df.drop('Unnamed: 0',axis=1)"
   ]
  },
  {
   "cell_type": "code",
   "execution_count": null,
   "metadata": {},
   "outputs": [],
   "source": [
    "df.isnull().sum()/df_rows*100"
   ]
  },
  {
   "cell_type": "code",
   "execution_count": null,
   "metadata": {
    "colab": {
     "base_uri": "https://localhost:8080/",
     "height": 442
    },
    "colab_type": "code",
    "id": "0NR6gl3yZWNm",
    "outputId": "730fd152-93e0-4347-85c4-697f0a68e5ae",
    "scrolled": true
   },
   "outputs": [],
   "source": [
    "## check for data types and outliers for continuous variables\n",
    "df.dtypes"
   ]
  },
  {
   "cell_type": "code",
   "execution_count": null,
   "metadata": {
    "colab": {
     "base_uri": "https://localhost:8080/",
     "height": 830
    },
    "colab_type": "code",
    "id": "4Vf0m-ZsZWNp",
    "outputId": "ae4ac8d9-bf0d-4b6d-a6a0-a3b8a136a763"
   },
   "outputs": [],
   "source": [
    "df['Date'] = pd.to_datetime(df['Date'])\n",
    "#df.drop('Date',axis=1)"
   ]
  },
  {
   "cell_type": "code",
   "execution_count": null,
   "metadata": {
    "colab": {
     "base_uri": "https://localhost:8080/",
     "height": 317
    },
    "colab_type": "code",
    "id": "86vRkuQmZWNv",
    "outputId": "547477ef-a152-4a91-9ed8-6014bf3557e0"
   },
   "outputs": [],
   "source": [
    "df.describe()"
   ]
  },
  {
   "cell_type": "code",
   "execution_count": null,
   "metadata": {
    "colab": {
     "base_uri": "https://localhost:8080/",
     "height": 204
    },
    "colab_type": "code",
    "id": "7e6sqIOvZWNx",
    "outputId": "166c921f-4b5b-4af2-f242-bbd55e19ece4"
   },
   "outputs": [],
   "source": [
    "daily_sale=df.groupby('Date')[['Sale (Dollars)']].sum().sort_values(by = ['Sale (Dollars)'], \\\n",
    "                                                                                ascending=False).reset_index()\n",
    "\n",
    "daily_sale=daily_sale.sort_values('Date')\n",
    "daily_sale.head(5)"
   ]
  },
  {
   "cell_type": "code",
   "execution_count": null,
   "metadata": {
    "colab": {
     "base_uri": "https://localhost:8080/",
     "height": 442
    },
    "colab_type": "code",
    "id": "dgKxfxGEafTz",
    "outputId": "6671181b-7e9a-4e93-aee5-5d081f959251"
   },
   "outputs": [],
   "source": [
    "plt.figure(figsize=(20,10))\n",
    "plt.plot(daily_sale['Date'],daily_sale['Sale (Dollars)'])\n",
    "plt.show()"
   ]
  },
  {
   "cell_type": "markdown",
   "metadata": {
    "colab_type": "text",
    "id": "jKfAUIXXI6YY"
   },
   "source": [
    "# Finding sales for all Wal-Mart Stores"
   ]
  },
  {
   "cell_type": "code",
   "execution_count": null,
   "metadata": {},
   "outputs": [],
   "source": [
    "df.columns"
   ]
  },
  {
   "cell_type": "code",
   "execution_count": null,
   "metadata": {},
   "outputs": [],
   "source": [
    "df['Store Name'].unique().tolist()"
   ]
  },
  {
   "cell_type": "code",
   "execution_count": null,
   "metadata": {
    "colab": {
     "base_uri": "https://localhost:8080/",
     "height": 34
    },
    "colab_type": "code",
    "id": "GGi8bRBQJE7Z",
    "outputId": "f110b90f-160e-4141-cd1b-99ba4ccd9d1c"
   },
   "outputs": [],
   "source": [
    "wmt_list=[]\n",
    "for i in set(df['Store Name']):\n",
    "  if 'WAL-MART' in i:\n",
    "    wmt_list.append(i)\n",
    "\n",
    "len(wmt_list)"
   ]
  },
  {
   "cell_type": "code",
   "execution_count": null,
   "metadata": {
    "colab": {
     "base_uri": "https://localhost:8080/",
     "height": 411
    },
    "colab_type": "code",
    "id": "-Ey-QDz6LA8T",
    "outputId": "ae744a5a-9fe0-43c5-f9df-73e032f64ee8"
   },
   "outputs": [],
   "source": [
    "wmt_stores_only = df[df['Store Name'].isin(wmt_list)]\n",
    "wmt_stores_only.head(5)"
   ]
  },
  {
   "cell_type": "code",
   "execution_count": null,
   "metadata": {
    "colab": {},
    "colab_type": "code",
    "id": "AiNjuqxrQ6PG"
   },
   "outputs": [],
   "source": [
    "locations=set(wmt_stores_only['Store Location'])"
   ]
  },
  {
   "cell_type": "code",
   "execution_count": null,
   "metadata": {
    "colab": {},
    "colab_type": "code",
    "id": "uibDTKpZRCUW"
   },
   "outputs": [],
   "source": [
    "def long(q):\n",
    "  l=[]\n",
    "  for i in q:\n",
    "    \n",
    "    i=i.replace('POINT',\"\")\n",
    "    i=i.replace('[',\"\")\n",
    "    i=i.replace('(',\"\")\n",
    "    k=i.split()\n",
    "    l.append(float(k[0]))\n",
    "  return l\n",
    "    \n",
    "\n"
   ]
  },
  {
   "cell_type": "code",
   "execution_count": null,
   "metadata": {
    "colab": {},
    "colab_type": "code",
    "id": "qzgGRdeaaUWC"
   },
   "outputs": [],
   "source": [
    "def lat(q):\n",
    "  l=[]\n",
    "  for i in q:\n",
    "    i=i.replace('POINT',\"\")\n",
    "    i=i.replace('[',\"\")\n",
    "    i=i.replace(')',\"\")\n",
    "    k=i.split()\n",
    "    l.append(float(k[1]))\n",
    "  return l"
   ]
  },
  {
   "cell_type": "code",
   "execution_count": null,
   "metadata": {},
   "outputs": [],
   "source": [
    "wmt_stores_only.dtypes"
   ]
  },
  {
   "cell_type": "code",
   "execution_count": null,
   "metadata": {
    "colab": {},
    "colab_type": "code",
    "id": "KwTPK_faTJCC"
   },
   "outputs": [],
   "source": [
    "wmt_stores_only['lat']= lat(wmt_stores_only['Store Location'].values)\n",
    "wmt_stores_only['long']= long(wmt_stores_only['Store Location'].values)\n"
   ]
  },
  {
   "cell_type": "code",
   "execution_count": null,
   "metadata": {
    "colab": {},
    "colab_type": "code",
    "id": "QvtqBmKPX1kC"
   },
   "outputs": [],
   "source": [
    "wmt_locations=wmt_stores_only[['Store Number','lat','long']].drop_duplicates()"
   ]
  },
  {
   "cell_type": "code",
   "execution_count": null,
   "metadata": {
    "colab": {},
    "colab_type": "code",
    "id": "IXMNAJCFZXhz"
   },
   "outputs": [],
   "source": [
    "wmt_store_sales = wmt_stores_only.groupby('Store Number')[['Sale (Dollars)']].sum(). \\\n",
    "                                          sort_values(by = ['Sale (Dollars)'], ascending=False).reset_index()\n"
   ]
  },
  {
   "cell_type": "code",
   "execution_count": null,
   "metadata": {},
   "outputs": [],
   "source": [
    "wmt_locations"
   ]
  },
  {
   "cell_type": "code",
   "execution_count": null,
   "metadata": {
    "colab": {},
    "colab_type": "code",
    "id": "boViH70WabQP"
   },
   "outputs": [],
   "source": [
    "wmt_store_sales=pd.merge(wmt_store_sales,wmt_locations , how='left', on='Store Number')"
   ]
  },
  {
   "cell_type": "code",
   "execution_count": null,
   "metadata": {
    "colab": {
     "base_uri": "https://localhost:8080/",
     "height": 204
    },
    "colab_type": "code",
    "id": "0SiYnS-BdTR6",
    "outputId": "14498be0-fea6-46b1-b0aa-223ea9c8c66f"
   },
   "outputs": [],
   "source": [
    "wmt_store_sales.head(5)"
   ]
  },
  {
   "cell_type": "markdown",
   "metadata": {
    "colab_type": "text",
    "id": "Ab4W2947ZWN3"
   },
   "source": [
    "# Exploratory Data Analysis\n",
    "### Top 5 categories of liquor by total sales"
   ]
  },
  {
   "cell_type": "code",
   "execution_count": null,
   "metadata": {
    "colab": {},
    "colab_type": "code",
    "id": "XNfNPgKd4CRh"
   },
   "outputs": [],
   "source": [
    "liquor_sales=wmt_stores_only"
   ]
  },
  {
   "cell_type": "code",
   "execution_count": null,
   "metadata": {
    "colab": {},
    "colab_type": "code",
    "id": "hApPeGE_ZWN3",
    "scrolled": true
   },
   "outputs": [],
   "source": [
    "liquor_sales['category_name'] = liquor_sales['category_name'].str.lower().str.title()"
   ]
  },
  {
   "cell_type": "code",
   "execution_count": null,
   "metadata": {
    "colab": {},
    "colab_type": "code",
    "id": "ByrxFAY4ZWN5"
   },
   "outputs": [],
   "source": [
    "categories = pd.DataFrame(liquor_sales[['category_name','sale_dollars']])\n",
    "Top_categories = categories.groupby('category_name')[['sale_dollars']].sum().sort_values(by = ['sale_dollars'], \\\n",
    "                                                                                ascending=False).reset_index()"
   ]
  },
  {
   "cell_type": "code",
   "execution_count": null,
   "metadata": {
    "colab": {
     "base_uri": "https://localhost:8080/",
     "height": 34
    },
    "colab_type": "code",
    "id": "UIz2xUk8ZWN7",
    "outputId": "27ac7354-faa3-43a6-839e-e2972bdda540"
   },
   "outputs": [],
   "source": [
    "Top_categories.shape"
   ]
  },
  {
   "cell_type": "code",
   "execution_count": null,
   "metadata": {
    "colab": {
     "base_uri": "https://localhost:8080/",
     "height": 204
    },
    "colab_type": "code",
    "id": "L3J1GpzkZWN9",
    "outputId": "6386164d-1276-40df-8475-3bb61a283581",
    "scrolled": true
   },
   "outputs": [],
   "source": [
    "Top_categories.head()"
   ]
  },
  {
   "cell_type": "code",
   "execution_count": null,
   "metadata": {
    "colab": {
     "base_uri": "https://localhost:8080/",
     "height": 359
    },
    "colab_type": "code",
    "id": "dr0Ij8zwZWOA",
    "outputId": "2c2640ec-a04a-4433-ef37-4098cacf2485"
   },
   "outputs": [],
   "source": [
    "categories_sales = Top_categories.head(10)\n",
    "categories_sales"
   ]
  },
  {
   "cell_type": "markdown",
   "metadata": {
    "colab_type": "text",
    "id": "42J36jwhZWOC"
   },
   "source": [
    "\n",
    "### Top Selling 10 categories"
   ]
  },
  {
   "cell_type": "code",
   "execution_count": null,
   "metadata": {
    "colab": {
     "base_uri": "https://localhost:8080/",
     "height": 781
    },
    "colab_type": "code",
    "id": "8HuvPXGVZWOC",
    "outputId": "b36e80d2-7b7a-49b5-c7cb-ab447c2db460"
   },
   "outputs": [],
   "source": [
    "# bar chart for total sales for each category\n",
    "plt.figure(figsize=(10,10))\n",
    "sns.barplot(x= 'category_name', y = 'sale_dollars', data=categories_sales)\n",
    " \n",
    "# Rotate x-labels\n",
    "plt.xticks(rotation=-45)"
   ]
  },
  {
   "cell_type": "markdown",
   "metadata": {
    "colab_type": "text",
    "id": "hfk3cB9mZWOE"
   },
   "source": [
    "### Daily Sales"
   ]
  },
  {
   "cell_type": "code",
   "execution_count": null,
   "metadata": {
    "colab": {},
    "colab_type": "code",
    "id": "2M1x777uZWOE"
   },
   "outputs": [],
   "source": [
    "liquor_sales['year'] = pd.DatetimeIndex(liquor_sales['Date']).year\n",
    "liquor_sales['month'] = pd.DatetimeIndex(liquor_sales['Date']).month\n",
    "liquor_sales['day'] = pd.DatetimeIndex(liquor_sales['Date']).day_name()"
   ]
  },
  {
   "cell_type": "code",
   "execution_count": null,
   "metadata": {
    "colab": {},
    "colab_type": "code",
    "id": "57uNOpdaZWOG",
    "scrolled": true
   },
   "outputs": [],
   "source": [
    "daily_sales = liquor_sales.groupby('day')[['sale_dollars']].sum().sort_values(by = ['day']).reset_index()\n",
    "#daily_sales"
   ]
  },
  {
   "cell_type": "code",
   "execution_count": null,
   "metadata": {
    "colab": {},
    "colab_type": "code",
    "id": "g3G2vAjpZWOH"
   },
   "outputs": [],
   "source": [
    "daysofweek = ['Monday', 'Tuesday', 'Wednesday', 'Thursday', 'Friday', 'Saturday', 'Sunday']"
   ]
  },
  {
   "cell_type": "code",
   "execution_count": null,
   "metadata": {
    "colab": {
     "base_uri": "https://localhost:8080/",
     "height": 464
    },
    "colab_type": "code",
    "id": "de_ibbd1ZWOJ",
    "outputId": "0055ba39-4b9a-4995-8135-288b098c1a60"
   },
   "outputs": [],
   "source": [
    "# bar chart for total sales for each category\n",
    "plt.figure(figsize=(8,6))\n",
    "sns.barplot(x= 'day', y = 'sale_dollars', data=daily_sales, order = daysofweek)\n",
    " \n",
    "# Rotate x-labels\n",
    "plt.xticks(rotation=-45)"
   ]
  },
  {
   "cell_type": "markdown",
   "metadata": {
    "colab_type": "text",
    "id": "sFrJ_Uj2ZWOL"
   },
   "source": [
    "### Yearly trend of liquor categories"
   ]
  },
  {
   "cell_type": "code",
   "execution_count": null,
   "metadata": {
    "colab": {},
    "colab_type": "code",
    "id": "biWKc9gKZWOM"
   },
   "outputs": [],
   "source": [
    "yearly_data = pd.DataFrame(liquor_sales[liquor_sales['category_name'].isin(['Canadian Whiskies', 'American Vodkas', \\\n",
    "                                                                            'Spiced Rum','Straight Bourbon Whiskies', \\\n",
    "                                                                            'Tennessee Whiskies'])])\n",
    "\n",
    "x = yearly_data.groupby(['year', 'category_name'])['sale_dollars'].sum().reset_index()\n"
   ]
  },
  {
   "cell_type": "code",
   "execution_count": null,
   "metadata": {
    "colab": {
     "base_uri": "https://localhost:8080/",
     "height": 485
    },
    "colab_type": "code",
    "id": "c6IXDeNUZWOQ",
    "outputId": "07ac3172-babc-45c6-d68c-debc8a71e936"
   },
   "outputs": [],
   "source": [
    "plt.figure(figsize=(8,6))\n",
    "sns.lineplot(x= 'year', y = 'sale_dollars', data=x, hue='category_name')\n",
    " \n",
    "# Rotate x-labels\n",
    "plt.xticks(rotation=-45)"
   ]
  },
  {
   "cell_type": "markdown",
   "metadata": {
    "colab_type": "text",
    "id": "4HDppBtDZWOT"
   },
   "source": [
    "## Drill deeper into the top selling categories - Canadian Whiskey"
   ]
  },
  {
   "cell_type": "code",
   "execution_count": null,
   "metadata": {
    "colab": {},
    "colab_type": "code",
    "id": "_qxDgnWnZWOT"
   },
   "outputs": [],
   "source": [
    "Can_whiskies_items = liquor_sales[liquor_sales['category_name'] == 'Canadian Whiskies']"
   ]
  },
  {
   "cell_type": "code",
   "execution_count": null,
   "metadata": {
    "colab": {},
    "colab_type": "code",
    "id": "l7i0yQt4ZWOV"
   },
   "outputs": [],
   "source": [
    "Can_whiskies_items['item_description'] = Can_whiskies_items['item_description'].str.lower().str.title()"
   ]
  },
  {
   "cell_type": "code",
   "execution_count": null,
   "metadata": {
    "colab": {
     "base_uri": "https://localhost:8080/",
     "height": 204
    },
    "colab_type": "code",
    "id": "Axe9NonzZWOW",
    "outputId": "e1f95da8-504f-4aac-c5a6-45d3db57c010"
   },
   "outputs": [],
   "source": [
    "Can_whiskies_items.groupby(['item_description'])[['bottles_sold', 'sale_dollars']]\\\n",
    ".sum().sort_values(by = ['bottles_sold', 'sale_dollars'], ascending = False).reset_index().head(5)"
   ]
  },
  {
   "cell_type": "code",
   "execution_count": null,
   "metadata": {
    "colab": {},
    "colab_type": "code",
    "id": "D8HbHZJwZWOY"
   },
   "outputs": [],
   "source": [
    "Top_Whisky_items = pd.DataFrame(Can_whiskies_items[Can_whiskies_items['item_description'].isin\\\n",
    "                                      (['Black Velvet', 'Crown Royal', 'Black Velvet Toasted Caramel',\\\n",
    "                                      'Canadian Ltd Whisky','Crown Royal Regal Apple'])])\n",
    "\n",
    "Top_Whisky_items1 = Top_Whisky_items.groupby(['item_description', 'year'])[['bottles_sold', 'sale_dollars']]\\\n",
    ".sum().sort_values(by = ['item_description', 'year', 'bottles_sold']).reset_index()\n",
    "#Top_Whisky_items"
   ]
  },
  {
   "cell_type": "code",
   "execution_count": null,
   "metadata": {
    "colab": {
     "base_uri": "https://localhost:8080/",
     "height": 34
    },
    "colab_type": "code",
    "id": "HlIa302h1XKk",
    "outputId": "d9911f0c-80e3-4db6-f4f2-9149f36445c2"
   },
   "outputs": [],
   "source": [
    "len(Top_Whisky_items)"
   ]
  },
  {
   "cell_type": "markdown",
   "metadata": {
    "colab_type": "text",
    "id": "NHdNaNTDZWOa"
   },
   "source": [
    "## bottles_sold for Top 5 Canadian Whisky Items"
   ]
  },
  {
   "cell_type": "code",
   "execution_count": null,
   "metadata": {
    "colab": {
     "base_uri": "https://localhost:8080/",
     "height": 585
    },
    "colab_type": "code",
    "id": "Aie5CWTaZWOa",
    "outputId": "5d6ae51b-cf1c-45fa-ef6a-812463cde9a1",
    "scrolled": true
   },
   "outputs": [],
   "source": [
    "g = sns.FacetGrid(Top_Whisky_items, col=\"item_description\", col_wrap = 3, height=4)\n",
    "g.map(sns.pointplot, \"year\", \"bottles_sold\", alpha=.1)\n",
    "g.add_legend();"
   ]
  },
  {
   "cell_type": "markdown",
   "metadata": {
    "colab_type": "text",
    "id": "yYXWfl29ZWOc"
   },
   "source": [
    "## Sales for Top 5 Canadian Whisky Items"
   ]
  },
  {
   "cell_type": "code",
   "execution_count": null,
   "metadata": {
    "colab": {
     "base_uri": "https://localhost:8080/",
     "height": 585
    },
    "colab_type": "code",
    "id": "FyqAGHDcZWOc",
    "outputId": "13f8e633-677b-41c8-f2ad-e530a4fabd49",
    "scrolled": true
   },
   "outputs": [],
   "source": [
    "b = sns.FacetGrid(Top_Whisky_items, col=\"item_description\", col_wrap = 3, height=4)\n",
    "b.map(sns.pointplot, \"year\", \"sale_dollars\", alpha=.1)\n",
    "b.add_legend();"
   ]
  },
  {
   "cell_type": "markdown",
   "metadata": {
    "colab_type": "text",
    "id": "QLgnblphZWOe"
   },
   "source": [
    "## Average Markup for Canadian Whisky Items\n"
   ]
  },
  {
   "cell_type": "code",
   "execution_count": null,
   "metadata": {
    "colab": {},
    "colab_type": "code",
    "id": "O-UxuXrWZWOe"
   },
   "outputs": [],
   "source": [
    "Top_Whisky_items['Average_Markup'] = ((Top_Whisky_items['state_bottle_retail'] - Top_Whisky_items['state_bottle_cost'])/Top_Whisky_items['bottles_sold'])/(Top_Whisky_items['state_bottle_cost']/Top_Whisky_items['bottles_sold'])"
   ]
  },
  {
   "cell_type": "code",
   "execution_count": null,
   "metadata": {
    "colab": {
     "base_uri": "https://localhost:8080/",
     "height": 394
    },
    "colab_type": "code",
    "id": "xZ1ZfkzdZWOg",
    "outputId": "f00181a3-00f5-4fff-8363-e55c9c8ea3ca"
   },
   "outputs": [],
   "source": [
    "Top_Whisky_items.head()"
   ]
  },
  {
   "cell_type": "code",
   "execution_count": null,
   "metadata": {
    "colab": {
     "base_uri": "https://localhost:8080/",
     "height": 204
    },
    "colab_type": "code",
    "id": "VGN78EnqZWOh",
    "outputId": "df961785-7503-44ee-c4de-51de4f1e1de8"
   },
   "outputs": [],
   "source": [
    "Top_Whisky_Markup = Top_Whisky_items.groupby(['item_description'])[['Average_Markup']]\\\n",
    ".sum().sort_values(by = ['Average_Markup'], ascending = False).reset_index()\n",
    "\n",
    "Top_Whisky_Markup"
   ]
  }
 ],
 "metadata": {
  "colab": {
   "include_colab_link": true,
   "name": "EDA_Iowa_Liquor_Sales.ipynb",
   "provenance": [],
   "toc_visible": true
  },
  "kernelspec": {
   "display_name": "DL",
   "language": "python",
   "name": "dl"
  },
  "language_info": {
   "codemirror_mode": {
    "name": "ipython",
    "version": 3
   },
   "file_extension": ".py",
   "mimetype": "text/x-python",
   "name": "python",
   "nbconvert_exporter": "python",
   "pygments_lexer": "ipython3",
   "version": "3.8.12"
  }
 },
 "nbformat": 4,
 "nbformat_minor": 1
}
