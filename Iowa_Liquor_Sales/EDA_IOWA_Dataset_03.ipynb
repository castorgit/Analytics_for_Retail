{
 "cells": [
  {
   "cell_type": "markdown",
   "id": "08f9ca05",
   "metadata": {},
   "source": [
    "## EDA IOWA Dataset 03 - Fixing Missing Values in Counties\n",
    "\n",
    "**Status:** PUBLIC Distribution <br>\n",
    "\n",
    "**Author:** Jaume Manero IE<br>\n",
    "**Date created:** 2021/02/1<br>\n",
    "**Last modified:** 2024/01/18 <br>\n",
    "**Description:** Fixing missing values\n",
    "\n",
    "The original dataset has many missing values in the county. This is an example on how to fix it"
   ]
  },
  {
   "cell_type": "code",
   "execution_count": 1,
   "id": "bbf84bd4",
   "metadata": {},
   "outputs": [],
   "source": [
    "import pandas as pd\n",
    "import numpy as np\n",
    "import time\n",
    "%matplotlib inline"
   ]
  },
  {
   "cell_type": "code",
   "execution_count": 2,
   "id": "729769a8",
   "metadata": {},
   "outputs": [],
   "source": [
    "def seconds_to_hms(seconds):\n",
    "    hours = seconds // 3600\n",
    "    minutes = (seconds % 3600) // 60\n",
    "    seconds = seconds % 60\n",
    "    return hours, minutes, seconds"
   ]
  },
  {
   "cell_type": "code",
   "execution_count": 3,
   "id": "534bf862",
   "metadata": {},
   "outputs": [
    {
     "name": "stderr",
     "output_type": "stream",
     "text": [
      "C:\\Users\\manero\\AppData\\Local\\Temp\\ipykernel_32252\\3752131120.py:6: DtypeWarning: Columns (6,14) have mixed types. Specify dtype option on import or set low_memory=False.\n",
      "  df = pd.read_csv(file, header=0)\n"
     ]
    }
   ],
   "source": [
    "start_time = time.time()   # it takes some time we have almost 30 million rows\n",
    "\n",
    "file = 'Iowa_Liquor_Sales.csv'\n",
    "file = 'Iowa_Liquor_Sales_NOV23.csv'\n",
    "#file = 'Iowa_Liquor_Sales_NOV23(cleaned).csv'\n",
    "df = pd.read_csv(file, header=0)"
   ]
  },
  {
   "cell_type": "code",
   "execution_count": 4,
   "id": "ea12d1cc",
   "metadata": {},
   "outputs": [
    {
     "data": {
      "text/plain": [
       "Invoice/Item Number       object\n",
       "Date                      object\n",
       "Store Number               int64\n",
       "Store Name                object\n",
       "Address                   object\n",
       "City                      object\n",
       "Zip Code                  object\n",
       "Store Location            object\n",
       "County Number            float64\n",
       "County                    object\n",
       "Category                 float64\n",
       "Category Name             object\n",
       "Vendor Number            float64\n",
       "Vendor Name               object\n",
       "Item Number               object\n",
       "Item Description          object\n",
       "Pack                       int64\n",
       "Bottle Volume (ml)         int64\n",
       "State Bottle Cost        float64\n",
       "State Bottle Retail      float64\n",
       "Bottles Sold               int64\n",
       "Sale (Dollars)           float64\n",
       "Volume Sold (Liters)     float64\n",
       "Volume Sold (Gallons)    float64\n",
       "dtype: object"
      ]
     },
     "execution_count": 4,
     "metadata": {},
     "output_type": "execute_result"
    }
   ],
   "source": [
    "df.dtypes"
   ]
  },
  {
   "cell_type": "code",
   "execution_count": 5,
   "id": "478ccd1b",
   "metadata": {},
   "outputs": [
    {
     "data": {
      "text/plain": [
       "Index(['Invoice/Item Number', 'Date', 'Store Number', 'Store Name', 'Address',\n",
       "       'City', 'Zip Code', 'Store Location', 'County Number', 'County',\n",
       "       'Category', 'Category Name', 'Vendor Number', 'Vendor Name',\n",
       "       'Item Number', 'Item Description', 'Pack', 'Bottle Volume (ml)',\n",
       "       'State Bottle Cost', 'State Bottle Retail', 'Bottles Sold',\n",
       "       'Sale (Dollars)', 'Volume Sold (Liters)', 'Volume Sold (Gallons)'],\n",
       "      dtype='object')"
      ]
     },
     "execution_count": 5,
     "metadata": {},
     "output_type": "execute_result"
    }
   ],
   "source": [
    "df.columns"
   ]
  },
  {
   "cell_type": "code",
   "execution_count": 6,
   "id": "130512ce",
   "metadata": {},
   "outputs": [
    {
     "data": {
      "text/plain": [
       "159892"
      ]
     },
     "execution_count": 6,
     "metadata": {},
     "output_type": "execute_result"
    }
   ],
   "source": [
    "# how many missing values in County?\n",
    "sum(pd.isnull(df['County']))"
   ]
  },
  {
   "cell_type": "code",
   "execution_count": 7,
   "id": "23686ba0",
   "metadata": {},
   "outputs": [
    {
     "data": {
      "text/plain": [
       "3578185"
      ]
     },
     "execution_count": 7,
     "metadata": {},
     "output_type": "execute_result"
    }
   ],
   "source": [
    "# and in County Number?\n",
    "sum(pd.isnull(df['County Number']))"
   ]
  },
  {
   "cell_type": "code",
   "execution_count": 8,
   "id": "4da334b5",
   "metadata": {},
   "outputs": [
    {
     "data": {
      "text/plain": [
       "83156"
      ]
     },
     "execution_count": 8,
     "metadata": {},
     "output_type": "execute_result"
    }
   ],
   "source": [
    "# How many empty zip codes?\n",
    "sum(pd.isnull(df['Zip Code']))"
   ]
  },
  {
   "cell_type": "code",
   "execution_count": 9,
   "id": "a30844b4",
   "metadata": {},
   "outputs": [
    {
     "data": {
      "text/plain": [
       "County  County Number\n",
       "False   False            24132843.0\n",
       "        True              3418293.0\n",
       "True    True               159892.0\n",
       "dtype: float64"
      ]
     },
     "execution_count": 9,
     "metadata": {},
     "output_type": "execute_result"
    }
   ],
   "source": [
    "# in Both?\n",
    "\n",
    "df.isna().pivot_table(index='County', columns='County Number', aggfunc='size').stack()"
   ]
  },
  {
   "cell_type": "code",
   "execution_count": 10,
   "id": "8081e63b",
   "metadata": {},
   "outputs": [
    {
     "data": {
      "text/plain": [
       "County  Zip Code\n",
       "False   False       27551114\n",
       "        True              22\n",
       "True    False          76758\n",
       "        True           83134\n",
       "dtype: int64"
      ]
     },
     "execution_count": 10,
     "metadata": {},
     "output_type": "execute_result"
    }
   ],
   "source": [
    "# Conclusion Empty County has Empty County Number\n",
    "# Do they have Zip Code?\n",
    "df.isna().pivot_table(index='County', columns='Zip Code', aggfunc='size').stack()"
   ]
  },
  {
   "cell_type": "code",
   "execution_count": 11,
   "id": "7bee0d4c",
   "metadata": {},
   "outputs": [
    {
     "name": "stdout",
     "output_type": "stream",
     "text": [
      "POLK\n"
     ]
    }
   ],
   "source": [
    "# We have 83134 empty zip codes. I think we can delete them\n",
    "# Lets create County from ZIP CODE\n",
    "# We can use a package uszipcode\n",
    "import uszipcode\n",
    "from uszipcode import SearchEngine\n",
    "\n",
    "search = SearchEngine()\n",
    "zipcode = search.by_zipcode(\"57001\")\n",
    "zipcode.county\n",
    "\n",
    "# we create a small function that returns county from ZIPCODE\n",
    "# Careful We create County in uppercase without the word county\n",
    "# We found some zip codes that are not in the package (we don't know why) we filter them one by one. \n",
    "# Three of them are possibly legacy\n",
    "def reverseZIP(zipcode):\n",
    "    if pd.isna(zipcode):\n",
    "        return zipcode\n",
    "    try:\n",
    "       zipcode = int(zipcode)\n",
    "    except:\n",
    "       return np.nan\n",
    "    z = search.by_zipcode(zipcode)\n",
    "\n",
    "    if z is None:\n",
    "        if zipcode == 50015:\n",
    "            return 'POLK'\n",
    "        elif zipcode == 50300:\n",
    "           return 'DES MOINES'\n",
    "        elif zipcode == 52084:\n",
    "           return 'DES MOINES'   # careful confirm it\n",
    "        elif zipcode == 52087:\n",
    "           return 'DUBUQUE'\n",
    "        elif zipcode == 52303:\n",
    "           return 'LINN'\n",
    "        elif zipcode == 52671:\n",
    "           return 'DES MOINES'   # not confirmed\n",
    "        elif zipcode == 57222:\n",
    "           return 'DES MOINES'   # not confirmed\n",
    "    else:\n",
    "        county = z.county\n",
    "        county = county.replace(' County','')\n",
    "        return county.upper()\n",
    "\n",
    "print (reverseZIP(50015))"
   ]
  },
  {
   "cell_type": "code",
   "execution_count": 12,
   "id": "2aaf0147",
   "metadata": {},
   "outputs": [
    {
     "name": "stdout",
     "output_type": "stream",
     "text": [
      "MINNEHAHA\n"
     ]
    }
   ],
   "source": [
    "print (reverseZIP(57101))"
   ]
  },
  {
   "cell_type": "code",
   "execution_count": 13,
   "id": "82f307d3",
   "metadata": {},
   "outputs": [],
   "source": [
    "# now we replace the county name in the WHOLE dataset from its ZIP\n",
    "# we do that because in this way we assure that some changes of County boundaries are avoided \n",
    "# and then the whole dataset is consistent"
   ]
  },
  {
   "cell_type": "code",
   "execution_count": 14,
   "id": "e84a0574",
   "metadata": {},
   "outputs": [],
   "source": [
    "df['New County'] = df['Zip Code'].apply(reverseZIP)"
   ]
  },
  {
   "cell_type": "code",
   "execution_count": 15,
   "id": "cc770099",
   "metadata": {},
   "outputs": [
    {
     "name": "stdout",
     "output_type": "stream",
     "text": [
      "Total time of Part 1 (ReverseZIP) : 10402.504499197006 seconds\n",
      "Total time of Part 1 (ReverseZIP):2.0 hours, 53.0 minutes, 22.504499197006226 seconds\n"
     ]
    }
   ],
   "source": [
    "# time keeping\n",
    "end_time_part1= time.time()\n",
    "elapsed_time_p1 = end_time_part1 - start_time\n",
    "print(f\"Total time of Part 1 (ReverseZIP) : {elapsed_time_p1} seconds\")\n",
    "\n",
    "hours, minutes, seconds = seconds_to_hms(elapsed_time_p1)\n",
    "\n",
    "print(f\"Total time of Part 1 (ReverseZIP):{hours} hours, {minutes} minutes, {seconds} seconds\")"
   ]
  },
  {
   "cell_type": "code",
   "execution_count": 16,
   "id": "0a43824a",
   "metadata": {},
   "outputs": [
    {
     "name": "stdout",
     "output_type": "stream",
     "text": [
      "Number of nulls now in County 91096\n",
      "Number of rows: 27619932\n"
     ]
    }
   ],
   "source": [
    "# Now in the column New County we have the correct county and we have very few missing values\n",
    "# You can proceed to delete the rows that are with Nan/Nulls as we don't have information (or is not worth to find it)\n",
    "print('Number of nulls now in County', sum(pd.isnull(df['New County'])))\n",
    "# The instruction for deletion is:\n",
    "df = df.dropna(subset=['New County'])\n",
    "# number of rows in the final dataframe\n",
    "num_rows = len(df)\n",
    "print(f\"Number of rows: {num_rows}\")"
   ]
  },
  {
   "cell_type": "code",
   "execution_count": 17,
   "id": "d13f384a",
   "metadata": {},
   "outputs": [
    {
     "name": "stdout",
     "output_type": "stream",
     "text": [
      "['ADAIR', 'ADAMS', 'ALLAMAKEE', 'APPANOOSE', 'AUDUBON', 'BENTON', 'BLACK HAWK', 'BOONE', 'BREMER', 'BUCHANAN', 'BUENA VISTA', 'BUTLER', 'CALHOUN', 'CARROLL', 'CASS', 'CEDAR', 'CERRO GORDO', 'CHEROKEE', 'CHICKASAW', 'CLARKE', 'CLAY', 'CLAYTON', 'CLINTON', 'CRAWFORD', 'DALLAS', 'DAVIS', 'DECATUR', 'DELAWARE', 'DES MOINES', 'DICKINSON', 'DUBUQUE', 'EL PASO', 'EMMET', 'FAYETTE', 'FLOYD', 'FRANKLIN', 'FREMONT', 'GREENE', 'GRUNDY', 'GUTHRIE', 'HAMILTON', 'HANCOCK', 'HARDIN', 'HARRISON', 'HENRY', 'HOWARD', 'HUMBOLDT', 'IDA', 'IOWA', 'JACKSON', 'JASPER', 'JEFFERSON', 'JOHNSON', 'JONES', 'KANDIYOHI', 'KEOKUK', 'KOSSUTH', 'LEE', 'LINN', 'LOUISA', 'LUCAS', 'LYON', 'MADISON', 'MAHASKA', 'MARION', 'MARSHALL', 'MILLS', 'MITCHELL', 'MONONA', 'MONROE', 'MONTGOMERY', 'MUSCATINE', \"O'BRIEN\", 'OSCEOLA', 'PAGE', 'PALO ALTO', 'PLYMOUTH', 'POCAHONTAS', 'POLK', 'POTTAWATTAMIE', 'POWESHIEK', 'RINGGOLD', 'SAC', 'SCOTT', 'SHELBY', 'SIOUX', 'STORY', 'TAMA', 'TAYLOR', 'UNION', 'VAN BUREN', 'WAPELLO', 'WARREN', 'WASHINGTON', 'WAYNE', 'WEBSTER', 'WINNEBAGO', 'WINNESHIEK', 'WOODBURY', 'WORTH', 'WRIGHT']\n"
     ]
    },
    {
     "data": {
      "text/plain": [
       "New County\n",
       "POLK          5115382\n",
       "LINN          2292136\n",
       "SCOTT         1675045\n",
       "BLACK HAWK    1532213\n",
       "JOHNSON       1386502\n",
       "               ...   \n",
       "DAVIS           19797\n",
       "RINGGOLD        18332\n",
       "FREMONT          7517\n",
       "KANDIYOHI        1754\n",
       "EL PASO             2\n",
       "Name: count, Length: 101, dtype: int64"
      ]
     },
     "execution_count": 17,
     "metadata": {},
     "output_type": "execute_result"
    }
   ],
   "source": [
    "lst = df['New County'].tolist()\n",
    "print(np.unique(lst).tolist())\n",
    "df['New County'].value_counts()"
   ]
  },
  {
   "cell_type": "code",
   "execution_count": 18,
   "id": "147241e4",
   "metadata": {},
   "outputs": [],
   "source": [
    "# Now we will create a new row with the FIPS code we load a .csv I created with FIPS-NAME\n",
    "# However there are a couple of format issues. In the table, Counties are in Capital+lowercase, but in new county are in uppercase\n",
    "# FIPS is a sequential number but we want the structure with the IOWA prefix (19) (instead of 1 we want 19001)\n",
    "# Easy, we just create another function that does the transformation\n",
    "# Careful, There are duplicates as there are IOWA and IOWA COUNTY in the file"
   ]
  },
  {
   "cell_type": "code",
   "execution_count": 19,
   "id": "a8a85d47",
   "metadata": {},
   "outputs": [],
   "source": [
    "file = 'Iowa_FIPS.csv'\n",
    "fipsdf = pd.read_csv(file,names=['FIPS','County'], header=0)"
   ]
  },
  {
   "cell_type": "code",
   "execution_count": 20,
   "id": "c93065c3",
   "metadata": {},
   "outputs": [
    {
     "data": {
      "text/html": [
       "<div>\n",
       "<style scoped>\n",
       "    .dataframe tbody tr th:only-of-type {\n",
       "        vertical-align: middle;\n",
       "    }\n",
       "\n",
       "    .dataframe tbody tr th {\n",
       "        vertical-align: top;\n",
       "    }\n",
       "\n",
       "    .dataframe thead th {\n",
       "        text-align: right;\n",
       "    }\n",
       "</style>\n",
       "<table border=\"1\" class=\"dataframe\">\n",
       "  <thead>\n",
       "    <tr style=\"text-align: right;\">\n",
       "      <th></th>\n",
       "      <th>FIPS</th>\n",
       "      <th>County</th>\n",
       "    </tr>\n",
       "  </thead>\n",
       "  <tbody>\n",
       "    <tr>\n",
       "      <th>0</th>\n",
       "      <td>1</td>\n",
       "      <td>Adair</td>\n",
       "    </tr>\n",
       "    <tr>\n",
       "      <th>1</th>\n",
       "      <td>3</td>\n",
       "      <td>Adams</td>\n",
       "    </tr>\n",
       "    <tr>\n",
       "      <th>2</th>\n",
       "      <td>5</td>\n",
       "      <td>Allamakee</td>\n",
       "    </tr>\n",
       "    <tr>\n",
       "      <th>3</th>\n",
       "      <td>7</td>\n",
       "      <td>Appanoose</td>\n",
       "    </tr>\n",
       "    <tr>\n",
       "      <th>4</th>\n",
       "      <td>9</td>\n",
       "      <td>Audubon</td>\n",
       "    </tr>\n",
       "    <tr>\n",
       "      <th>...</th>\n",
       "      <td>...</td>\n",
       "      <td>...</td>\n",
       "    </tr>\n",
       "    <tr>\n",
       "      <th>98</th>\n",
       "      <td>197</td>\n",
       "      <td>Wrigh</td>\n",
       "    </tr>\n",
       "    <tr>\n",
       "      <th>99</th>\n",
       "      <td>197</td>\n",
       "      <td>Wright</td>\n",
       "    </tr>\n",
       "    <tr>\n",
       "      <th>100</th>\n",
       "      <td>95</td>\n",
       "      <td>Iowa</td>\n",
       "    </tr>\n",
       "    <tr>\n",
       "      <th>101</th>\n",
       "      <td>999</td>\n",
       "      <td>Kandiyohi</td>\n",
       "    </tr>\n",
       "    <tr>\n",
       "      <th>102</th>\n",
       "      <td>999</td>\n",
       "      <td>El Paso</td>\n",
       "    </tr>\n",
       "  </tbody>\n",
       "</table>\n",
       "<p>103 rows × 2 columns</p>\n",
       "</div>"
      ],
      "text/plain": [
       "     FIPS     County\n",
       "0       1      Adair\n",
       "1       3      Adams\n",
       "2       5  Allamakee\n",
       "3       7  Appanoose\n",
       "4       9    Audubon\n",
       "..    ...        ...\n",
       "98    197      Wrigh\n",
       "99    197     Wright\n",
       "100    95       Iowa\n",
       "101   999  Kandiyohi\n",
       "102   999    El Paso\n",
       "\n",
       "[103 rows x 2 columns]"
      ]
     },
     "execution_count": 20,
     "metadata": {},
     "output_type": "execute_result"
    }
   ],
   "source": [
    "fipsdf"
   ]
  },
  {
   "cell_type": "code",
   "execution_count": 21,
   "id": "1eaa4238",
   "metadata": {},
   "outputs": [
    {
     "data": {
      "text/plain": [
       "'19095'"
      ]
     },
     "execution_count": 21,
     "metadata": {},
     "output_type": "execute_result"
    }
   ],
   "source": [
    "# FIPS format is 19(IOWA)+County number(3 digits)\n",
    "#\n",
    "# This is not an efficient function. We could speed it up by loading the table in memory or using a dictionary\n",
    "# Wanna try to modify it?\n",
    "# \n",
    "def FIPS_from_county(name):\n",
    "    name = name.lower()\n",
    "    name = name.title() # Capitalizes all words in a string\n",
    "    try:\n",
    "       x = fipsdf[fipsdf.County == name].FIPS.iloc[0]\n",
    "    except:\n",
    "       print(name)\n",
    "       stop\n",
    "    x = str(x)\n",
    "    x = x.zfill(5)\n",
    "    x = \"19\" + x[2:]\n",
    "    return x\n",
    "\n",
    "FIPS_from_county('Iowa')"
   ]
  },
  {
   "cell_type": "code",
   "execution_count": 22,
   "id": "55198b53",
   "metadata": {
    "scrolled": true
   },
   "outputs": [],
   "source": [
    "df['New FIPS'] = df['New County'].apply(FIPS_from_county)"
   ]
  },
  {
   "cell_type": "code",
   "execution_count": 23,
   "id": "c52af0cd",
   "metadata": {},
   "outputs": [
    {
     "data": {
      "text/plain": [
       "27619932"
      ]
     },
     "execution_count": 23,
     "metadata": {},
     "output_type": "execute_result"
    }
   ],
   "source": [
    "len(df)"
   ]
  },
  {
   "cell_type": "code",
   "execution_count": 24,
   "id": "ec1818ab",
   "metadata": {},
   "outputs": [],
   "source": [
    "df.to_csv('Iowa_Liquor_Sales_NOV23(cleaned).csv')"
   ]
  },
  {
   "cell_type": "code",
   "execution_count": 25,
   "id": "5f093a54",
   "metadata": {},
   "outputs": [
    {
     "name": "stdout",
     "output_type": "stream",
     "text": [
      "Total time for part 2 FIPS from county num : 8945.176299095154 seconds\n",
      "Total time for part 2 FIPS from county num : 8945.176299095154 seconds\n",
      "Total time of this program : 19347.68079829216 seconds\n",
      "Total time of this program:5.0 hours, 22.0 minutes, 27.680798292160034 seconds\n"
     ]
    }
   ],
   "source": [
    "# time keeping\n",
    "end_time= time.time()\n",
    "elapsed_time_part2 = end_time - end_time_part1\n",
    "elapsed_time = end_time - start_time\n",
    "print(f\"Total time for part 2 FIPS from county num : {elapsed_time_part2} seconds\")\n",
    "hours, minutes, seconds = seconds_to_hms(elapsed_time_part2)\n",
    "print(f\"Total time for part 2 :{hours} hours, {minutes} minutes, {seconds} seconds\")\n",
    "\n",
    "\n",
    "def seconds_to_hms(seconds):\n",
    "    hours = seconds // 3600\n",
    "    minutes = (seconds % 3600) // 60\n",
    "    seconds = seconds % 60\n",
    "    return hours, minutes, seconds\n",
    "\n",
    "hours, minutes, seconds = seconds_to_hms(elapsed_time)\n",
    "\n",
    "print(f\"Total time of this program : {elapsed_time} seconds\")\n",
    "print(f\"Total time of this program:{hours} hours, {minutes} minutes, {seconds} seconds\")"
   ]
  },
  {
   "cell_type": "code",
   "execution_count": 26,
   "id": "1fb1c511",
   "metadata": {},
   "outputs": [],
   "source": [
    "# There is a ZIP Code that has some wrong data, the 999, because Counties in ElPaso or Minessota do not make sense. \n",
    "# This happens often in large datasets where some elements of data are clearly wrong.\n",
    "# My recommendation would be to delete those rows\n",
    "# we have over 27 million rows with County on it"
   ]
  },
  {
   "cell_type": "code",
   "execution_count": 27,
   "id": "6b9c9c22",
   "metadata": {},
   "outputs": [
    {
     "name": "stdout",
     "output_type": "stream",
     "text": [
      "-----\n",
      "numpy               1.26.0\n",
      "pandas              2.0.3\n",
      "session_info        1.0.0\n",
      "uszipcode           1.0.1\n",
      "-----\n",
      "IPython             8.15.0\n",
      "jupyter_client      8.1.0\n",
      "jupyter_core        5.3.0\n",
      "-----\n",
      "Python 3.10.13 | packaged by Anaconda, Inc. | (main, Sep 11 2023, 13:15:57) [MSC v.1916 64 bit (AMD64)]\n",
      "Windows-10-10.0.22631-SP0\n",
      "-----\n",
      "Session information updated at 2024-01-22 00:36\n"
     ]
    }
   ],
   "source": [
    "import session_info\n",
    "session_info.show(html=False)"
   ]
  }
 ],
 "metadata": {
  "kernelspec": {
   "display_name": "tf",
   "language": "python",
   "name": "tf"
  },
  "language_info": {
   "codemirror_mode": {
    "name": "ipython",
    "version": 3
   },
   "file_extension": ".py",
   "mimetype": "text/x-python",
   "name": "python",
   "nbconvert_exporter": "python",
   "pygments_lexer": "ipython3",
   "version": "3.10.13"
  }
 },
 "nbformat": 4,
 "nbformat_minor": 5
}
