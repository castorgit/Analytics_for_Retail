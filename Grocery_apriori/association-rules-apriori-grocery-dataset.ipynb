{
 "cells": [
  {
   "cell_type": "code",
   "execution_count": null,
   "metadata": {
    "papermill": {
     "duration": 0.056077,
     "end_time": "2020-10-27T11:32:05.107677",
     "exception": false,
     "start_time": "2020-10-27T11:32:05.051600",
     "status": "completed"
    },
    "tags": []
   },
   "outputs": [],
   "source": [
    "# dataset : Kaggle  https://www.kaggle.com/shrikantuppin/association-rules-apriori-grocery-dataset/data"
   ]
  },
  {
   "cell_type": "code",
   "execution_count": 1,
   "metadata": {
    "execution": {
     "iopub.execute_input": "2020-10-27T11:32:05.222689Z",
     "iopub.status.busy": "2020-10-27T11:32:05.221817Z",
     "iopub.status.idle": "2020-10-27T11:32:06.355779Z",
     "shell.execute_reply": "2020-10-27T11:32:06.355057Z"
    },
    "papermill": {
     "duration": 1.194426,
     "end_time": "2020-10-27T11:32:06.355909",
     "exception": false,
     "start_time": "2020-10-27T11:32:05.161483",
     "status": "completed"
    },
    "tags": []
   },
   "outputs": [],
   "source": [
    "import numpy as np\n",
    "import pandas as pd \n",
    "\n",
    "import matplotlib.pyplot as plt \n",
    "import seaborn as sns\n",
    "\n",
    "import warnings\n",
    "warnings.filterwarnings('ignore')"
   ]
  },
  {
   "cell_type": "markdown",
   "metadata": {
    "papermill": {
     "duration": 0.053623,
     "end_time": "2020-10-27T11:32:06.467729",
     "exception": false,
     "start_time": "2020-10-27T11:32:06.414106",
     "status": "completed"
    },
    "tags": []
   },
   "source": [
    "# Step 2: Dataset Loading & Preprocessing"
   ]
  },
  {
   "cell_type": "code",
   "execution_count": 4,
   "metadata": {
    "execution": {
     "iopub.execute_input": "2020-10-27T11:32:06.583787Z",
     "iopub.status.busy": "2020-10-27T11:32:06.582619Z",
     "iopub.status.idle": "2020-10-27T11:32:06.607577Z",
     "shell.execute_reply": "2020-10-27T11:32:06.606725Z"
    },
    "papermill": {
     "duration": 0.086449,
     "end_time": "2020-10-27T11:32:06.607719",
     "exception": false,
     "start_time": "2020-10-27T11:32:06.521270",
     "status": "completed"
    },
    "tags": []
   },
   "outputs": [],
   "source": [
    "dataset = pd.read_csv(\"./groceries.csv\", sep=\";\", header= None)\n",
    "\n",
    "# when we set header=None it will consider as csv file which has no header."
   ]
  },
  {
   "cell_type": "code",
   "execution_count": 5,
   "metadata": {
    "execution": {
     "iopub.execute_input": "2020-10-27T11:32:06.730650Z",
     "iopub.status.busy": "2020-10-27T11:32:06.729759Z",
     "iopub.status.idle": "2020-10-27T11:32:06.739357Z",
     "shell.execute_reply": "2020-10-27T11:32:06.738540Z"
    },
    "papermill": {
     "duration": 0.077858,
     "end_time": "2020-10-27T11:32:06.739491",
     "exception": false,
     "start_time": "2020-10-27T11:32:06.661633",
     "status": "completed"
    },
    "tags": []
   },
   "outputs": [
    {
     "data": {
      "text/html": [
       "<div>\n",
       "<style scoped>\n",
       "    .dataframe tbody tr th:only-of-type {\n",
       "        vertical-align: middle;\n",
       "    }\n",
       "\n",
       "    .dataframe tbody tr th {\n",
       "        vertical-align: top;\n",
       "    }\n",
       "\n",
       "    .dataframe thead th {\n",
       "        text-align: right;\n",
       "    }\n",
       "</style>\n",
       "<table border=\"1\" class=\"dataframe\">\n",
       "  <thead>\n",
       "    <tr style=\"text-align: right;\">\n",
       "      <th></th>\n",
       "      <th>0</th>\n",
       "    </tr>\n",
       "  </thead>\n",
       "  <tbody>\n",
       "    <tr>\n",
       "      <th>0</th>\n",
       "      <td>citrus fruit,semi-finished bread,margarine,rea...</td>\n",
       "    </tr>\n",
       "    <tr>\n",
       "      <th>1</th>\n",
       "      <td>tropical fruit,yogurt,coffee</td>\n",
       "    </tr>\n",
       "    <tr>\n",
       "      <th>2</th>\n",
       "      <td>whole milk</td>\n",
       "    </tr>\n",
       "    <tr>\n",
       "      <th>3</th>\n",
       "      <td>pip fruit,yogurt,cream cheese ,meat spreads</td>\n",
       "    </tr>\n",
       "    <tr>\n",
       "      <th>4</th>\n",
       "      <td>other vegetables,whole milk,condensed milk,lon...</td>\n",
       "    </tr>\n",
       "  </tbody>\n",
       "</table>\n",
       "</div>"
      ],
      "text/plain": [
       "                                                   0\n",
       "0  citrus fruit,semi-finished bread,margarine,rea...\n",
       "1                       tropical fruit,yogurt,coffee\n",
       "2                                         whole milk\n",
       "3        pip fruit,yogurt,cream cheese ,meat spreads\n",
       "4  other vegetables,whole milk,condensed milk,lon..."
      ]
     },
     "execution_count": 5,
     "metadata": {},
     "output_type": "execute_result"
    }
   ],
   "source": [
    "dataset.head()"
   ]
  },
  {
   "cell_type": "markdown",
   "metadata": {
    "papermill": {
     "duration": 0.05465,
     "end_time": "2020-10-27T11:32:06.850510",
     "exception": false,
     "start_time": "2020-10-27T11:32:06.795860",
     "status": "completed"
    },
    "tags": []
   },
   "source": [
    "for above output:\n",
    "\n",
    "* Each row is one transction.\n",
    "\n",
    "* Products in each row is nothing but items purchased by buyer/customer."
   ]
  },
  {
   "cell_type": "markdown",
   "metadata": {
    "papermill": {
     "duration": 0.054896,
     "end_time": "2020-10-27T11:32:06.962111",
     "exception": false,
     "start_time": "2020-10-27T11:32:06.907215",
     "status": "completed"
    },
    "tags": []
   },
   "source": [
    " ### Finding out all unique items available at grocery."
   ]
  },
  {
   "cell_type": "code",
   "execution_count": 6,
   "metadata": {
    "execution": {
     "iopub.execute_input": "2020-10-27T11:32:09.776673Z",
     "iopub.status.busy": "2020-10-27T11:32:09.360791Z",
     "iopub.status.idle": "2020-10-27T11:32:11.135671Z",
     "shell.execute_reply": "2020-10-27T11:32:11.134712Z"
    },
    "papermill": {
     "duration": 4.116778,
     "end_time": "2020-10-27T11:32:11.135888",
     "exception": false,
     "start_time": "2020-10-27T11:32:07.019110",
     "status": "completed"
    },
    "tags": []
   },
   "outputs": [],
   "source": [
    "unique_items_list = []\n",
    "\n",
    "# for each index it will iter row by row\n",
    "for index, row in dataset.iterrows():  \n",
    "    \n",
    "    # splitting items with , and creating a new list for row & it will going add it agian \n",
    "    # ...item_series list for each iteration..so item_series will be list of lists..\n",
    "    items_series = list(row.str.split(','))\n",
    "    \n",
    "    \n",
    "    # agian reading each list elements from item_Series which is big list as mentioned above code\n",
    "    for each_row_list in items_series:\n",
    "        \n",
    "        # iterating each item from each_row_lists\n",
    "        for item in each_row_list:\n",
    "            \n",
    "            # for first iteration..unique_items_list is empty so first item directly append to it.\n",
    "            #...from next onwards..it will start to check condition 'not in'\n",
    "            #....& if item not found in unique_items_list list then it will append to it.\n",
    "            #......finally we will get one unique item list..\n",
    "            if item not in unique_items_list:\n",
    "                unique_items_list.append(item)"
   ]
  },
  {
   "cell_type": "markdown",
   "metadata": {
    "papermill": {
     "duration": 0.055182,
     "end_time": "2020-10-27T11:32:11.250615",
     "exception": false,
     "start_time": "2020-10-27T11:32:11.195433",
     "status": "completed"
    },
    "tags": []
   },
   "source": [
    " ### Now, Generating empty Dataframe with unique_items_list elements as column names."
   ]
  },
  {
   "cell_type": "code",
   "execution_count": 7,
   "metadata": {
    "execution": {
     "iopub.execute_input": "2020-10-27T11:32:11.381618Z",
     "iopub.status.busy": "2020-10-27T11:32:11.380775Z",
     "iopub.status.idle": "2020-10-27T11:32:11.384265Z",
     "shell.execute_reply": "2020-10-27T11:32:11.383620Z"
    },
    "papermill": {
     "duration": 0.078471,
     "end_time": "2020-10-27T11:32:11.384401",
     "exception": false,
     "start_time": "2020-10-27T11:32:11.305930",
     "status": "completed"
    },
    "tags": []
   },
   "outputs": [],
   "source": [
    "df_apriori = pd.DataFrame(columns=unique_items_list)"
   ]
  },
  {
   "cell_type": "code",
   "execution_count": 8,
   "metadata": {
    "execution": {
     "iopub.execute_input": "2020-10-27T11:32:11.515869Z",
     "iopub.status.busy": "2020-10-27T11:32:11.514882Z",
     "iopub.status.idle": "2020-10-27T11:32:11.520511Z",
     "shell.execute_reply": "2020-10-27T11:32:11.519753Z"
    },
    "papermill": {
     "duration": 0.079901,
     "end_time": "2020-10-27T11:32:11.520643",
     "exception": false,
     "start_time": "2020-10-27T11:32:11.440742",
     "status": "completed"
    },
    "tags": []
   },
   "outputs": [
    {
     "data": {
      "text/html": [
       "<div>\n",
       "<style scoped>\n",
       "    .dataframe tbody tr th:only-of-type {\n",
       "        vertical-align: middle;\n",
       "    }\n",
       "\n",
       "    .dataframe tbody tr th {\n",
       "        vertical-align: top;\n",
       "    }\n",
       "\n",
       "    .dataframe thead th {\n",
       "        text-align: right;\n",
       "    }\n",
       "</style>\n",
       "<table border=\"1\" class=\"dataframe\">\n",
       "  <thead>\n",
       "    <tr style=\"text-align: right;\">\n",
       "      <th></th>\n",
       "      <th>citrus fruit</th>\n",
       "      <th>semi-finished bread</th>\n",
       "      <th>margarine</th>\n",
       "      <th>ready soups</th>\n",
       "      <th>tropical fruit</th>\n",
       "      <th>yogurt</th>\n",
       "      <th>coffee</th>\n",
       "      <th>whole milk</th>\n",
       "      <th>pip fruit</th>\n",
       "      <th>cream cheese</th>\n",
       "      <th>...</th>\n",
       "      <th>baby food</th>\n",
       "      <th>pudding powder</th>\n",
       "      <th>tidbits</th>\n",
       "      <th>whisky</th>\n",
       "      <th>frozen fruits</th>\n",
       "      <th>bags</th>\n",
       "      <th>cooking chocolate</th>\n",
       "      <th>sound storage medium</th>\n",
       "      <th>kitchen utensil</th>\n",
       "      <th>preservation products</th>\n",
       "    </tr>\n",
       "  </thead>\n",
       "  <tbody>\n",
       "  </tbody>\n",
       "</table>\n",
       "<p>0 rows × 169 columns</p>\n",
       "</div>"
      ],
      "text/plain": [
       "Empty DataFrame\n",
       "Columns: [citrus fruit, semi-finished bread, margarine, ready soups, tropical fruit, yogurt, coffee, whole milk, pip fruit, cream cheese , meat spreads, other vegetables, condensed milk, long life bakery product, butter, rice, abrasive cleaner, rolls/buns, UHT-milk, bottled beer, liquor (appetizer), pot plants, cereals, white bread, bottled water, chocolate, curd, flour, dishes, beef, frankfurter, soda, chicken, sugar, fruit/vegetable juice, newspapers, packaged fruit/vegetables, specialty bar, butter milk, pastry, processed cheese, detergent, root vegetables, frozen dessert, sweet spreads, salty snack, waffles, candy, bathroom cleaner, canned beer, sausage, brown bread, shopping bags, beverages, hamburger meat, spices, hygiene articles, napkins, pork, berries, whipped/sour cream, artif. sweetener, grapes, dessert, zwieback, domestic eggs, spread cheese, misc. beverages, hard cheese, cat food, ham, turkey, baking powder, pickled vegetables, oil, chewing gum, chocolate marshmallow, ice cream, frozen vegetables, canned fish, seasonal products, curd cheese, red/blush wine, frozen potato products, specialty fat, specialty chocolate, candles, flower (seeds), sparkling wine, salt, frozen meals, canned vegetables, onions, herbs, white wine, brandy, photo/film, sliced cheese, pasta, softener, ...]\n",
       "Index: []\n",
       "\n",
       "[0 rows x 169 columns]"
      ]
     },
     "execution_count": 8,
     "metadata": {},
     "output_type": "execute_result"
    }
   ],
   "source": [
    "df_apriori"
   ]
  },
  {
   "cell_type": "code",
   "execution_count": 9,
   "metadata": {
    "execution": {
     "iopub.execute_input": "2020-10-27T11:32:11.639361Z",
     "iopub.status.busy": "2020-10-27T11:32:11.638238Z",
     "iopub.status.idle": "2020-10-27T11:32:11.641553Z",
     "shell.execute_reply": "2020-10-27T11:32:11.640907Z"
    },
    "papermill": {
     "duration": 0.064467,
     "end_time": "2020-10-27T11:32:11.641699",
     "exception": false,
     "start_time": "2020-10-27T11:32:11.577232",
     "status": "completed"
    },
    "tags": []
   },
   "outputs": [],
   "source": [
    "dataset1 =df_apriori.copy()"
   ]
  },
  {
   "cell_type": "markdown",
   "metadata": {
    "papermill": {
     "duration": 0.056197,
     "end_time": "2020-10-27T11:32:11.754631",
     "exception": false,
     "start_time": "2020-10-27T11:32:11.698434",
     "status": "completed"
    },
    "tags": []
   },
   "source": [
    " ### Sorting items from main dataset agian & assigning in respective column. "
   ]
  },
  {
   "cell_type": "code",
   "execution_count": null,
   "metadata": {
    "execution": {
     "iopub.execute_input": "2020-10-27T11:32:12.024097Z",
     "iopub.status.busy": "2020-10-27T11:32:11.996837Z",
     "iopub.status.idle": "2020-10-27T11:34:14.990866Z",
     "shell.execute_reply": "2020-10-27T11:34:14.989877Z"
    },
    "papermill": {
     "duration": 123.16787,
     "end_time": "2020-10-27T11:34:14.991095",
     "exception": false,
     "start_time": "2020-10-27T11:32:11.823225",
     "status": "completed"
    },
    "tags": []
   },
   "outputs": [],
   "source": [
    "## If for the item names obesrved w.r.t. each list will be assigned as number 1 & those items are not in \n",
    "##...row number iterating will be assigned with nuber 0.\n",
    "\n",
    "for index, row in dataset.iterrows():\n",
    "    items = str(row[0]).split(',')\n",
    "    one_hot_encoding = np.zeros(len(unique_items_list),dtype=int)\n",
    "    for item_name in items:\n",
    "        for i,column in enumerate(dataset1.columns):\n",
    "            if item_name == column:\n",
    "                one_hot_encoding[i] = 1\n",
    "    dataset1.at[index] = one_hot_encoding\n",
    "\n",
    "# Transction encoder is fastest method to do all this."
   ]
  },
  {
   "cell_type": "code",
   "execution_count": null,
   "metadata": {
    "execution": {
     "iopub.execute_input": "2020-10-27T11:34:15.128787Z",
     "iopub.status.busy": "2020-10-27T11:34:15.127594Z",
     "iopub.status.idle": "2020-10-27T11:34:15.156811Z",
     "shell.execute_reply": "2020-10-27T11:34:15.158528Z"
    },
    "papermill": {
     "duration": 0.10875,
     "end_time": "2020-10-27T11:34:15.158792",
     "exception": false,
     "start_time": "2020-10-27T11:34:15.050042",
     "status": "completed"
    },
    "tags": []
   },
   "outputs": [],
   "source": [
    "dataset1.head()"
   ]
  },
  {
   "cell_type": "code",
   "execution_count": null,
   "metadata": {
    "execution": {
     "iopub.execute_input": "2020-10-27T11:34:15.282228Z",
     "iopub.status.busy": "2020-10-27T11:34:15.281124Z",
     "iopub.status.idle": "2020-10-27T11:34:15.285027Z",
     "shell.execute_reply": "2020-10-27T11:34:15.285837Z"
    },
    "papermill": {
     "duration": 0.067559,
     "end_time": "2020-10-27T11:34:15.286044",
     "exception": false,
     "start_time": "2020-10-27T11:34:15.218485",
     "status": "completed"
    },
    "tags": []
   },
   "outputs": [],
   "source": [
    "# shape of the dataset1\n",
    "\n",
    "dataset1.shape"
   ]
  },
  {
   "cell_type": "code",
   "execution_count": null,
   "metadata": {
    "execution": {
     "iopub.execute_input": "2020-10-27T11:34:15.426002Z",
     "iopub.status.busy": "2020-10-27T11:34:15.414084Z",
     "iopub.status.idle": "2020-10-27T11:34:15.433379Z",
     "shell.execute_reply": "2020-10-27T11:34:15.432516Z"
    },
    "papermill": {
     "duration": 0.083955,
     "end_time": "2020-10-27T11:34:15.433540",
     "exception": false,
     "start_time": "2020-10-27T11:34:15.349585",
     "status": "completed"
    },
    "tags": []
   },
   "outputs": [],
   "source": [
    "dataset1.info()"
   ]
  },
  {
   "cell_type": "code",
   "execution_count": null,
   "metadata": {
    "execution": {
     "iopub.execute_input": "2020-10-27T11:34:15.780432Z",
     "iopub.status.busy": "2020-10-27T11:34:15.776077Z",
     "iopub.status.idle": "2020-10-27T11:34:15.785062Z",
     "shell.execute_reply": "2020-10-27T11:34:15.784211Z"
    },
    "papermill": {
     "duration": 0.292455,
     "end_time": "2020-10-27T11:34:15.785287",
     "exception": false,
     "start_time": "2020-10-27T11:34:15.492832",
     "status": "completed"
    },
    "tags": []
   },
   "outputs": [],
   "source": [
    "# Sinced efault datatype saved as 'object'. Converting in 'integer' datatype\n",
    "\n",
    "dataset1 = dataset1.astype('uint8')\n",
    "dataset1.info()"
   ]
  },
  {
   "cell_type": "markdown",
   "metadata": {
    "papermill": {
     "duration": 0.058973,
     "end_time": "2020-10-27T11:34:15.911566",
     "exception": false,
     "start_time": "2020-10-27T11:34:15.852593",
     "status": "completed"
    },
    "tags": []
   },
   "source": [
    "# Step 3: EDA"
   ]
  },
  {
   "cell_type": "code",
   "execution_count": null,
   "metadata": {
    "execution": {
     "iopub.execute_input": "2020-10-27T11:34:16.053008Z",
     "iopub.status.busy": "2020-10-27T11:34:16.051978Z",
     "iopub.status.idle": "2020-10-27T11:34:16.056457Z",
     "shell.execute_reply": "2020-10-27T11:34:16.056979Z"
    },
    "papermill": {
     "duration": 0.085337,
     "end_time": "2020-10-27T11:34:16.057140",
     "exception": false,
     "start_time": "2020-10-27T11:34:15.971803",
     "status": "completed"
    },
    "tags": []
   },
   "outputs": [],
   "source": [
    "dataset1.head()"
   ]
  },
  {
   "cell_type": "markdown",
   "metadata": {
    "papermill": {
     "duration": 0.061216,
     "end_time": "2020-10-27T11:34:16.180984",
     "exception": false,
     "start_time": "2020-10-27T11:34:16.119768",
     "status": "completed"
    },
    "tags": []
   },
   "source": [
    " ### Checking for Purchased and not purchased item qty. details to get insights"
   ]
  },
  {
   "cell_type": "code",
   "execution_count": null,
   "metadata": {
    "execution": {
     "iopub.execute_input": "2020-10-27T11:34:16.308955Z",
     "iopub.status.busy": "2020-10-27T11:34:16.308117Z",
     "iopub.status.idle": "2020-10-27T11:34:16.565463Z",
     "shell.execute_reply": "2020-10-27T11:34:16.564744Z"
    },
    "papermill": {
     "duration": 0.324549,
     "end_time": "2020-10-27T11:34:16.565600",
     "exception": false,
     "start_time": "2020-10-27T11:34:16.241051",
     "status": "completed"
    },
    "tags": []
   },
   "outputs": [],
   "source": [
    "zero =[]\n",
    "one = []\n",
    "for i in df_apriori.columns:\n",
    "    zero.append(list(dataset1[i].value_counts())[0])\n",
    "    one.append(list(dataset1[i].value_counts())[1])"
   ]
  },
  {
   "cell_type": "code",
   "execution_count": null,
   "metadata": {
    "execution": {
     "iopub.execute_input": "2020-10-27T11:34:16.699103Z",
     "iopub.status.busy": "2020-10-27T11:34:16.697963Z",
     "iopub.status.idle": "2020-10-27T11:34:16.726055Z",
     "shell.execute_reply": "2020-10-27T11:34:16.724891Z"
    },
    "papermill": {
     "duration": 0.100058,
     "end_time": "2020-10-27T11:34:16.726302",
     "exception": false,
     "start_time": "2020-10-27T11:34:16.626244",
     "status": "completed"
    },
    "tags": []
   },
   "outputs": [],
   "source": [
    "count_df = pd.DataFrame([zero,one], columns=df_apriori.copy().columns)"
   ]
  },
  {
   "cell_type": "code",
   "execution_count": null,
   "metadata": {
    "execution": {
     "iopub.execute_input": "2020-10-27T11:34:16.873102Z",
     "iopub.status.busy": "2020-10-27T11:34:16.871939Z",
     "iopub.status.idle": "2020-10-27T11:34:16.876489Z",
     "shell.execute_reply": "2020-10-27T11:34:16.877011Z"
    },
    "papermill": {
     "duration": 0.084912,
     "end_time": "2020-10-27T11:34:16.877188",
     "exception": false,
     "start_time": "2020-10-27T11:34:16.792276",
     "status": "completed"
    },
    "tags": []
   },
   "outputs": [],
   "source": [
    "count_df.head()"
   ]
  },
  {
   "cell_type": "code",
   "execution_count": null,
   "metadata": {
    "execution": {
     "iopub.execute_input": "2020-10-27T11:34:17.022163Z",
     "iopub.status.busy": "2020-10-27T11:34:17.021211Z",
     "iopub.status.idle": "2020-10-27T11:34:17.026102Z",
     "shell.execute_reply": "2020-10-27T11:34:17.025507Z"
    },
    "papermill": {
     "duration": 0.086776,
     "end_time": "2020-10-27T11:34:17.026251",
     "exception": false,
     "start_time": "2020-10-27T11:34:16.939475",
     "status": "completed"
    },
    "tags": []
   },
   "outputs": [],
   "source": [
    "# Changing row names...\n",
    "\n",
    "count_df.index = ['Not_Purchased', 'Purchased']\n",
    "count_df"
   ]
  },
  {
   "cell_type": "markdown",
   "metadata": {
    "papermill": {
     "duration": 0.062199,
     "end_time": "2020-10-27T11:34:17.150003",
     "exception": false,
     "start_time": "2020-10-27T11:34:17.087804",
     "status": "completed"
    },
    "tags": []
   },
   "source": [
    "Grocery shop contains total 169 numbers of items."
   ]
  },
  {
   "cell_type": "code",
   "execution_count": null,
   "metadata": {
    "execution": {
     "iopub.execute_input": "2020-10-27T11:34:17.284105Z",
     "iopub.status.busy": "2020-10-27T11:34:17.283345Z",
     "iopub.status.idle": "2020-10-27T11:34:17.287859Z",
     "shell.execute_reply": "2020-10-27T11:34:17.288469Z"
    },
    "papermill": {
     "duration": 0.076887,
     "end_time": "2020-10-27T11:34:17.288623",
     "exception": false,
     "start_time": "2020-10-27T11:34:17.211736",
     "status": "completed"
    },
    "tags": []
   },
   "outputs": [],
   "source": [
    "# CHECKING WHICH PRODUCTE\n",
    "\n",
    "print('maximum purchased item:',count_df.idxmax(axis = 1)[1],':',count_df.loc['Purchased'].max())\n",
    "print('minimum purchased item:',count_df.idxmax(axis = 1)[0],':',count_df.loc['Not_Purchased'].max())"
   ]
  },
  {
   "cell_type": "code",
   "execution_count": null,
   "metadata": {
    "execution": {
     "iopub.execute_input": "2020-10-27T11:34:17.428446Z",
     "iopub.status.busy": "2020-10-27T11:34:17.427551Z",
     "iopub.status.idle": "2020-10-27T11:34:17.431935Z",
     "shell.execute_reply": "2020-10-27T11:34:17.432495Z"
    },
    "papermill": {
     "duration": 0.081572,
     "end_time": "2020-10-27T11:34:17.432653",
     "exception": false,
     "start_time": "2020-10-27T11:34:17.351081",
     "status": "completed"
    },
    "tags": []
   },
   "outputs": [],
   "source": [
    "# Simplest way to sort elements..\n",
    "\n",
    "sorted_df = pd.DataFrame(count_df.sort_values(by=['Purchased'],axis=1,ascending=False).transpose())\n",
    "sorted_df.head(20)"
   ]
  },
  {
   "cell_type": "code",
   "execution_count": null,
   "metadata": {
    "execution": {
     "iopub.execute_input": "2020-10-27T11:34:17.565720Z",
     "iopub.status.busy": "2020-10-27T11:34:17.564922Z",
     "iopub.status.idle": "2020-10-27T11:34:17.592491Z",
     "shell.execute_reply": "2020-10-27T11:34:17.591854Z"
    },
    "papermill": {
     "duration": 0.096518,
     "end_time": "2020-10-27T11:34:17.592634",
     "exception": false,
     "start_time": "2020-10-27T11:34:17.496116",
     "status": "completed"
    },
    "tags": []
   },
   "outputs": [],
   "source": [
    "# adding Purchased% table into the dataset1.\n",
    "\n",
    "sorted_df['Purchased%']= sorted_df.Purchased/sum(sorted_df.Purchased)\n",
    "sorted_df.head()"
   ]
  },
  {
   "cell_type": "code",
   "execution_count": null,
   "metadata": {
    "execution": {
     "iopub.execute_input": "2020-10-27T11:34:17.728243Z",
     "iopub.status.busy": "2020-10-27T11:34:17.727091Z",
     "iopub.status.idle": "2020-10-27T11:34:17.731529Z",
     "shell.execute_reply": "2020-10-27T11:34:17.730776Z"
    },
    "papermill": {
     "duration": 0.07517,
     "end_time": "2020-10-27T11:34:17.731658",
     "exception": false,
     "start_time": "2020-10-27T11:34:17.656488",
     "status": "completed"
    },
    "tags": []
   },
   "outputs": [],
   "source": [
    "# Finding out avergae of the total purchased% so that we get idea about min_support value setting.\n",
    "\n",
    "np.mean(sorted_df['Purchased%'])"
   ]
  },
  {
   "cell_type": "code",
   "execution_count": null,
   "metadata": {
    "execution": {
     "iopub.execute_input": "2020-10-27T11:34:17.875867Z",
     "iopub.status.busy": "2020-10-27T11:34:17.874734Z",
     "iopub.status.idle": "2020-10-27T11:34:18.616779Z",
     "shell.execute_reply": "2020-10-27T11:34:18.617403Z"
    },
    "papermill": {
     "duration": 0.821225,
     "end_time": "2020-10-27T11:34:18.617563",
     "exception": false,
     "start_time": "2020-10-27T11:34:17.796338",
     "status": "completed"
    },
    "tags": []
   },
   "outputs": [],
   "source": [
    "# Plotting sorted top purchased products..\n",
    "\n",
    "fig = plt.subplots(figsize=(20,10))\n",
    "purchased = sorted_df.head(50).xs('Purchased' ,axis = 1)\n",
    "purchased.plot(kind='bar',fontsize=16)\n",
    "plt.title('Purchased top Count',fontsize=30)\n",
    "plt.xlabel('Products', fontsize=20)\n",
    "plt.ylabel('total qty. purchased', fontsize=20)\n",
    "plt.show()"
   ]
  },
  {
   "cell_type": "markdown",
   "metadata": {
    "papermill": {
     "duration": 0.067181,
     "end_time": "2020-10-27T11:34:18.752515",
     "exception": false,
     "start_time": "2020-10-27T11:34:18.685334",
     "status": "completed"
    },
    "tags": []
   },
   "source": [
    " ### People purchased more is daily need items & transction for all them is above 1000 nos."
   ]
  },
  {
   "cell_type": "markdown",
   "metadata": {
    "papermill": {
     "duration": 0.068458,
     "end_time": "2020-10-27T11:34:18.888512",
     "exception": false,
     "start_time": "2020-10-27T11:34:18.820054",
     "status": "completed"
    },
    "tags": []
   },
   "source": [
    "'whole milk', 'other vegetables', 'rolls/buns', 'soda', 'yogurt','bottled water', 'root vegetables', 'tropical fruit'"
   ]
  },
  {
   "cell_type": "markdown",
   "metadata": {
    "papermill": {
     "duration": 0.068686,
     "end_time": "2020-10-27T11:34:19.026017",
     "exception": false,
     "start_time": "2020-10-27T11:34:18.957331",
     "status": "completed"
    },
    "tags": []
   },
   "source": [
    "# Step 4: Apriori Rule\n",
    "***\n",
    "\n",
    "ref. used: https://www.kdnuggets.com/2016/04/association-rules-apriori-algorithm-tutorial.html"
   ]
  },
  {
   "cell_type": "markdown",
   "metadata": {
    "papermill": {
     "duration": 0.067191,
     "end_time": "2020-10-27T11:34:19.161740",
     "exception": false,
     "start_time": "2020-10-27T11:34:19.094549",
     "status": "completed"
    },
    "tags": []
   },
   "source": [
    "## 4.1 Measure 1: Support \n",
    "***"
   ]
  },
  {
   "cell_type": "markdown",
   "metadata": {
    "papermill": {
     "duration": 0.121178,
     "end_time": "2020-10-27T11:34:19.351201",
     "exception": false,
     "start_time": "2020-10-27T11:34:19.230023",
     "status": "completed"
    },
    "tags": []
   },
   "source": [
    " #### Concept:"
   ]
  },
  {
   "cell_type": "markdown",
   "metadata": {
    "papermill": {
     "duration": 0.068745,
     "end_time": "2020-10-27T11:34:19.488000",
     "exception": false,
     "start_time": "2020-10-27T11:34:19.419255",
     "status": "completed"
    },
    "tags": []
   },
   "source": [
    "![](https://github.com/ShrikantUppin/Association_Rules/blob/main/measure1_formula.png?raw=true)\n",
    "\n",
    "<img src=\"https://github.com/ShrikantUppin/Association_Rules/blob/main/measure1.png?raw=true\" width=\"300\" height=\"300\">\n"
   ]
  },
  {
   "cell_type": "markdown",
   "metadata": {
    "papermill": {
     "duration": 0.066903,
     "end_time": "2020-10-27T11:34:19.622510",
     "exception": false,
     "start_time": "2020-10-27T11:34:19.555607",
     "status": "completed"
    },
    "tags": []
   },
   "source": [
    " This says how popular an itemset is, as measured by the proportion of transactions in which an itemset appears. In Table 1 below, the support of {apple} is 4 out of 8, or 50%. Itemsets can also contain multiple items. For instance, the support of {apple, beer, rice} is 2 out of 8, or 25%.\n"
   ]
  },
  {
   "cell_type": "markdown",
   "metadata": {
    "papermill": {
     "duration": 0.067027,
     "end_time": "2020-10-27T11:34:19.756787",
     "exception": false,
     "start_time": "2020-10-27T11:34:19.689760",
     "status": "completed"
    },
    "tags": []
   },
   "source": [
    "***"
   ]
  },
  {
   "cell_type": "markdown",
   "metadata": {
    "papermill": {
     "duration": 0.07947,
     "end_time": "2020-10-27T11:34:19.905525",
     "exception": false,
     "start_time": "2020-10-27T11:34:19.826055",
     "status": "completed"
    },
    "tags": []
   },
   "source": [
    " ### Finding out support for each possible products or diff. product sets present in transction dataframe(dataset1)"
   ]
  },
  {
   "cell_type": "code",
   "execution_count": null,
   "metadata": {
    "execution": {
     "iopub.execute_input": "2020-10-27T11:34:20.050510Z",
     "iopub.status.busy": "2020-10-27T11:34:20.049732Z",
     "iopub.status.idle": "2020-10-27T11:34:20.167539Z",
     "shell.execute_reply": "2020-10-27T11:34:20.166864Z"
    },
    "papermill": {
     "duration": 0.192975,
     "end_time": "2020-10-27T11:34:20.167689",
     "exception": false,
     "start_time": "2020-10-27T11:34:19.974714",
     "status": "completed"
    },
    "tags": []
   },
   "outputs": [],
   "source": [
    "from mlxtend.frequent_patterns import apriori, association_rules\n",
    "\n",
    "freq_items = apriori(dataset1, min_support=0.02, use_colnames=True, max_len=5)\n",
    "\n",
    "# min_support value can be choose by the user/business need\n",
    "# max_len is item combinations..here i have taken as 5. total items in combination formed should not be more than 5"
   ]
  },
  {
   "cell_type": "code",
   "execution_count": null,
   "metadata": {
    "execution": {
     "iopub.execute_input": "2020-10-27T11:34:20.310491Z",
     "iopub.status.busy": "2020-10-27T11:34:20.309548Z",
     "iopub.status.idle": "2020-10-27T11:34:20.313945Z",
     "shell.execute_reply": "2020-10-27T11:34:20.314550Z"
    },
    "papermill": {
     "duration": 0.07944,
     "end_time": "2020-10-27T11:34:20.314717",
     "exception": false,
     "start_time": "2020-10-27T11:34:20.235277",
     "status": "completed"
    },
    "tags": []
   },
   "outputs": [],
   "source": [
    "freq_items.shape"
   ]
  },
  {
   "cell_type": "markdown",
   "metadata": {
    "papermill": {
     "duration": 0.06851,
     "end_time": "2020-10-27T11:34:20.451280",
     "exception": false,
     "start_time": "2020-10-27T11:34:20.382770",
     "status": "completed"
    },
    "tags": []
   },
   "source": [
    "<p algin='justify'> This says how popular an itemset is, as measured by the proportion of transactions in which an itemset appears.</p> \n",
    "\n",
    "For example:\n",
    "\n",
    "In Table sorted_df, the support of {whole milk} is 2513 out of total 9835 row tranctions. i.e. 25.55%. \n",
    "\n",
    "\n",
    "Itemsets can also contain multiple items. For instance, the support of {bottled water, soda} is 285 out of 9835, or 2.89%"
   ]
  },
  {
   "cell_type": "code",
   "execution_count": null,
   "metadata": {
    "execution": {
     "iopub.execute_input": "2020-10-27T11:34:20.604162Z",
     "iopub.status.busy": "2020-10-27T11:34:20.603087Z",
     "iopub.status.idle": "2020-10-27T11:34:20.608492Z",
     "shell.execute_reply": "2020-10-27T11:34:20.607693Z"
    },
    "papermill": {
     "duration": 0.089089,
     "end_time": "2020-10-27T11:34:20.608638",
     "exception": false,
     "start_time": "2020-10-27T11:34:20.519549",
     "status": "completed"
    },
    "tags": []
   },
   "outputs": [],
   "source": [
    "# checking first 10 rows\n",
    "\n",
    "freq_items.head(10)"
   ]
  },
  {
   "cell_type": "code",
   "execution_count": null,
   "metadata": {
    "execution": {
     "iopub.execute_input": "2020-10-27T11:34:20.764061Z",
     "iopub.status.busy": "2020-10-27T11:34:20.757221Z",
     "iopub.status.idle": "2020-10-27T11:34:20.769512Z",
     "shell.execute_reply": "2020-10-27T11:34:20.768831Z"
    },
    "papermill": {
     "duration": 0.091307,
     "end_time": "2020-10-27T11:34:20.769663",
     "exception": false,
     "start_time": "2020-10-27T11:34:20.678356",
     "status": "completed"
    },
    "tags": []
   },
   "outputs": [],
   "source": [
    "# checking last 10 rows \n",
    "\n",
    "freq_items.tail(10)"
   ]
  },
  {
   "cell_type": "markdown",
   "metadata": {
    "papermill": {
     "duration": 0.094532,
     "end_time": "2020-10-27T11:34:20.944393",
     "exception": false,
     "start_time": "2020-10-27T11:34:20.849861",
     "status": "completed"
    },
    "tags": []
   },
   "source": [
    "If you discover that sales of items beyond a certain proportion tend to have a significant impact on your profits, you might consider using that proportion as your support threshold. You may then identify itemsets with support values above this threshold as significant itemsets.\n",
    "\n",
    "***\n",
    "***"
   ]
  },
  {
   "cell_type": "markdown",
   "metadata": {
    "papermill": {
     "duration": 0.069547,
     "end_time": "2020-10-27T11:34:21.093531",
     "exception": false,
     "start_time": "2020-10-27T11:34:21.023984",
     "status": "completed"
    },
    "tags": []
   },
   "source": [
    "## 4.2 Measure 2: Confidence\n",
    "***\n",
    "***"
   ]
  },
  {
   "cell_type": "markdown",
   "metadata": {
    "papermill": {
     "duration": 0.069503,
     "end_time": "2020-10-27T11:34:21.234028",
     "exception": false,
     "start_time": "2020-10-27T11:34:21.164525",
     "status": "completed"
    },
    "tags": []
   },
   "source": [
    " #### Concept:"
   ]
  },
  {
   "cell_type": "markdown",
   "metadata": {
    "papermill": {
     "duration": 0.06948,
     "end_time": "2020-10-27T11:34:21.373535",
     "exception": false,
     "start_time": "2020-10-27T11:34:21.304055",
     "status": "completed"
    },
    "tags": []
   },
   "source": [
    " This says how likely item Y is purchased when item X is purchased, expressed as {X -> Y}. This is measured by the proportion of transactions with item X, in which item Y also appears. In Table 1, the confidence of {apple -> beer} is 3 out of 4, or 75%.\n",
    "\n",
    "\n",
    "\n",
    "<img src=\"https://github.com/ShrikantUppin/Association_Rules/blob/main/measure2.png?raw=true\" >\n",
    "\n",
    "***\n",
    "* Drawbacks of Confidence measure:\n",
    "***\n",
    "\n",
    "* it might misrepresent the importance of an association. \n",
    "\n",
    "* This is because it only accounts for how popular apples are, but not beers. If beers are also very popular in general, there will be a higher chance that a transaction containing apples will also contain beers, thus inflating the confidence measure. \n",
    "\n",
    "\n",
    "Note: To account for the base popularity of both constituent items, we use a third measure called lift."
   ]
  },
  {
   "cell_type": "markdown",
   "metadata": {
    "papermill": {
     "duration": 0.069633,
     "end_time": "2020-10-27T11:34:21.514352",
     "exception": false,
     "start_time": "2020-10-27T11:34:21.444719",
     "status": "completed"
    },
    "tags": []
   },
   "source": [
    " ### Building Association rules using confidence metrics."
   ]
  },
  {
   "cell_type": "code",
   "execution_count": null,
   "metadata": {
    "execution": {
     "iopub.execute_input": "2020-10-27T11:34:21.666753Z",
     "iopub.status.busy": "2020-10-27T11:34:21.665572Z",
     "iopub.status.idle": "2020-10-27T11:34:21.668474Z",
     "shell.execute_reply": "2020-10-27T11:34:21.667873Z"
    },
    "papermill": {
     "duration": 0.084323,
     "end_time": "2020-10-27T11:34:21.668616",
     "exception": false,
     "start_time": "2020-10-27T11:34:21.584293",
     "status": "completed"
    },
    "tags": []
   },
   "outputs": [],
   "source": [
    "# for this we need support value dataframe..that is fre_items from measure1.\n",
    "\n",
    "confidence_association = association_rules(freq_items, metric='confidence', min_threshold=0.2)\n",
    "\n",
    "# min_threshold is nothing but setting min % crieteria. In this case i have choosen 20% \n",
    "#...confidence should be minimum 20%."
   ]
  },
  {
   "cell_type": "code",
   "execution_count": null,
   "metadata": {
    "execution": {
     "iopub.execute_input": "2020-10-27T11:34:21.839374Z",
     "iopub.status.busy": "2020-10-27T11:34:21.838256Z",
     "iopub.status.idle": "2020-10-27T11:34:21.843715Z",
     "shell.execute_reply": "2020-10-27T11:34:21.843091Z"
    },
    "papermill": {
     "duration": 0.104036,
     "end_time": "2020-10-27T11:34:21.843854",
     "exception": false,
     "start_time": "2020-10-27T11:34:21.739818",
     "status": "completed"
    },
    "tags": []
   },
   "outputs": [],
   "source": [
    "# checking combination in first 10 rows from dataset\n",
    "\n",
    "confidence_association.head(10)"
   ]
  },
  {
   "cell_type": "code",
   "execution_count": null,
   "metadata": {
    "execution": {
     "iopub.execute_input": "2020-10-27T11:34:21.996122Z",
     "iopub.status.busy": "2020-10-27T11:34:21.995182Z",
     "iopub.status.idle": "2020-10-27T11:34:21.999835Z",
     "shell.execute_reply": "2020-10-27T11:34:21.999263Z"
    },
    "papermill": {
     "duration": 0.084569,
     "end_time": "2020-10-27T11:34:21.999965",
     "exception": false,
     "start_time": "2020-10-27T11:34:21.915396",
     "status": "completed"
    },
    "tags": []
   },
   "outputs": [],
   "source": [
    "0.028978*100"
   ]
  },
  {
   "cell_type": "code",
   "execution_count": null,
   "metadata": {
    "execution": {
     "iopub.execute_input": "2020-10-27T11:34:22.174150Z",
     "iopub.status.busy": "2020-10-27T11:34:22.173061Z",
     "iopub.status.idle": "2020-10-27T11:34:22.178388Z",
     "shell.execute_reply": "2020-10-27T11:34:22.177796Z"
    },
    "papermill": {
     "duration": 0.106139,
     "end_time": "2020-10-27T11:34:22.178521",
     "exception": false,
     "start_time": "2020-10-27T11:34:22.072382",
     "status": "completed"
    },
    "tags": []
   },
   "outputs": [],
   "source": [
    "# checking combination in last 10 rows from dataset\n",
    "\n",
    "confidence_association.tail(10)"
   ]
  },
  {
   "cell_type": "markdown",
   "metadata": {
    "papermill": {
     "duration": 0.072424,
     "end_time": "2020-10-27T11:34:22.323785",
     "exception": false,
     "start_time": "2020-10-27T11:34:22.251361",
     "status": "completed"
    },
    "tags": []
   },
   "source": [
    " ### Understanding terminologies:\n",
    " ***\n",
    " \n",
    " [Basic Terminology](https://michael.hahsler.net/research/recommender/associationrules.html#:~:text=Leverage%20measures%20the%20difference%20of,expected%20from%20the%20independent%20sells)"
   ]
  },
  {
   "cell_type": "markdown",
   "metadata": {
    "papermill": {
     "duration": 0.072571,
     "end_time": "2020-10-27T11:34:22.468730",
     "exception": false,
     "start_time": "2020-10-27T11:34:22.396159",
     "status": "completed"
    },
    "tags": []
   },
   "source": [
    " #### 1 . Antecedent and Consequent\n",
    " \n",
    "The IF component of an association rule is known as the antecedent. The THEN component is known as the consequent. The antecedent and the consequent are disjoint; they have no items in common.\n",
    "\n",
    "\n",
    " #### 2. antecedent support\n",
    " \n",
    " It is antecedent support with all transction numbers.\n",
    " \n",
    " \n",
    " #### 3. consequent support\n",
    "\n",
    " It is consequent  support with all transction numbers.\n",
    " \n",
    " \n",
    " #### 4. Support:\n",
    " \n",
    " Here support is considered for antecedent+consequent combination.\n",
    " \n",
    " \n",
    " #### 5. confidence\n",
    " \n",
    " Confidence is related to 'consequent item' or 'consequent item combination' w.r.t. antecedent item  or item set.\n",
    " \n",
    " \n",
    " #### 6. lift\n",
    " \n",
    "Lift measures how many times more often X and Y occur together than expected if they where statistically independent. Lift is not down-ward closed and does not suffer from the rare item problem.\n",
    " \n",
    " In short firm possibilities of buying consequent whenever Antecedent item is purchaed by customer\n",
    " \n",
    " \n",
    " #### 7. Leverage\n",
    " \n",
    " Leverage measures the difference of X and Y appearing together in the data set and what would be expected if X and Y where statistically dependent. The rational in a sales setting is to find out how many more units (items X and Y together) are sold than expected from the independent sells.\n",
    " \n",
    " leverage also can suffer from the rare item problem.\n",
    " \n",
    " leverage(X -> Y) = P(X and Y) - (P(X)P(Y))\n",
    " \n",
    " \n",
    " #### 8. conviction\n",
    " \n",
    " conviction(X -> Y) = P(X)P(not Y)/P(X and not Y)=(1-sup(Y))/(1-conf(X -> Y))\n",
    "\n",
    "Conviction compares the probability that X appears without Y if they were dependent with the actual frequency of the appearance of X without Y. In that respect it is similar to lift (see section about lift on this page), however, it contrast to lift it is a directed measure. Furthermore, conviction is monotone in confidence and lift.\n",
    "\n",
    "\n",
    "#### 9. Coverage\n",
    "\n",
    "coverage(X) = P(X) = sup(X)\n",
    "\n",
    "A simple measure of how often a item set appears in the data set."
   ]
  },
  {
   "cell_type": "markdown",
   "metadata": {
    "papermill": {
     "duration": 0.072161,
     "end_time": "2020-10-27T11:34:22.613383",
     "exception": false,
     "start_time": "2020-10-27T11:34:22.541222",
     "status": "completed"
    },
    "tags": []
   },
   "source": [
    "## 4.3 Measure 3: Lift \n",
    "***"
   ]
  },
  {
   "cell_type": "markdown",
   "metadata": {
    "papermill": {
     "duration": 0.072172,
     "end_time": "2020-10-27T11:34:22.757744",
     "exception": false,
     "start_time": "2020-10-27T11:34:22.685572",
     "status": "completed"
    },
    "tags": []
   },
   "source": [
    " #### Concept:\n",
    "    \n",
    "This says how likely item Y is purchased when item X is purchased, while controlling for how popular item Y is. In Table 1, the lift of {apple -> beer} is 1,which implies no association between items. A lift value greater than 1 means that item Y is likely to be bought if item X is bought, while a value less than 1 means that item Y is unlikely to be bought if item X is bought.\n",
    "\n",
    "\n",
    "<img src=\"https://github.com/ShrikantUppin/Association_Rules/blob/main/measure3.png?raw=true\" >"
   ]
  },
  {
   "cell_type": "markdown",
   "metadata": {
    "papermill": {
     "duration": 0.072176,
     "end_time": "2020-10-27T11:34:22.902266",
     "exception": false,
     "start_time": "2020-10-27T11:34:22.830090",
     "status": "completed"
    },
    "tags": []
   },
   "source": [
    " ### Building Association rules using confidence metrics."
   ]
  },
  {
   "cell_type": "code",
   "execution_count": null,
   "metadata": {
    "execution": {
     "iopub.execute_input": "2020-10-27T11:34:23.063338Z",
     "iopub.status.busy": "2020-10-27T11:34:23.062226Z",
     "iopub.status.idle": "2020-10-27T11:34:23.065326Z",
     "shell.execute_reply": "2020-10-27T11:34:23.064591Z"
    },
    "papermill": {
     "duration": 0.088845,
     "end_time": "2020-10-27T11:34:23.065454",
     "exception": false,
     "start_time": "2020-10-27T11:34:22.976609",
     "status": "completed"
    },
    "tags": []
   },
   "outputs": [],
   "source": [
    "lift_association = association_rules(freq_items, metric=\"lift\", min_threshold=1)"
   ]
  },
  {
   "cell_type": "code",
   "execution_count": null,
   "metadata": {
    "execution": {
     "iopub.execute_input": "2020-10-27T11:34:23.216726Z",
     "iopub.status.busy": "2020-10-27T11:34:23.215663Z",
     "iopub.status.idle": "2020-10-27T11:34:23.219081Z",
     "shell.execute_reply": "2020-10-27T11:34:23.219669Z"
    },
    "papermill": {
     "duration": 0.082294,
     "end_time": "2020-10-27T11:34:23.219824",
     "exception": false,
     "start_time": "2020-10-27T11:34:23.137530",
     "status": "completed"
    },
    "tags": []
   },
   "outputs": [],
   "source": [
    "lift_association.shape"
   ]
  },
  {
   "cell_type": "code",
   "execution_count": null,
   "metadata": {
    "execution": {
     "iopub.execute_input": "2020-10-27T11:34:23.395611Z",
     "iopub.status.busy": "2020-10-27T11:34:23.392065Z",
     "iopub.status.idle": "2020-10-27T11:34:23.400743Z",
     "shell.execute_reply": "2020-10-27T11:34:23.401417Z"
    },
    "papermill": {
     "duration": 0.108123,
     "end_time": "2020-10-27T11:34:23.401607",
     "exception": false,
     "start_time": "2020-10-27T11:34:23.293484",
     "status": "completed"
    },
    "tags": []
   },
   "outputs": [],
   "source": [
    "lift_association.head(10)"
   ]
  },
  {
   "cell_type": "code",
   "execution_count": null,
   "metadata": {
    "execution": {
     "iopub.execute_input": "2020-10-27T11:34:23.584829Z",
     "iopub.status.busy": "2020-10-27T11:34:23.583861Z",
     "iopub.status.idle": "2020-10-27T11:34:23.589516Z",
     "shell.execute_reply": "2020-10-27T11:34:23.588805Z"
    },
    "papermill": {
     "duration": 0.102831,
     "end_time": "2020-10-27T11:34:23.589662",
     "exception": false,
     "start_time": "2020-10-27T11:34:23.486831",
     "status": "completed"
    },
    "tags": []
   },
   "outputs": [],
   "source": [
    "lift_association.tail(5)"
   ]
  },
  {
   "cell_type": "markdown",
   "metadata": {
    "papermill": {
     "duration": 0.076382,
     "end_time": "2020-10-27T11:34:23.749274",
     "exception": false,
     "start_time": "2020-10-27T11:34:23.672892",
     "status": "completed"
    },
    "tags": []
   },
   "source": [
    "## 4.4 Eliminating redudancy sets...\n",
    " "
   ]
  },
  {
   "cell_type": "code",
   "execution_count": null,
   "metadata": {
    "execution": {
     "iopub.execute_input": "2020-10-27T11:34:23.915487Z",
     "iopub.status.busy": "2020-10-27T11:34:23.914710Z",
     "iopub.status.idle": "2020-10-27T11:34:23.940499Z",
     "shell.execute_reply": "2020-10-27T11:34:23.939814Z"
    },
    "papermill": {
     "duration": 0.114882,
     "end_time": "2020-10-27T11:34:23.940646",
     "exception": false,
     "start_time": "2020-10-27T11:34:23.825764",
     "status": "completed"
    },
    "tags": []
   },
   "outputs": [],
   "source": [
    "# As per above output observation, it is clear that when same items repeated..\n",
    "#...(for ex: in first row: A-->B, and in next row B-->A) gives same leverage & lift but confidence is different.\n",
    "#...this is known as redudency when same item set shuffled as ancedents & consequent.\n",
    "#.... so to eliminates in easist way..will sort n the basis of leverage & confidence.\n",
    "\n",
    "redundancy = lift_association.sort_values(by=['leverage','confidence'],axis=0, ascending=False).reset_index()\n",
    "redundancy = redundancy.drop(['index'], axis=1)\n",
    "redundancy.shape\n",
    "redundancy.head()"
   ]
  },
  {
   "cell_type": "code",
   "execution_count": null,
   "metadata": {
    "execution": {
     "iopub.execute_input": "2020-10-27T11:34:24.122635Z",
     "iopub.status.busy": "2020-10-27T11:34:24.121526Z",
     "iopub.status.idle": "2020-10-27T11:34:24.127059Z",
     "shell.execute_reply": "2020-10-27T11:34:24.126427Z"
    },
    "papermill": {
     "duration": 0.105327,
     "end_time": "2020-10-27T11:34:24.127229",
     "exception": false,
     "start_time": "2020-10-27T11:34:24.021902",
     "status": "completed"
    },
    "tags": []
   },
   "outputs": [],
   "source": [
    "redundancy.tail()"
   ]
  },
  {
   "cell_type": "code",
   "execution_count": null,
   "metadata": {
    "execution": {
     "iopub.execute_input": "2020-10-27T11:34:24.294432Z",
     "iopub.status.busy": "2020-10-27T11:34:24.293338Z",
     "iopub.status.idle": "2020-10-27T11:34:24.297251Z",
     "shell.execute_reply": "2020-10-27T11:34:24.297777Z"
    },
    "papermill": {
     "duration": 0.087947,
     "end_time": "2020-10-27T11:34:24.297932",
     "exception": false,
     "start_time": "2020-10-27T11:34:24.209985",
     "status": "completed"
    },
    "tags": []
   },
   "outputs": [],
   "source": [
    "# Now check output of above cells, when leverage and lift are same for consequent rows..then compare with the value of confidence\n",
    "#...if confidence of middle cell found less than two side cells..drop it.\n",
    "# dropping odd index rows..since it contains less confidence\n",
    "# ultimately this will help us to elminate repeated combination..which has low lift & confidence..\n",
    "\n",
    "unique_rules = redundancy.iloc[::2]\n",
    "unique_rules.shape"
   ]
  },
  {
   "cell_type": "code",
   "execution_count": null,
   "metadata": {
    "execution": {
     "iopub.execute_input": "2020-10-27T11:34:24.483494Z",
     "iopub.status.busy": "2020-10-27T11:34:24.482343Z",
     "iopub.status.idle": "2020-10-27T11:34:24.487496Z",
     "shell.execute_reply": "2020-10-27T11:34:24.486750Z"
    },
    "papermill": {
     "duration": 0.112139,
     "end_time": "2020-10-27T11:34:24.487622",
     "exception": false,
     "start_time": "2020-10-27T11:34:24.375483",
     "status": "completed"
    },
    "tags": []
   },
   "outputs": [],
   "source": [
    "unique_rules.head(10)"
   ]
  },
  {
   "cell_type": "markdown",
   "metadata": {
    "papermill": {
     "duration": 0.078142,
     "end_time": "2020-10-27T11:34:24.644495",
     "exception": false,
     "start_time": "2020-10-27T11:34:24.566353",
     "status": "completed"
    },
    "tags": []
   },
   "source": [
    " ### Summary:\n",
    " \n",
    " \n",
    " * freq_items = apriori(dataset1, min_support=0.02, use_colnames=True, max_len=5)\n",
    " \n",
    " \n",
    "\n",
    " * confidence_association = association_rules(freq_items, metric='confidence', min_threshold=0.2)\n",
    " \n",
    " \n",
    " * lift_association = association_rules(freq_items, metric=\"lift\", min_threshold=1)\n",
    " "
   ]
  },
  {
   "cell_type": "markdown",
   "metadata": {
    "papermill": {
     "duration": 0.078503,
     "end_time": "2020-10-27T11:34:24.801574",
     "exception": false,
     "start_time": "2020-10-27T11:34:24.723071",
     "status": "completed"
    },
    "tags": []
   },
   "source": [
    "# Step 5: Generated Rules analysis/Processing"
   ]
  },
  {
   "cell_type": "markdown",
   "metadata": {
    "papermill": {
     "duration": 0.078838,
     "end_time": "2020-10-27T11:34:24.958671",
     "exception": false,
     "start_time": "2020-10-27T11:34:24.879833",
     "status": "completed"
    },
    "tags": []
   },
   "source": [
    "We have obtained unique_rules with metric='lift'. Now, this unique_rules dataframe will be used for analysis..just filtering as per threshold value set/required & obtaining diff. pairs of item sets.\n",
    "\n",
    "\n",
    "Note: lift is set to 1. in previous code. Since if lift is equal to or greater than 1..that means chances to pick consequents items by customer is more..!!"
   ]
  },
  {
   "cell_type": "code",
   "execution_count": null,
   "metadata": {
    "execution": {
     "iopub.execute_input": "2020-10-27T11:34:25.128492Z",
     "iopub.status.busy": "2020-10-27T11:34:25.127469Z",
     "iopub.status.idle": "2020-10-27T11:34:25.130571Z",
     "shell.execute_reply": "2020-10-27T11:34:25.129786Z"
    },
    "papermill": {
     "duration": 0.090237,
     "end_time": "2020-10-27T11:34:25.130713",
     "exception": false,
     "start_time": "2020-10-27T11:34:25.040476",
     "status": "completed"
    },
    "tags": []
   },
   "outputs": [],
   "source": [
    "top_20 = unique_rules[unique_rules['lift']>1.5]"
   ]
  },
  {
   "cell_type": "markdown",
   "metadata": {
    "papermill": {
     "duration": 0.078649,
     "end_time": "2020-10-27T11:34:25.289539",
     "exception": false,
     "start_time": "2020-10-27T11:34:25.210890",
     "status": "completed"
    },
    "tags": []
   },
   "source": [
    " ### Top 20 combinations w.r.t. Lift more than 1.5"
   ]
  },
  {
   "cell_type": "code",
   "execution_count": null,
   "metadata": {
    "execution": {
     "iopub.execute_input": "2020-10-27T11:34:25.457007Z",
     "iopub.status.busy": "2020-10-27T11:34:25.456034Z",
     "iopub.status.idle": "2020-10-27T11:34:25.460205Z",
     "shell.execute_reply": "2020-10-27T11:34:25.459506Z"
    },
    "papermill": {
     "duration": 0.091512,
     "end_time": "2020-10-27T11:34:25.460376",
     "exception": false,
     "start_time": "2020-10-27T11:34:25.368864",
     "status": "completed"
    },
    "tags": []
   },
   "outputs": [],
   "source": [
    "top_20_sort = top_20.sort_values(by='lift', ascending=False)\n",
    "top_20_sort.reset_index(inplace=True)"
   ]
  },
  {
   "cell_type": "code",
   "execution_count": null,
   "metadata": {
    "execution": {
     "iopub.execute_input": "2020-10-27T11:34:25.632919Z",
     "iopub.status.busy": "2020-10-27T11:34:25.632088Z",
     "iopub.status.idle": "2020-10-27T11:34:25.635598Z",
     "shell.execute_reply": "2020-10-27T11:34:25.634770Z"
    },
    "papermill": {
     "duration": 0.093873,
     "end_time": "2020-10-27T11:34:25.635741",
     "exception": false,
     "start_time": "2020-10-27T11:34:25.541868",
     "status": "completed"
    },
    "tags": []
   },
   "outputs": [],
   "source": [
    "top_20_sort = top_20_sort.drop(['index'],axis=1)"
   ]
  },
  {
   "cell_type": "code",
   "execution_count": null,
   "metadata": {
    "execution": {
     "iopub.execute_input": "2020-10-27T11:34:25.824375Z",
     "iopub.status.busy": "2020-10-27T11:34:25.823416Z",
     "iopub.status.idle": "2020-10-27T11:34:25.829513Z",
     "shell.execute_reply": "2020-10-27T11:34:25.828735Z"
    },
    "papermill": {
     "duration": 0.111797,
     "end_time": "2020-10-27T11:34:25.829649",
     "exception": false,
     "start_time": "2020-10-27T11:34:25.717852",
     "status": "completed"
    },
    "tags": []
   },
   "outputs": [],
   "source": [
    "top_20_sort.head()"
   ]
  },
  {
   "cell_type": "markdown",
   "metadata": {
    "papermill": {
     "duration": 0.082382,
     "end_time": "2020-10-27T11:34:25.993903",
     "exception": false,
     "start_time": "2020-10-27T11:34:25.911521",
     "status": "completed"
    },
    "tags": []
   },
   "source": [
    " ### Unique item names from to 20 lift combinations.."
   ]
  },
  {
   "cell_type": "code",
   "execution_count": null,
   "metadata": {
    "execution": {
     "iopub.execute_input": "2020-10-27T11:34:26.171268Z",
     "iopub.status.busy": "2020-10-27T11:34:26.170269Z",
     "iopub.status.idle": "2020-10-27T11:34:26.174270Z",
     "shell.execute_reply": "2020-10-27T11:34:26.173485Z"
    },
    "papermill": {
     "duration": 0.095584,
     "end_time": "2020-10-27T11:34:26.174406",
     "exception": false,
     "start_time": "2020-10-27T11:34:26.078822",
     "status": "completed"
    },
    "tags": []
   },
   "outputs": [],
   "source": [
    "x = top_20_sort[['antecedents','consequents']]"
   ]
  },
  {
   "cell_type": "code",
   "execution_count": null,
   "metadata": {
    "execution": {
     "iopub.execute_input": "2020-10-27T11:34:26.342794Z",
     "iopub.status.busy": "2020-10-27T11:34:26.341631Z",
     "iopub.status.idle": "2020-10-27T11:34:26.345370Z",
     "shell.execute_reply": "2020-10-27T11:34:26.344548Z"
    },
    "papermill": {
     "duration": 0.090839,
     "end_time": "2020-10-27T11:34:26.345513",
     "exception": false,
     "start_time": "2020-10-27T11:34:26.254674",
     "status": "completed"
    },
    "tags": []
   },
   "outputs": [],
   "source": [
    "item_list = []\n",
    "for i in x.antecedents.to_list():\n",
    "    for j in list(set(i)):\n",
    "        item_list .append(j)"
   ]
  },
  {
   "cell_type": "code",
   "execution_count": null,
   "metadata": {
    "execution": {
     "iopub.execute_input": "2020-10-27T11:34:26.514271Z",
     "iopub.status.busy": "2020-10-27T11:34:26.513466Z",
     "iopub.status.idle": "2020-10-27T11:34:26.516839Z",
     "shell.execute_reply": "2020-10-27T11:34:26.516043Z"
    },
    "papermill": {
     "duration": 0.090412,
     "end_time": "2020-10-27T11:34:26.516967",
     "exception": false,
     "start_time": "2020-10-27T11:34:26.426555",
     "status": "completed"
    },
    "tags": []
   },
   "outputs": [],
   "source": [
    "for p in x.consequents.to_list():\n",
    "    for q in list(set(p)):\n",
    "        item_list.append(q)"
   ]
  },
  {
   "cell_type": "code",
   "execution_count": null,
   "metadata": {
    "execution": {
     "iopub.execute_input": "2020-10-27T11:34:26.687535Z",
     "iopub.status.busy": "2020-10-27T11:34:26.686414Z",
     "iopub.status.idle": "2020-10-27T11:34:26.689838Z",
     "shell.execute_reply": "2020-10-27T11:34:26.689071Z"
    },
    "papermill": {
     "duration": 0.091407,
     "end_time": "2020-10-27T11:34:26.689969",
     "exception": false,
     "start_time": "2020-10-27T11:34:26.598562",
     "status": "completed"
    },
    "tags": []
   },
   "outputs": [],
   "source": [
    "def unique(list1): \n",
    "    # insert the list to the set \n",
    "    list_set = set(list1) \n",
    "    # convert the set to the list \n",
    "    unique_list = (list(list_set))\n",
    "    top_items =[]\n",
    "    for m in unique_list:\n",
    "        top_items.append(m)\n",
    "    print(top_items)"
   ]
  },
  {
   "cell_type": "code",
   "execution_count": null,
   "metadata": {
    "execution": {
     "iopub.execute_input": "2020-10-27T11:34:26.857522Z",
     "iopub.status.busy": "2020-10-27T11:34:26.856691Z",
     "iopub.status.idle": "2020-10-27T11:34:26.861323Z",
     "shell.execute_reply": "2020-10-27T11:34:26.859808Z"
    },
    "papermill": {
     "duration": 0.090854,
     "end_time": "2020-10-27T11:34:26.861745",
     "exception": false,
     "start_time": "2020-10-27T11:34:26.770891",
     "status": "completed"
    },
    "tags": []
   },
   "outputs": [],
   "source": [
    "unique(item_list)"
   ]
  },
  {
   "cell_type": "markdown",
   "metadata": {
    "papermill": {
     "duration": 0.08333,
     "end_time": "2020-10-27T11:34:27.028117",
     "exception": false,
     "start_time": "2020-10-27T11:34:26.944787",
     "status": "completed"
    },
    "tags": []
   },
   "source": [
    "above are the top 20 products items & the shuffled combination gives top lift result."
   ]
  },
  {
   "cell_type": "markdown",
   "metadata": {
    "papermill": {
     "duration": 0.081431,
     "end_time": "2020-10-27T11:34:27.191287",
     "exception": false,
     "start_time": "2020-10-27T11:34:27.109856",
     "status": "completed"
    },
    "tags": []
   },
   "source": [
    "***\n",
    "***"
   ]
  }
 ],
 "metadata": {
  "kernelspec": {
   "display_name": "Python 3 (ipykernel)",
   "language": "python",
   "name": "python3"
  },
  "language_info": {
   "codemirror_mode": {
    "name": "ipython",
    "version": 3
   },
   "file_extension": ".py",
   "mimetype": "text/x-python",
   "name": "python",
   "nbconvert_exporter": "python",
   "pygments_lexer": "ipython3",
   "version": "3.8.12"
  },
  "papermill": {
   "duration": 147.4854,
   "end_time": "2020-10-27T11:34:27.383436",
   "environment_variables": {},
   "exception": null,
   "input_path": "__notebook__.ipynb",
   "output_path": "__notebook__.ipynb",
   "parameters": {},
   "start_time": "2020-10-27T11:31:59.898036",
   "version": "2.1.0"
  }
 },
 "nbformat": 4,
 "nbformat_minor": 4
}
