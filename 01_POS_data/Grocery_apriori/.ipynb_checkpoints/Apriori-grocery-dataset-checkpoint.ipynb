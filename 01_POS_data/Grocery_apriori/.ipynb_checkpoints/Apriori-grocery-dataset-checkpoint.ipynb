{
 "cells": [
  {
   "cell_type": "code",
   "execution_count": 1,
   "metadata": {
    "papermill": {
     "duration": 0.056077,
     "end_time": "2020-10-27T11:32:05.107677",
     "exception": false,
     "start_time": "2020-10-27T11:32:05.051600",
     "status": "completed"
    },
    "tags": []
   },
   "outputs": [],
   "source": [
    "# dataset : Kaggle  https://www.kaggle.com/shrikantuppin/association-rules-apriori-grocery-dataset/data"
   ]
  },
  {
   "cell_type": "code",
   "execution_count": 3,
   "metadata": {
    "execution": {
     "iopub.execute_input": "2020-10-27T11:32:05.222689Z",
     "iopub.status.busy": "2020-10-27T11:32:05.221817Z",
     "iopub.status.idle": "2020-10-27T11:32:06.355779Z",
     "shell.execute_reply": "2020-10-27T11:32:06.355057Z"
    },
    "papermill": {
     "duration": 1.194426,
     "end_time": "2020-10-27T11:32:06.355909",
     "exception": false,
     "start_time": "2020-10-27T11:32:05.161483",
     "status": "completed"
    },
    "tags": []
   },
   "outputs": [],
   "source": [
    "import numpy as np\n",
    "import pandas as pd \n",
    "\n",
    "import matplotlib.pyplot as plt \n",
    "import seaborn as sns\n",
    "\n",
    "import warnings\n",
    "warnings.filterwarnings('ignore')"
   ]
  },
  {
   "cell_type": "markdown",
   "metadata": {
    "papermill": {
     "duration": 0.053623,
     "end_time": "2020-10-27T11:32:06.467729",
     "exception": false,
     "start_time": "2020-10-27T11:32:06.414106",
     "status": "completed"
    },
    "tags": []
   },
   "source": [
    "# Step 2: Dataset Loading & Preprocessing"
   ]
  },
  {
   "cell_type": "code",
   "execution_count": 4,
   "metadata": {
    "execution": {
     "iopub.execute_input": "2020-10-27T11:32:06.583787Z",
     "iopub.status.busy": "2020-10-27T11:32:06.582619Z",
     "iopub.status.idle": "2020-10-27T11:32:06.607577Z",
     "shell.execute_reply": "2020-10-27T11:32:06.606725Z"
    },
    "papermill": {
     "duration": 0.086449,
     "end_time": "2020-10-27T11:32:06.607719",
     "exception": false,
     "start_time": "2020-10-27T11:32:06.521270",
     "status": "completed"
    },
    "tags": []
   },
   "outputs": [],
   "source": [
    "dataset = pd.read_csv(\"./groceries.csv\", sep=\";\", header= None)\n",
    "\n",
    "# when we set header=None it will consider as csv file which has no header."
   ]
  },
  {
   "cell_type": "code",
   "execution_count": 5,
   "metadata": {
    "execution": {
     "iopub.execute_input": "2020-10-27T11:32:06.730650Z",
     "iopub.status.busy": "2020-10-27T11:32:06.729759Z",
     "iopub.status.idle": "2020-10-27T11:32:06.739357Z",
     "shell.execute_reply": "2020-10-27T11:32:06.738540Z"
    },
    "papermill": {
     "duration": 0.077858,
     "end_time": "2020-10-27T11:32:06.739491",
     "exception": false,
     "start_time": "2020-10-27T11:32:06.661633",
     "status": "completed"
    },
    "tags": []
   },
   "outputs": [
    {
     "data": {
      "text/html": [
       "<div>\n",
       "<style scoped>\n",
       "    .dataframe tbody tr th:only-of-type {\n",
       "        vertical-align: middle;\n",
       "    }\n",
       "\n",
       "    .dataframe tbody tr th {\n",
       "        vertical-align: top;\n",
       "    }\n",
       "\n",
       "    .dataframe thead th {\n",
       "        text-align: right;\n",
       "    }\n",
       "</style>\n",
       "<table border=\"1\" class=\"dataframe\">\n",
       "  <thead>\n",
       "    <tr style=\"text-align: right;\">\n",
       "      <th></th>\n",
       "      <th>0</th>\n",
       "    </tr>\n",
       "  </thead>\n",
       "  <tbody>\n",
       "    <tr>\n",
       "      <th>0</th>\n",
       "      <td>citrus fruit,semi-finished bread,margarine,rea...</td>\n",
       "    </tr>\n",
       "    <tr>\n",
       "      <th>1</th>\n",
       "      <td>tropical fruit,yogurt,coffee</td>\n",
       "    </tr>\n",
       "    <tr>\n",
       "      <th>2</th>\n",
       "      <td>whole milk</td>\n",
       "    </tr>\n",
       "    <tr>\n",
       "      <th>3</th>\n",
       "      <td>pip fruit,yogurt,cream cheese ,meat spreads</td>\n",
       "    </tr>\n",
       "    <tr>\n",
       "      <th>4</th>\n",
       "      <td>other vegetables,whole milk,condensed milk,lon...</td>\n",
       "    </tr>\n",
       "  </tbody>\n",
       "</table>\n",
       "</div>"
      ],
      "text/plain": [
       "                                                   0\n",
       "0  citrus fruit,semi-finished bread,margarine,rea...\n",
       "1                       tropical fruit,yogurt,coffee\n",
       "2                                         whole milk\n",
       "3        pip fruit,yogurt,cream cheese ,meat spreads\n",
       "4  other vegetables,whole milk,condensed milk,lon..."
      ]
     },
     "execution_count": 5,
     "metadata": {},
     "output_type": "execute_result"
    }
   ],
   "source": [
    "dataset.head()"
   ]
  },
  {
   "cell_type": "markdown",
   "metadata": {
    "papermill": {
     "duration": 0.05465,
     "end_time": "2020-10-27T11:32:06.850510",
     "exception": false,
     "start_time": "2020-10-27T11:32:06.795860",
     "status": "completed"
    },
    "tags": []
   },
   "source": [
    "for above output:\n",
    "\n",
    "* Each row is one transction.\n",
    "\n",
    "* Products in each row is nothing but items purchased by buyer/customer."
   ]
  },
  {
   "cell_type": "markdown",
   "metadata": {
    "papermill": {
     "duration": 0.054896,
     "end_time": "2020-10-27T11:32:06.962111",
     "exception": false,
     "start_time": "2020-10-27T11:32:06.907215",
     "status": "completed"
    },
    "tags": []
   },
   "source": [
    " ### Finding out all unique items available at grocery."
   ]
  },
  {
   "cell_type": "code",
   "execution_count": 6,
   "metadata": {
    "execution": {
     "iopub.execute_input": "2020-10-27T11:32:09.776673Z",
     "iopub.status.busy": "2020-10-27T11:32:09.360791Z",
     "iopub.status.idle": "2020-10-27T11:32:11.135671Z",
     "shell.execute_reply": "2020-10-27T11:32:11.134712Z"
    },
    "papermill": {
     "duration": 4.116778,
     "end_time": "2020-10-27T11:32:11.135888",
     "exception": false,
     "start_time": "2020-10-27T11:32:07.019110",
     "status": "completed"
    },
    "tags": []
   },
   "outputs": [],
   "source": [
    "unique_items_list = []\n",
    "\n",
    "# for each index it will iter row by row\n",
    "for index, row in dataset.iterrows():  \n",
    "    \n",
    "    # splitting items with , and creating a new list for row & it will going add it agian \n",
    "    # ...item_series list for each iteration..so item_series will be list of lists..\n",
    "    items_series = list(row.str.split(','))\n",
    "    \n",
    "    \n",
    "    # agian reading each list elements from item_Series which is big list as mentioned above code\n",
    "    for each_row_list in items_series:\n",
    "        \n",
    "        # iterating each item from each_row_lists\n",
    "        for item in each_row_list:\n",
    "            \n",
    "            # for first iteration..unique_items_list is empty so first item directly append to it.\n",
    "            #...from next onwards..it will start to check condition 'not in'\n",
    "            #....& if item not found in unique_items_list list then it will append to it.\n",
    "            #......finally we will get one unique item list..\n",
    "            if item not in unique_items_list:\n",
    "                unique_items_list.append(item)"
   ]
  },
  {
   "cell_type": "markdown",
   "metadata": {
    "papermill": {
     "duration": 0.055182,
     "end_time": "2020-10-27T11:32:11.250615",
     "exception": false,
     "start_time": "2020-10-27T11:32:11.195433",
     "status": "completed"
    },
    "tags": []
   },
   "source": [
    " ### Now, Generating empty Dataframe with unique_items_list elements as column names."
   ]
  },
  {
   "cell_type": "code",
   "execution_count": 7,
   "metadata": {
    "execution": {
     "iopub.execute_input": "2020-10-27T11:32:11.381618Z",
     "iopub.status.busy": "2020-10-27T11:32:11.380775Z",
     "iopub.status.idle": "2020-10-27T11:32:11.384265Z",
     "shell.execute_reply": "2020-10-27T11:32:11.383620Z"
    },
    "papermill": {
     "duration": 0.078471,
     "end_time": "2020-10-27T11:32:11.384401",
     "exception": false,
     "start_time": "2020-10-27T11:32:11.305930",
     "status": "completed"
    },
    "tags": []
   },
   "outputs": [],
   "source": [
    "df_apriori = pd.DataFrame(columns=unique_items_list)"
   ]
  },
  {
   "cell_type": "code",
   "execution_count": 8,
   "metadata": {
    "execution": {
     "iopub.execute_input": "2020-10-27T11:32:11.515869Z",
     "iopub.status.busy": "2020-10-27T11:32:11.514882Z",
     "iopub.status.idle": "2020-10-27T11:32:11.520511Z",
     "shell.execute_reply": "2020-10-27T11:32:11.519753Z"
    },
    "papermill": {
     "duration": 0.079901,
     "end_time": "2020-10-27T11:32:11.520643",
     "exception": false,
     "start_time": "2020-10-27T11:32:11.440742",
     "status": "completed"
    },
    "tags": []
   },
   "outputs": [
    {
     "data": {
      "text/html": [
       "<div>\n",
       "<style scoped>\n",
       "    .dataframe tbody tr th:only-of-type {\n",
       "        vertical-align: middle;\n",
       "    }\n",
       "\n",
       "    .dataframe tbody tr th {\n",
       "        vertical-align: top;\n",
       "    }\n",
       "\n",
       "    .dataframe thead th {\n",
       "        text-align: right;\n",
       "    }\n",
       "</style>\n",
       "<table border=\"1\" class=\"dataframe\">\n",
       "  <thead>\n",
       "    <tr style=\"text-align: right;\">\n",
       "      <th></th>\n",
       "      <th>citrus fruit</th>\n",
       "      <th>semi-finished bread</th>\n",
       "      <th>margarine</th>\n",
       "      <th>ready soups</th>\n",
       "      <th>tropical fruit</th>\n",
       "      <th>yogurt</th>\n",
       "      <th>coffee</th>\n",
       "      <th>whole milk</th>\n",
       "      <th>pip fruit</th>\n",
       "      <th>cream cheese</th>\n",
       "      <th>...</th>\n",
       "      <th>baby food</th>\n",
       "      <th>pudding powder</th>\n",
       "      <th>tidbits</th>\n",
       "      <th>whisky</th>\n",
       "      <th>frozen fruits</th>\n",
       "      <th>bags</th>\n",
       "      <th>cooking chocolate</th>\n",
       "      <th>sound storage medium</th>\n",
       "      <th>kitchen utensil</th>\n",
       "      <th>preservation products</th>\n",
       "    </tr>\n",
       "  </thead>\n",
       "  <tbody>\n",
       "  </tbody>\n",
       "</table>\n",
       "<p>0 rows × 169 columns</p>\n",
       "</div>"
      ],
      "text/plain": [
       "Empty DataFrame\n",
       "Columns: [citrus fruit, semi-finished bread, margarine, ready soups, tropical fruit, yogurt, coffee, whole milk, pip fruit, cream cheese , meat spreads, other vegetables, condensed milk, long life bakery product, butter, rice, abrasive cleaner, rolls/buns, UHT-milk, bottled beer, liquor (appetizer), pot plants, cereals, white bread, bottled water, chocolate, curd, flour, dishes, beef, frankfurter, soda, chicken, sugar, fruit/vegetable juice, newspapers, packaged fruit/vegetables, specialty bar, butter milk, pastry, processed cheese, detergent, root vegetables, frozen dessert, sweet spreads, salty snack, waffles, candy, bathroom cleaner, canned beer, sausage, brown bread, shopping bags, beverages, hamburger meat, spices, hygiene articles, napkins, pork, berries, whipped/sour cream, artif. sweetener, grapes, dessert, zwieback, domestic eggs, spread cheese, misc. beverages, hard cheese, cat food, ham, turkey, baking powder, pickled vegetables, oil, chewing gum, chocolate marshmallow, ice cream, frozen vegetables, canned fish, seasonal products, curd cheese, red/blush wine, frozen potato products, specialty fat, specialty chocolate, candles, flower (seeds), sparkling wine, salt, frozen meals, canned vegetables, onions, herbs, white wine, brandy, photo/film, sliced cheese, pasta, softener, ...]\n",
       "Index: []\n",
       "\n",
       "[0 rows x 169 columns]"
      ]
     },
     "execution_count": 8,
     "metadata": {},
     "output_type": "execute_result"
    }
   ],
   "source": [
    "df_apriori"
   ]
  },
  {
   "cell_type": "code",
   "execution_count": 9,
   "metadata": {
    "execution": {
     "iopub.execute_input": "2020-10-27T11:32:11.639361Z",
     "iopub.status.busy": "2020-10-27T11:32:11.638238Z",
     "iopub.status.idle": "2020-10-27T11:32:11.641553Z",
     "shell.execute_reply": "2020-10-27T11:32:11.640907Z"
    },
    "papermill": {
     "duration": 0.064467,
     "end_time": "2020-10-27T11:32:11.641699",
     "exception": false,
     "start_time": "2020-10-27T11:32:11.577232",
     "status": "completed"
    },
    "tags": []
   },
   "outputs": [],
   "source": [
    "dataset1 =df_apriori.copy()"
   ]
  },
  {
   "cell_type": "markdown",
   "metadata": {
    "papermill": {
     "duration": 0.056197,
     "end_time": "2020-10-27T11:32:11.754631",
     "exception": false,
     "start_time": "2020-10-27T11:32:11.698434",
     "status": "completed"
    },
    "tags": []
   },
   "source": [
    " ### Sorting items from main dataset agian & assigning in respective column. "
   ]
  },
  {
   "cell_type": "code",
   "execution_count": 10,
   "metadata": {
    "execution": {
     "iopub.execute_input": "2020-10-27T11:32:12.024097Z",
     "iopub.status.busy": "2020-10-27T11:32:11.996837Z",
     "iopub.status.idle": "2020-10-27T11:34:14.990866Z",
     "shell.execute_reply": "2020-10-27T11:34:14.989877Z"
    },
    "papermill": {
     "duration": 123.16787,
     "end_time": "2020-10-27T11:34:14.991095",
     "exception": false,
     "start_time": "2020-10-27T11:32:11.823225",
     "status": "completed"
    },
    "tags": []
   },
   "outputs": [],
   "source": [
    "## If for the item names obesrved w.r.t. each list will be assigned as number 1 & those items are not in \n",
    "##...row number iterating will be assigned with nuber 0.\n",
    "\n",
    "for index, row in dataset.iterrows():\n",
    "    items = str(row[0]).split(',')\n",
    "    one_hot_encoding = np.zeros(len(unique_items_list),dtype=int)\n",
    "    for item_name in items:\n",
    "        for i,column in enumerate(dataset1.columns):\n",
    "            if item_name == column:\n",
    "                one_hot_encoding[i] = 1\n",
    "    dataset1.at[index] = one_hot_encoding\n",
    "\n",
    "# Transction encoder is fastest method to do all this."
   ]
  },
  {
   "cell_type": "code",
   "execution_count": 11,
   "metadata": {
    "execution": {
     "iopub.execute_input": "2020-10-27T11:34:15.128787Z",
     "iopub.status.busy": "2020-10-27T11:34:15.127594Z",
     "iopub.status.idle": "2020-10-27T11:34:15.156811Z",
     "shell.execute_reply": "2020-10-27T11:34:15.158528Z"
    },
    "papermill": {
     "duration": 0.10875,
     "end_time": "2020-10-27T11:34:15.158792",
     "exception": false,
     "start_time": "2020-10-27T11:34:15.050042",
     "status": "completed"
    },
    "tags": []
   },
   "outputs": [
    {
     "data": {
      "text/html": [
       "<div>\n",
       "<style scoped>\n",
       "    .dataframe tbody tr th:only-of-type {\n",
       "        vertical-align: middle;\n",
       "    }\n",
       "\n",
       "    .dataframe tbody tr th {\n",
       "        vertical-align: top;\n",
       "    }\n",
       "\n",
       "    .dataframe thead th {\n",
       "        text-align: right;\n",
       "    }\n",
       "</style>\n",
       "<table border=\"1\" class=\"dataframe\">\n",
       "  <thead>\n",
       "    <tr style=\"text-align: right;\">\n",
       "      <th></th>\n",
       "      <th>citrus fruit</th>\n",
       "      <th>semi-finished bread</th>\n",
       "      <th>margarine</th>\n",
       "      <th>ready soups</th>\n",
       "      <th>tropical fruit</th>\n",
       "      <th>yogurt</th>\n",
       "      <th>coffee</th>\n",
       "      <th>whole milk</th>\n",
       "      <th>pip fruit</th>\n",
       "      <th>cream cheese</th>\n",
       "      <th>...</th>\n",
       "      <th>baby food</th>\n",
       "      <th>pudding powder</th>\n",
       "      <th>tidbits</th>\n",
       "      <th>whisky</th>\n",
       "      <th>frozen fruits</th>\n",
       "      <th>bags</th>\n",
       "      <th>cooking chocolate</th>\n",
       "      <th>sound storage medium</th>\n",
       "      <th>kitchen utensil</th>\n",
       "      <th>preservation products</th>\n",
       "    </tr>\n",
       "  </thead>\n",
       "  <tbody>\n",
       "    <tr>\n",
       "      <th>0</th>\n",
       "      <td>1</td>\n",
       "      <td>1</td>\n",
       "      <td>1</td>\n",
       "      <td>1</td>\n",
       "      <td>0</td>\n",
       "      <td>0</td>\n",
       "      <td>0</td>\n",
       "      <td>0</td>\n",
       "      <td>0</td>\n",
       "      <td>0</td>\n",
       "      <td>...</td>\n",
       "      <td>0</td>\n",
       "      <td>0</td>\n",
       "      <td>0</td>\n",
       "      <td>0</td>\n",
       "      <td>0</td>\n",
       "      <td>0</td>\n",
       "      <td>0</td>\n",
       "      <td>0</td>\n",
       "      <td>0</td>\n",
       "      <td>0</td>\n",
       "    </tr>\n",
       "    <tr>\n",
       "      <th>1</th>\n",
       "      <td>0</td>\n",
       "      <td>0</td>\n",
       "      <td>0</td>\n",
       "      <td>0</td>\n",
       "      <td>1</td>\n",
       "      <td>1</td>\n",
       "      <td>1</td>\n",
       "      <td>0</td>\n",
       "      <td>0</td>\n",
       "      <td>0</td>\n",
       "      <td>...</td>\n",
       "      <td>0</td>\n",
       "      <td>0</td>\n",
       "      <td>0</td>\n",
       "      <td>0</td>\n",
       "      <td>0</td>\n",
       "      <td>0</td>\n",
       "      <td>0</td>\n",
       "      <td>0</td>\n",
       "      <td>0</td>\n",
       "      <td>0</td>\n",
       "    </tr>\n",
       "    <tr>\n",
       "      <th>2</th>\n",
       "      <td>0</td>\n",
       "      <td>0</td>\n",
       "      <td>0</td>\n",
       "      <td>0</td>\n",
       "      <td>0</td>\n",
       "      <td>0</td>\n",
       "      <td>0</td>\n",
       "      <td>1</td>\n",
       "      <td>0</td>\n",
       "      <td>0</td>\n",
       "      <td>...</td>\n",
       "      <td>0</td>\n",
       "      <td>0</td>\n",
       "      <td>0</td>\n",
       "      <td>0</td>\n",
       "      <td>0</td>\n",
       "      <td>0</td>\n",
       "      <td>0</td>\n",
       "      <td>0</td>\n",
       "      <td>0</td>\n",
       "      <td>0</td>\n",
       "    </tr>\n",
       "    <tr>\n",
       "      <th>3</th>\n",
       "      <td>0</td>\n",
       "      <td>0</td>\n",
       "      <td>0</td>\n",
       "      <td>0</td>\n",
       "      <td>0</td>\n",
       "      <td>1</td>\n",
       "      <td>0</td>\n",
       "      <td>0</td>\n",
       "      <td>1</td>\n",
       "      <td>1</td>\n",
       "      <td>...</td>\n",
       "      <td>0</td>\n",
       "      <td>0</td>\n",
       "      <td>0</td>\n",
       "      <td>0</td>\n",
       "      <td>0</td>\n",
       "      <td>0</td>\n",
       "      <td>0</td>\n",
       "      <td>0</td>\n",
       "      <td>0</td>\n",
       "      <td>0</td>\n",
       "    </tr>\n",
       "    <tr>\n",
       "      <th>4</th>\n",
       "      <td>0</td>\n",
       "      <td>0</td>\n",
       "      <td>0</td>\n",
       "      <td>0</td>\n",
       "      <td>0</td>\n",
       "      <td>0</td>\n",
       "      <td>0</td>\n",
       "      <td>1</td>\n",
       "      <td>0</td>\n",
       "      <td>0</td>\n",
       "      <td>...</td>\n",
       "      <td>0</td>\n",
       "      <td>0</td>\n",
       "      <td>0</td>\n",
       "      <td>0</td>\n",
       "      <td>0</td>\n",
       "      <td>0</td>\n",
       "      <td>0</td>\n",
       "      <td>0</td>\n",
       "      <td>0</td>\n",
       "      <td>0</td>\n",
       "    </tr>\n",
       "  </tbody>\n",
       "</table>\n",
       "<p>5 rows × 169 columns</p>\n",
       "</div>"
      ],
      "text/plain": [
       "  citrus fruit semi-finished bread margarine ready soups tropical fruit  \\\n",
       "0            1                   1         1           1              0   \n",
       "1            0                   0         0           0              1   \n",
       "2            0                   0         0           0              0   \n",
       "3            0                   0         0           0              0   \n",
       "4            0                   0         0           0              0   \n",
       "\n",
       "  yogurt coffee whole milk pip fruit cream cheese   ... baby food  \\\n",
       "0      0      0          0         0             0  ...         0   \n",
       "1      1      1          0         0             0  ...         0   \n",
       "2      0      0          1         0             0  ...         0   \n",
       "3      1      0          0         1             1  ...         0   \n",
       "4      0      0          1         0             0  ...         0   \n",
       "\n",
       "  pudding powder tidbits whisky frozen fruits bags cooking chocolate  \\\n",
       "0              0       0      0             0    0                 0   \n",
       "1              0       0      0             0    0                 0   \n",
       "2              0       0      0             0    0                 0   \n",
       "3              0       0      0             0    0                 0   \n",
       "4              0       0      0             0    0                 0   \n",
       "\n",
       "  sound storage medium kitchen utensil preservation products  \n",
       "0                    0               0                     0  \n",
       "1                    0               0                     0  \n",
       "2                    0               0                     0  \n",
       "3                    0               0                     0  \n",
       "4                    0               0                     0  \n",
       "\n",
       "[5 rows x 169 columns]"
      ]
     },
     "execution_count": 11,
     "metadata": {},
     "output_type": "execute_result"
    }
   ],
   "source": [
    "dataset1.head()"
   ]
  },
  {
   "cell_type": "code",
   "execution_count": 12,
   "metadata": {
    "execution": {
     "iopub.execute_input": "2020-10-27T11:34:15.282228Z",
     "iopub.status.busy": "2020-10-27T11:34:15.281124Z",
     "iopub.status.idle": "2020-10-27T11:34:15.285027Z",
     "shell.execute_reply": "2020-10-27T11:34:15.285837Z"
    },
    "papermill": {
     "duration": 0.067559,
     "end_time": "2020-10-27T11:34:15.286044",
     "exception": false,
     "start_time": "2020-10-27T11:34:15.218485",
     "status": "completed"
    },
    "tags": []
   },
   "outputs": [
    {
     "data": {
      "text/plain": [
       "(9835, 169)"
      ]
     },
     "execution_count": 12,
     "metadata": {},
     "output_type": "execute_result"
    }
   ],
   "source": [
    "# shape of the dataset1\n",
    "\n",
    "dataset1.shape"
   ]
  },
  {
   "cell_type": "code",
   "execution_count": 13,
   "metadata": {
    "execution": {
     "iopub.execute_input": "2020-10-27T11:34:15.426002Z",
     "iopub.status.busy": "2020-10-27T11:34:15.414084Z",
     "iopub.status.idle": "2020-10-27T11:34:15.433379Z",
     "shell.execute_reply": "2020-10-27T11:34:15.432516Z"
    },
    "papermill": {
     "duration": 0.083955,
     "end_time": "2020-10-27T11:34:15.433540",
     "exception": false,
     "start_time": "2020-10-27T11:34:15.349585",
     "status": "completed"
    },
    "tags": []
   },
   "outputs": [
    {
     "name": "stdout",
     "output_type": "stream",
     "text": [
      "<class 'pandas.core.frame.DataFrame'>\n",
      "Int64Index: 9835 entries, 0 to 9834\n",
      "Columns: 169 entries, citrus fruit to preservation products\n",
      "dtypes: object(169)\n",
      "memory usage: 13.0+ MB\n"
     ]
    }
   ],
   "source": [
    "dataset1.info()"
   ]
  },
  {
   "cell_type": "code",
   "execution_count": 14,
   "metadata": {
    "execution": {
     "iopub.execute_input": "2020-10-27T11:34:15.780432Z",
     "iopub.status.busy": "2020-10-27T11:34:15.776077Z",
     "iopub.status.idle": "2020-10-27T11:34:15.785062Z",
     "shell.execute_reply": "2020-10-27T11:34:15.784211Z"
    },
    "papermill": {
     "duration": 0.292455,
     "end_time": "2020-10-27T11:34:15.785287",
     "exception": false,
     "start_time": "2020-10-27T11:34:15.492832",
     "status": "completed"
    },
    "tags": []
   },
   "outputs": [
    {
     "name": "stdout",
     "output_type": "stream",
     "text": [
      "<class 'pandas.core.frame.DataFrame'>\n",
      "Int64Index: 9835 entries, 0 to 9834\n",
      "Columns: 169 entries, citrus fruit to preservation products\n",
      "dtypes: uint8(169)\n",
      "memory usage: 1.9 MB\n"
     ]
    }
   ],
   "source": [
    "# Sinced efault datatype saved as 'object'. Converting in 'integer' datatype\n",
    "\n",
    "dataset1 = dataset1.astype('uint8')\n",
    "dataset1.info()"
   ]
  },
  {
   "cell_type": "markdown",
   "metadata": {
    "papermill": {
     "duration": 0.058973,
     "end_time": "2020-10-27T11:34:15.911566",
     "exception": false,
     "start_time": "2020-10-27T11:34:15.852593",
     "status": "completed"
    },
    "tags": []
   },
   "source": [
    "# Step 3: Exploratory Data Analysis"
   ]
  },
  {
   "cell_type": "code",
   "execution_count": 16,
   "metadata": {
    "execution": {
     "iopub.execute_input": "2020-10-27T11:34:16.053008Z",
     "iopub.status.busy": "2020-10-27T11:34:16.051978Z",
     "iopub.status.idle": "2020-10-27T11:34:16.056457Z",
     "shell.execute_reply": "2020-10-27T11:34:16.056979Z"
    },
    "papermill": {
     "duration": 0.085337,
     "end_time": "2020-10-27T11:34:16.057140",
     "exception": false,
     "start_time": "2020-10-27T11:34:15.971803",
     "status": "completed"
    },
    "tags": []
   },
   "outputs": [
    {
     "data": {
      "text/html": [
       "<div>\n",
       "<style scoped>\n",
       "    .dataframe tbody tr th:only-of-type {\n",
       "        vertical-align: middle;\n",
       "    }\n",
       "\n",
       "    .dataframe tbody tr th {\n",
       "        vertical-align: top;\n",
       "    }\n",
       "\n",
       "    .dataframe thead th {\n",
       "        text-align: right;\n",
       "    }\n",
       "</style>\n",
       "<table border=\"1\" class=\"dataframe\">\n",
       "  <thead>\n",
       "    <tr style=\"text-align: right;\">\n",
       "      <th></th>\n",
       "      <th>citrus fruit</th>\n",
       "      <th>semi-finished bread</th>\n",
       "      <th>margarine</th>\n",
       "      <th>ready soups</th>\n",
       "      <th>tropical fruit</th>\n",
       "      <th>yogurt</th>\n",
       "      <th>coffee</th>\n",
       "      <th>whole milk</th>\n",
       "      <th>pip fruit</th>\n",
       "      <th>cream cheese</th>\n",
       "      <th>...</th>\n",
       "      <th>baby food</th>\n",
       "      <th>pudding powder</th>\n",
       "      <th>tidbits</th>\n",
       "      <th>whisky</th>\n",
       "      <th>frozen fruits</th>\n",
       "      <th>bags</th>\n",
       "      <th>cooking chocolate</th>\n",
       "      <th>sound storage medium</th>\n",
       "      <th>kitchen utensil</th>\n",
       "      <th>preservation products</th>\n",
       "    </tr>\n",
       "  </thead>\n",
       "  <tbody>\n",
       "    <tr>\n",
       "      <th>0</th>\n",
       "      <td>1</td>\n",
       "      <td>1</td>\n",
       "      <td>1</td>\n",
       "      <td>1</td>\n",
       "      <td>0</td>\n",
       "      <td>0</td>\n",
       "      <td>0</td>\n",
       "      <td>0</td>\n",
       "      <td>0</td>\n",
       "      <td>0</td>\n",
       "      <td>...</td>\n",
       "      <td>0</td>\n",
       "      <td>0</td>\n",
       "      <td>0</td>\n",
       "      <td>0</td>\n",
       "      <td>0</td>\n",
       "      <td>0</td>\n",
       "      <td>0</td>\n",
       "      <td>0</td>\n",
       "      <td>0</td>\n",
       "      <td>0</td>\n",
       "    </tr>\n",
       "    <tr>\n",
       "      <th>1</th>\n",
       "      <td>0</td>\n",
       "      <td>0</td>\n",
       "      <td>0</td>\n",
       "      <td>0</td>\n",
       "      <td>1</td>\n",
       "      <td>1</td>\n",
       "      <td>1</td>\n",
       "      <td>0</td>\n",
       "      <td>0</td>\n",
       "      <td>0</td>\n",
       "      <td>...</td>\n",
       "      <td>0</td>\n",
       "      <td>0</td>\n",
       "      <td>0</td>\n",
       "      <td>0</td>\n",
       "      <td>0</td>\n",
       "      <td>0</td>\n",
       "      <td>0</td>\n",
       "      <td>0</td>\n",
       "      <td>0</td>\n",
       "      <td>0</td>\n",
       "    </tr>\n",
       "    <tr>\n",
       "      <th>2</th>\n",
       "      <td>0</td>\n",
       "      <td>0</td>\n",
       "      <td>0</td>\n",
       "      <td>0</td>\n",
       "      <td>0</td>\n",
       "      <td>0</td>\n",
       "      <td>0</td>\n",
       "      <td>1</td>\n",
       "      <td>0</td>\n",
       "      <td>0</td>\n",
       "      <td>...</td>\n",
       "      <td>0</td>\n",
       "      <td>0</td>\n",
       "      <td>0</td>\n",
       "      <td>0</td>\n",
       "      <td>0</td>\n",
       "      <td>0</td>\n",
       "      <td>0</td>\n",
       "      <td>0</td>\n",
       "      <td>0</td>\n",
       "      <td>0</td>\n",
       "    </tr>\n",
       "    <tr>\n",
       "      <th>3</th>\n",
       "      <td>0</td>\n",
       "      <td>0</td>\n",
       "      <td>0</td>\n",
       "      <td>0</td>\n",
       "      <td>0</td>\n",
       "      <td>1</td>\n",
       "      <td>0</td>\n",
       "      <td>0</td>\n",
       "      <td>1</td>\n",
       "      <td>1</td>\n",
       "      <td>...</td>\n",
       "      <td>0</td>\n",
       "      <td>0</td>\n",
       "      <td>0</td>\n",
       "      <td>0</td>\n",
       "      <td>0</td>\n",
       "      <td>0</td>\n",
       "      <td>0</td>\n",
       "      <td>0</td>\n",
       "      <td>0</td>\n",
       "      <td>0</td>\n",
       "    </tr>\n",
       "    <tr>\n",
       "      <th>4</th>\n",
       "      <td>0</td>\n",
       "      <td>0</td>\n",
       "      <td>0</td>\n",
       "      <td>0</td>\n",
       "      <td>0</td>\n",
       "      <td>0</td>\n",
       "      <td>0</td>\n",
       "      <td>1</td>\n",
       "      <td>0</td>\n",
       "      <td>0</td>\n",
       "      <td>...</td>\n",
       "      <td>0</td>\n",
       "      <td>0</td>\n",
       "      <td>0</td>\n",
       "      <td>0</td>\n",
       "      <td>0</td>\n",
       "      <td>0</td>\n",
       "      <td>0</td>\n",
       "      <td>0</td>\n",
       "      <td>0</td>\n",
       "      <td>0</td>\n",
       "    </tr>\n",
       "  </tbody>\n",
       "</table>\n",
       "<p>5 rows × 169 columns</p>\n",
       "</div>"
      ],
      "text/plain": [
       "   citrus fruit  semi-finished bread  margarine  ready soups  tropical fruit  \\\n",
       "0             1                    1          1            1               0   \n",
       "1             0                    0          0            0               1   \n",
       "2             0                    0          0            0               0   \n",
       "3             0                    0          0            0               0   \n",
       "4             0                    0          0            0               0   \n",
       "\n",
       "   yogurt  coffee  whole milk  pip fruit  cream cheese   ...  baby food  \\\n",
       "0       0       0           0          0              0  ...          0   \n",
       "1       1       1           0          0              0  ...          0   \n",
       "2       0       0           1          0              0  ...          0   \n",
       "3       1       0           0          1              1  ...          0   \n",
       "4       0       0           1          0              0  ...          0   \n",
       "\n",
       "   pudding powder  tidbits  whisky  frozen fruits  bags  cooking chocolate  \\\n",
       "0               0        0       0              0     0                  0   \n",
       "1               0        0       0              0     0                  0   \n",
       "2               0        0       0              0     0                  0   \n",
       "3               0        0       0              0     0                  0   \n",
       "4               0        0       0              0     0                  0   \n",
       "\n",
       "   sound storage medium  kitchen utensil  preservation products  \n",
       "0                     0                0                      0  \n",
       "1                     0                0                      0  \n",
       "2                     0                0                      0  \n",
       "3                     0                0                      0  \n",
       "4                     0                0                      0  \n",
       "\n",
       "[5 rows x 169 columns]"
      ]
     },
     "execution_count": 16,
     "metadata": {},
     "output_type": "execute_result"
    }
   ],
   "source": [
    "dataset1.head()"
   ]
  },
  {
   "cell_type": "markdown",
   "metadata": {
    "papermill": {
     "duration": 0.061216,
     "end_time": "2020-10-27T11:34:16.180984",
     "exception": false,
     "start_time": "2020-10-27T11:34:16.119768",
     "status": "completed"
    },
    "tags": []
   },
   "source": [
    " ### Checking for Purchased and not purchased item qty. details to get insights"
   ]
  },
  {
   "cell_type": "code",
   "execution_count": 17,
   "metadata": {
    "execution": {
     "iopub.execute_input": "2020-10-27T11:34:16.308955Z",
     "iopub.status.busy": "2020-10-27T11:34:16.308117Z",
     "iopub.status.idle": "2020-10-27T11:34:16.565463Z",
     "shell.execute_reply": "2020-10-27T11:34:16.564744Z"
    },
    "papermill": {
     "duration": 0.324549,
     "end_time": "2020-10-27T11:34:16.565600",
     "exception": false,
     "start_time": "2020-10-27T11:34:16.241051",
     "status": "completed"
    },
    "tags": []
   },
   "outputs": [],
   "source": [
    "zero =[]\n",
    "one = []\n",
    "for i in df_apriori.columns:\n",
    "    zero.append(list(dataset1[i].value_counts())[0])\n",
    "    one.append(list(dataset1[i].value_counts())[1])"
   ]
  },
  {
   "cell_type": "code",
   "execution_count": 18,
   "metadata": {
    "execution": {
     "iopub.execute_input": "2020-10-27T11:34:16.699103Z",
     "iopub.status.busy": "2020-10-27T11:34:16.697963Z",
     "iopub.status.idle": "2020-10-27T11:34:16.726055Z",
     "shell.execute_reply": "2020-10-27T11:34:16.724891Z"
    },
    "papermill": {
     "duration": 0.100058,
     "end_time": "2020-10-27T11:34:16.726302",
     "exception": false,
     "start_time": "2020-10-27T11:34:16.626244",
     "status": "completed"
    },
    "tags": []
   },
   "outputs": [],
   "source": [
    "count_df = pd.DataFrame([zero,one], columns=df_apriori.copy().columns)"
   ]
  },
  {
   "cell_type": "code",
   "execution_count": 19,
   "metadata": {
    "execution": {
     "iopub.execute_input": "2020-10-27T11:34:16.873102Z",
     "iopub.status.busy": "2020-10-27T11:34:16.871939Z",
     "iopub.status.idle": "2020-10-27T11:34:16.876489Z",
     "shell.execute_reply": "2020-10-27T11:34:16.877011Z"
    },
    "papermill": {
     "duration": 0.084912,
     "end_time": "2020-10-27T11:34:16.877188",
     "exception": false,
     "start_time": "2020-10-27T11:34:16.792276",
     "status": "completed"
    },
    "tags": []
   },
   "outputs": [
    {
     "data": {
      "text/html": [
       "<div>\n",
       "<style scoped>\n",
       "    .dataframe tbody tr th:only-of-type {\n",
       "        vertical-align: middle;\n",
       "    }\n",
       "\n",
       "    .dataframe tbody tr th {\n",
       "        vertical-align: top;\n",
       "    }\n",
       "\n",
       "    .dataframe thead th {\n",
       "        text-align: right;\n",
       "    }\n",
       "</style>\n",
       "<table border=\"1\" class=\"dataframe\">\n",
       "  <thead>\n",
       "    <tr style=\"text-align: right;\">\n",
       "      <th></th>\n",
       "      <th>citrus fruit</th>\n",
       "      <th>semi-finished bread</th>\n",
       "      <th>margarine</th>\n",
       "      <th>ready soups</th>\n",
       "      <th>tropical fruit</th>\n",
       "      <th>yogurt</th>\n",
       "      <th>coffee</th>\n",
       "      <th>whole milk</th>\n",
       "      <th>pip fruit</th>\n",
       "      <th>cream cheese</th>\n",
       "      <th>...</th>\n",
       "      <th>baby food</th>\n",
       "      <th>pudding powder</th>\n",
       "      <th>tidbits</th>\n",
       "      <th>whisky</th>\n",
       "      <th>frozen fruits</th>\n",
       "      <th>bags</th>\n",
       "      <th>cooking chocolate</th>\n",
       "      <th>sound storage medium</th>\n",
       "      <th>kitchen utensil</th>\n",
       "      <th>preservation products</th>\n",
       "    </tr>\n",
       "  </thead>\n",
       "  <tbody>\n",
       "    <tr>\n",
       "      <th>0</th>\n",
       "      <td>9021</td>\n",
       "      <td>9661</td>\n",
       "      <td>9259</td>\n",
       "      <td>9817</td>\n",
       "      <td>8803</td>\n",
       "      <td>8463</td>\n",
       "      <td>9264</td>\n",
       "      <td>7322</td>\n",
       "      <td>9091</td>\n",
       "      <td>9445</td>\n",
       "      <td>...</td>\n",
       "      <td>9834</td>\n",
       "      <td>9812</td>\n",
       "      <td>9812</td>\n",
       "      <td>9827</td>\n",
       "      <td>9823</td>\n",
       "      <td>9831</td>\n",
       "      <td>9810</td>\n",
       "      <td>9834</td>\n",
       "      <td>9831</td>\n",
       "      <td>9833</td>\n",
       "    </tr>\n",
       "    <tr>\n",
       "      <th>1</th>\n",
       "      <td>814</td>\n",
       "      <td>174</td>\n",
       "      <td>576</td>\n",
       "      <td>18</td>\n",
       "      <td>1032</td>\n",
       "      <td>1372</td>\n",
       "      <td>571</td>\n",
       "      <td>2513</td>\n",
       "      <td>744</td>\n",
       "      <td>390</td>\n",
       "      <td>...</td>\n",
       "      <td>1</td>\n",
       "      <td>23</td>\n",
       "      <td>23</td>\n",
       "      <td>8</td>\n",
       "      <td>12</td>\n",
       "      <td>4</td>\n",
       "      <td>25</td>\n",
       "      <td>1</td>\n",
       "      <td>4</td>\n",
       "      <td>2</td>\n",
       "    </tr>\n",
       "  </tbody>\n",
       "</table>\n",
       "<p>2 rows × 169 columns</p>\n",
       "</div>"
      ],
      "text/plain": [
       "   citrus fruit  semi-finished bread  margarine  ready soups  tropical fruit  \\\n",
       "0          9021                 9661       9259         9817            8803   \n",
       "1           814                  174        576           18            1032   \n",
       "\n",
       "   yogurt  coffee  whole milk  pip fruit  cream cheese   ...  baby food  \\\n",
       "0    8463    9264        7322       9091           9445  ...       9834   \n",
       "1    1372     571        2513        744            390  ...          1   \n",
       "\n",
       "   pudding powder  tidbits  whisky  frozen fruits  bags  cooking chocolate  \\\n",
       "0            9812     9812    9827           9823  9831               9810   \n",
       "1              23       23       8             12     4                 25   \n",
       "\n",
       "   sound storage medium  kitchen utensil  preservation products  \n",
       "0                  9834             9831                   9833  \n",
       "1                     1                4                      2  \n",
       "\n",
       "[2 rows x 169 columns]"
      ]
     },
     "execution_count": 19,
     "metadata": {},
     "output_type": "execute_result"
    }
   ],
   "source": [
    "count_df.head()"
   ]
  },
  {
   "cell_type": "code",
   "execution_count": 20,
   "metadata": {
    "execution": {
     "iopub.execute_input": "2020-10-27T11:34:17.022163Z",
     "iopub.status.busy": "2020-10-27T11:34:17.021211Z",
     "iopub.status.idle": "2020-10-27T11:34:17.026102Z",
     "shell.execute_reply": "2020-10-27T11:34:17.025507Z"
    },
    "papermill": {
     "duration": 0.086776,
     "end_time": "2020-10-27T11:34:17.026251",
     "exception": false,
     "start_time": "2020-10-27T11:34:16.939475",
     "status": "completed"
    },
    "tags": []
   },
   "outputs": [
    {
     "data": {
      "text/html": [
       "<div>\n",
       "<style scoped>\n",
       "    .dataframe tbody tr th:only-of-type {\n",
       "        vertical-align: middle;\n",
       "    }\n",
       "\n",
       "    .dataframe tbody tr th {\n",
       "        vertical-align: top;\n",
       "    }\n",
       "\n",
       "    .dataframe thead th {\n",
       "        text-align: right;\n",
       "    }\n",
       "</style>\n",
       "<table border=\"1\" class=\"dataframe\">\n",
       "  <thead>\n",
       "    <tr style=\"text-align: right;\">\n",
       "      <th></th>\n",
       "      <th>citrus fruit</th>\n",
       "      <th>semi-finished bread</th>\n",
       "      <th>margarine</th>\n",
       "      <th>ready soups</th>\n",
       "      <th>tropical fruit</th>\n",
       "      <th>yogurt</th>\n",
       "      <th>coffee</th>\n",
       "      <th>whole milk</th>\n",
       "      <th>pip fruit</th>\n",
       "      <th>cream cheese</th>\n",
       "      <th>...</th>\n",
       "      <th>baby food</th>\n",
       "      <th>pudding powder</th>\n",
       "      <th>tidbits</th>\n",
       "      <th>whisky</th>\n",
       "      <th>frozen fruits</th>\n",
       "      <th>bags</th>\n",
       "      <th>cooking chocolate</th>\n",
       "      <th>sound storage medium</th>\n",
       "      <th>kitchen utensil</th>\n",
       "      <th>preservation products</th>\n",
       "    </tr>\n",
       "  </thead>\n",
       "  <tbody>\n",
       "    <tr>\n",
       "      <th>Not_Purchased</th>\n",
       "      <td>9021</td>\n",
       "      <td>9661</td>\n",
       "      <td>9259</td>\n",
       "      <td>9817</td>\n",
       "      <td>8803</td>\n",
       "      <td>8463</td>\n",
       "      <td>9264</td>\n",
       "      <td>7322</td>\n",
       "      <td>9091</td>\n",
       "      <td>9445</td>\n",
       "      <td>...</td>\n",
       "      <td>9834</td>\n",
       "      <td>9812</td>\n",
       "      <td>9812</td>\n",
       "      <td>9827</td>\n",
       "      <td>9823</td>\n",
       "      <td>9831</td>\n",
       "      <td>9810</td>\n",
       "      <td>9834</td>\n",
       "      <td>9831</td>\n",
       "      <td>9833</td>\n",
       "    </tr>\n",
       "    <tr>\n",
       "      <th>Purchased</th>\n",
       "      <td>814</td>\n",
       "      <td>174</td>\n",
       "      <td>576</td>\n",
       "      <td>18</td>\n",
       "      <td>1032</td>\n",
       "      <td>1372</td>\n",
       "      <td>571</td>\n",
       "      <td>2513</td>\n",
       "      <td>744</td>\n",
       "      <td>390</td>\n",
       "      <td>...</td>\n",
       "      <td>1</td>\n",
       "      <td>23</td>\n",
       "      <td>23</td>\n",
       "      <td>8</td>\n",
       "      <td>12</td>\n",
       "      <td>4</td>\n",
       "      <td>25</td>\n",
       "      <td>1</td>\n",
       "      <td>4</td>\n",
       "      <td>2</td>\n",
       "    </tr>\n",
       "  </tbody>\n",
       "</table>\n",
       "<p>2 rows × 169 columns</p>\n",
       "</div>"
      ],
      "text/plain": [
       "               citrus fruit  semi-finished bread  margarine  ready soups  \\\n",
       "Not_Purchased          9021                 9661       9259         9817   \n",
       "Purchased               814                  174        576           18   \n",
       "\n",
       "               tropical fruit  yogurt  coffee  whole milk  pip fruit  \\\n",
       "Not_Purchased            8803    8463    9264        7322       9091   \n",
       "Purchased                1032    1372     571        2513        744   \n",
       "\n",
       "               cream cheese   ...  baby food  pudding powder  tidbits  whisky  \\\n",
       "Not_Purchased           9445  ...       9834            9812     9812    9827   \n",
       "Purchased                390  ...          1              23       23       8   \n",
       "\n",
       "               frozen fruits  bags  cooking chocolate  sound storage medium  \\\n",
       "Not_Purchased           9823  9831               9810                  9834   \n",
       "Purchased                 12     4                 25                     1   \n",
       "\n",
       "               kitchen utensil  preservation products  \n",
       "Not_Purchased             9831                   9833  \n",
       "Purchased                    4                      2  \n",
       "\n",
       "[2 rows x 169 columns]"
      ]
     },
     "execution_count": 20,
     "metadata": {},
     "output_type": "execute_result"
    }
   ],
   "source": [
    "# Changing row names...\n",
    "\n",
    "count_df.index = ['Not_Purchased', 'Purchased']\n",
    "count_df"
   ]
  },
  {
   "cell_type": "markdown",
   "metadata": {
    "papermill": {
     "duration": 0.062199,
     "end_time": "2020-10-27T11:34:17.150003",
     "exception": false,
     "start_time": "2020-10-27T11:34:17.087804",
     "status": "completed"
    },
    "tags": []
   },
   "source": [
    "Grocery shop contains total 169 numbers of items."
   ]
  },
  {
   "cell_type": "code",
   "execution_count": 21,
   "metadata": {
    "execution": {
     "iopub.execute_input": "2020-10-27T11:34:17.284105Z",
     "iopub.status.busy": "2020-10-27T11:34:17.283345Z",
     "iopub.status.idle": "2020-10-27T11:34:17.287859Z",
     "shell.execute_reply": "2020-10-27T11:34:17.288469Z"
    },
    "papermill": {
     "duration": 0.076887,
     "end_time": "2020-10-27T11:34:17.288623",
     "exception": false,
     "start_time": "2020-10-27T11:34:17.211736",
     "status": "completed"
    },
    "tags": []
   },
   "outputs": [
    {
     "name": "stdout",
     "output_type": "stream",
     "text": [
      "maximum purchased item: whole milk : 2513\n",
      "minimum purchased item: baby food : 9834\n"
     ]
    }
   ],
   "source": [
    "# CHECKING WHICH PRODUCTE\n",
    "\n",
    "print('maximum purchased item:',count_df.idxmax(axis = 1)[1],':',count_df.loc['Purchased'].max())\n",
    "print('minimum purchased item:',count_df.idxmax(axis = 1)[0],':',count_df.loc['Not_Purchased'].max())"
   ]
  },
  {
   "cell_type": "code",
   "execution_count": 22,
   "metadata": {
    "execution": {
     "iopub.execute_input": "2020-10-27T11:34:17.428446Z",
     "iopub.status.busy": "2020-10-27T11:34:17.427551Z",
     "iopub.status.idle": "2020-10-27T11:34:17.431935Z",
     "shell.execute_reply": "2020-10-27T11:34:17.432495Z"
    },
    "papermill": {
     "duration": 0.081572,
     "end_time": "2020-10-27T11:34:17.432653",
     "exception": false,
     "start_time": "2020-10-27T11:34:17.351081",
     "status": "completed"
    },
    "tags": []
   },
   "outputs": [
    {
     "data": {
      "text/html": [
       "<div>\n",
       "<style scoped>\n",
       "    .dataframe tbody tr th:only-of-type {\n",
       "        vertical-align: middle;\n",
       "    }\n",
       "\n",
       "    .dataframe tbody tr th {\n",
       "        vertical-align: top;\n",
       "    }\n",
       "\n",
       "    .dataframe thead th {\n",
       "        text-align: right;\n",
       "    }\n",
       "</style>\n",
       "<table border=\"1\" class=\"dataframe\">\n",
       "  <thead>\n",
       "    <tr style=\"text-align: right;\">\n",
       "      <th></th>\n",
       "      <th>Not_Purchased</th>\n",
       "      <th>Purchased</th>\n",
       "    </tr>\n",
       "  </thead>\n",
       "  <tbody>\n",
       "    <tr>\n",
       "      <th>whole milk</th>\n",
       "      <td>7322</td>\n",
       "      <td>2513</td>\n",
       "    </tr>\n",
       "    <tr>\n",
       "      <th>other vegetables</th>\n",
       "      <td>7932</td>\n",
       "      <td>1903</td>\n",
       "    </tr>\n",
       "    <tr>\n",
       "      <th>rolls/buns</th>\n",
       "      <td>8026</td>\n",
       "      <td>1809</td>\n",
       "    </tr>\n",
       "    <tr>\n",
       "      <th>soda</th>\n",
       "      <td>8120</td>\n",
       "      <td>1715</td>\n",
       "    </tr>\n",
       "    <tr>\n",
       "      <th>yogurt</th>\n",
       "      <td>8463</td>\n",
       "      <td>1372</td>\n",
       "    </tr>\n",
       "    <tr>\n",
       "      <th>bottled water</th>\n",
       "      <td>8748</td>\n",
       "      <td>1087</td>\n",
       "    </tr>\n",
       "    <tr>\n",
       "      <th>root vegetables</th>\n",
       "      <td>8763</td>\n",
       "      <td>1072</td>\n",
       "    </tr>\n",
       "    <tr>\n",
       "      <th>tropical fruit</th>\n",
       "      <td>8803</td>\n",
       "      <td>1032</td>\n",
       "    </tr>\n",
       "    <tr>\n",
       "      <th>shopping bags</th>\n",
       "      <td>8866</td>\n",
       "      <td>969</td>\n",
       "    </tr>\n",
       "    <tr>\n",
       "      <th>sausage</th>\n",
       "      <td>8911</td>\n",
       "      <td>924</td>\n",
       "    </tr>\n",
       "    <tr>\n",
       "      <th>pastry</th>\n",
       "      <td>8960</td>\n",
       "      <td>875</td>\n",
       "    </tr>\n",
       "    <tr>\n",
       "      <th>citrus fruit</th>\n",
       "      <td>9021</td>\n",
       "      <td>814</td>\n",
       "    </tr>\n",
       "    <tr>\n",
       "      <th>bottled beer</th>\n",
       "      <td>9043</td>\n",
       "      <td>792</td>\n",
       "    </tr>\n",
       "    <tr>\n",
       "      <th>newspapers</th>\n",
       "      <td>9050</td>\n",
       "      <td>785</td>\n",
       "    </tr>\n",
       "    <tr>\n",
       "      <th>canned beer</th>\n",
       "      <td>9071</td>\n",
       "      <td>764</td>\n",
       "    </tr>\n",
       "    <tr>\n",
       "      <th>pip fruit</th>\n",
       "      <td>9091</td>\n",
       "      <td>744</td>\n",
       "    </tr>\n",
       "    <tr>\n",
       "      <th>fruit/vegetable juice</th>\n",
       "      <td>9124</td>\n",
       "      <td>711</td>\n",
       "    </tr>\n",
       "    <tr>\n",
       "      <th>whipped/sour cream</th>\n",
       "      <td>9130</td>\n",
       "      <td>705</td>\n",
       "    </tr>\n",
       "    <tr>\n",
       "      <th>brown bread</th>\n",
       "      <td>9197</td>\n",
       "      <td>638</td>\n",
       "    </tr>\n",
       "    <tr>\n",
       "      <th>domestic eggs</th>\n",
       "      <td>9211</td>\n",
       "      <td>624</td>\n",
       "    </tr>\n",
       "  </tbody>\n",
       "</table>\n",
       "</div>"
      ],
      "text/plain": [
       "                       Not_Purchased  Purchased\n",
       "whole milk                      7322       2513\n",
       "other vegetables                7932       1903\n",
       "rolls/buns                      8026       1809\n",
       "soda                            8120       1715\n",
       "yogurt                          8463       1372\n",
       "bottled water                   8748       1087\n",
       "root vegetables                 8763       1072\n",
       "tropical fruit                  8803       1032\n",
       "shopping bags                   8866        969\n",
       "sausage                         8911        924\n",
       "pastry                          8960        875\n",
       "citrus fruit                    9021        814\n",
       "bottled beer                    9043        792\n",
       "newspapers                      9050        785\n",
       "canned beer                     9071        764\n",
       "pip fruit                       9091        744\n",
       "fruit/vegetable juice           9124        711\n",
       "whipped/sour cream              9130        705\n",
       "brown bread                     9197        638\n",
       "domestic eggs                   9211        624"
      ]
     },
     "execution_count": 22,
     "metadata": {},
     "output_type": "execute_result"
    }
   ],
   "source": [
    "# Simplest way to sort elements..\n",
    "\n",
    "sorted_df = pd.DataFrame(count_df.sort_values(by=['Purchased'],axis=1,ascending=False).transpose())\n",
    "sorted_df.head(20)"
   ]
  },
  {
   "cell_type": "code",
   "execution_count": 23,
   "metadata": {
    "execution": {
     "iopub.execute_input": "2020-10-27T11:34:17.565720Z",
     "iopub.status.busy": "2020-10-27T11:34:17.564922Z",
     "iopub.status.idle": "2020-10-27T11:34:17.592491Z",
     "shell.execute_reply": "2020-10-27T11:34:17.591854Z"
    },
    "papermill": {
     "duration": 0.096518,
     "end_time": "2020-10-27T11:34:17.592634",
     "exception": false,
     "start_time": "2020-10-27T11:34:17.496116",
     "status": "completed"
    },
    "tags": []
   },
   "outputs": [
    {
     "data": {
      "text/html": [
       "<div>\n",
       "<style scoped>\n",
       "    .dataframe tbody tr th:only-of-type {\n",
       "        vertical-align: middle;\n",
       "    }\n",
       "\n",
       "    .dataframe tbody tr th {\n",
       "        vertical-align: top;\n",
       "    }\n",
       "\n",
       "    .dataframe thead th {\n",
       "        text-align: right;\n",
       "    }\n",
       "</style>\n",
       "<table border=\"1\" class=\"dataframe\">\n",
       "  <thead>\n",
       "    <tr style=\"text-align: right;\">\n",
       "      <th></th>\n",
       "      <th>Not_Purchased</th>\n",
       "      <th>Purchased</th>\n",
       "      <th>Purchased%</th>\n",
       "    </tr>\n",
       "  </thead>\n",
       "  <tbody>\n",
       "    <tr>\n",
       "      <th>whole milk</th>\n",
       "      <td>7322</td>\n",
       "      <td>2513</td>\n",
       "      <td>0.057947</td>\n",
       "    </tr>\n",
       "    <tr>\n",
       "      <th>other vegetables</th>\n",
       "      <td>7932</td>\n",
       "      <td>1903</td>\n",
       "      <td>0.043881</td>\n",
       "    </tr>\n",
       "    <tr>\n",
       "      <th>rolls/buns</th>\n",
       "      <td>8026</td>\n",
       "      <td>1809</td>\n",
       "      <td>0.041714</td>\n",
       "    </tr>\n",
       "    <tr>\n",
       "      <th>soda</th>\n",
       "      <td>8120</td>\n",
       "      <td>1715</td>\n",
       "      <td>0.039546</td>\n",
       "    </tr>\n",
       "    <tr>\n",
       "      <th>yogurt</th>\n",
       "      <td>8463</td>\n",
       "      <td>1372</td>\n",
       "      <td>0.031637</td>\n",
       "    </tr>\n",
       "  </tbody>\n",
       "</table>\n",
       "</div>"
      ],
      "text/plain": [
       "                  Not_Purchased  Purchased  Purchased%\n",
       "whole milk                 7322       2513    0.057947\n",
       "other vegetables           7932       1903    0.043881\n",
       "rolls/buns                 8026       1809    0.041714\n",
       "soda                       8120       1715    0.039546\n",
       "yogurt                     8463       1372    0.031637"
      ]
     },
     "execution_count": 23,
     "metadata": {},
     "output_type": "execute_result"
    }
   ],
   "source": [
    "# adding Purchased% table into the dataset1.\n",
    "\n",
    "sorted_df['Purchased%']= sorted_df.Purchased/sum(sorted_df.Purchased)\n",
    "sorted_df.head()"
   ]
  },
  {
   "cell_type": "code",
   "execution_count": 24,
   "metadata": {
    "execution": {
     "iopub.execute_input": "2020-10-27T11:34:17.728243Z",
     "iopub.status.busy": "2020-10-27T11:34:17.727091Z",
     "iopub.status.idle": "2020-10-27T11:34:17.731529Z",
     "shell.execute_reply": "2020-10-27T11:34:17.730776Z"
    },
    "papermill": {
     "duration": 0.07517,
     "end_time": "2020-10-27T11:34:17.731658",
     "exception": false,
     "start_time": "2020-10-27T11:34:17.656488",
     "status": "completed"
    },
    "tags": []
   },
   "outputs": [
    {
     "data": {
      "text/plain": [
       "0.005917159763313609"
      ]
     },
     "execution_count": 24,
     "metadata": {},
     "output_type": "execute_result"
    }
   ],
   "source": [
    "# Finding out avergae of the total purchased% so that we get idea about min_support value setting.\n",
    "\n",
    "np.mean(sorted_df['Purchased%'])"
   ]
  },
  {
   "cell_type": "code",
   "execution_count": 25,
   "metadata": {
    "execution": {
     "iopub.execute_input": "2020-10-27T11:34:17.875867Z",
     "iopub.status.busy": "2020-10-27T11:34:17.874734Z",
     "iopub.status.idle": "2020-10-27T11:34:18.616779Z",
     "shell.execute_reply": "2020-10-27T11:34:18.617403Z"
    },
    "papermill": {
     "duration": 0.821225,
     "end_time": "2020-10-27T11:34:18.617563",
     "exception": false,
     "start_time": "2020-10-27T11:34:17.796338",
     "status": "completed"
    },
    "tags": []
   },
   "outputs": [
    {
     "data": {
      "image/png": "[encoded data removed]",
      "text/plain": [
       "<Figure size 1440x720 with 1 Axes>"
      ]
     },
     "metadata": {
      "needs_background": "light"
     },
     "output_type": "display_data"
    }
   ],
   "source": [
    "# Plotting sorted top purchased products..\n",
    "\n",
    "fig = plt.subplots(figsize=(20,10))\n",
    "purchased = sorted_df.head(50).xs('Purchased' ,axis = 1)\n",
    "purchased.plot(kind='bar',fontsize=16)\n",
    "plt.title('Purchased top Count',fontsize=30)\n",
    "plt.xlabel('Products', fontsize=20)\n",
    "plt.ylabel('total qty. purchased', fontsize=20)\n",
    "plt.show()"
   ]
  },
  {
   "cell_type": "markdown",
   "metadata": {
    "papermill": {
     "duration": 0.067181,
     "end_time": "2020-10-27T11:34:18.752515",
     "exception": false,
     "start_time": "2020-10-27T11:34:18.685334",
     "status": "completed"
    },
    "tags": []
   },
   "source": [
    " ### People purchased more is daily need items & transction for all them is above 1000 nos."
   ]
  },
  {
   "cell_type": "markdown",
   "metadata": {
    "papermill": {
     "duration": 0.068458,
     "end_time": "2020-10-27T11:34:18.888512",
     "exception": false,
     "start_time": "2020-10-27T11:34:18.820054",
     "status": "completed"
    },
    "tags": []
   },
   "source": [
    "'whole milk', 'other vegetables', 'rolls/buns', 'soda', 'yogurt','bottled water', 'root vegetables', 'tropical fruit'"
   ]
  },
  {
   "cell_type": "markdown",
   "metadata": {
    "papermill": {
     "duration": 0.068686,
     "end_time": "2020-10-27T11:34:19.026017",
     "exception": false,
     "start_time": "2020-10-27T11:34:18.957331",
     "status": "completed"
    },
    "tags": []
   },
   "source": [
    "# Step 4: Apriori Rule\n",
    "***\n",
    "\n",
    "ref. used: https://www.kdnuggets.com/2016/04/association-rules-apriori-algorithm-tutorial.html"
   ]
  },
  {
   "cell_type": "markdown",
   "metadata": {
    "papermill": {
     "duration": 0.067191,
     "end_time": "2020-10-27T11:34:19.161740",
     "exception": false,
     "start_time": "2020-10-27T11:34:19.094549",
     "status": "completed"
    },
    "tags": []
   },
   "source": [
    "## 4.1 Measure 1: Support \n",
    "***"
   ]
  },
  {
   "cell_type": "markdown",
   "metadata": {
    "papermill": {
     "duration": 0.121178,
     "end_time": "2020-10-27T11:34:19.351201",
     "exception": false,
     "start_time": "2020-10-27T11:34:19.230023",
     "status": "completed"
    },
    "tags": []
   },
   "source": [
    " #### Concept:"
   ]
  },
  {
   "cell_type": "markdown",
   "metadata": {
    "papermill": {
     "duration": 0.068745,
     "end_time": "2020-10-27T11:34:19.488000",
     "exception": false,
     "start_time": "2020-10-27T11:34:19.419255",
     "status": "completed"
    },
    "tags": []
   },
   "source": [
    "![](https://github.com/ShrikantUppin/Association_Rules/blob/main/measure1_formula.png?raw=true)\n",
    "\n",
    "<img src=\"https://github.com/ShrikantUppin/Association_Rules/blob/main/measure1.png?raw=true\" width=\"300\" height=\"300\">\n"
   ]
  },
  {
   "cell_type": "markdown",
   "metadata": {
    "papermill": {
     "duration": 0.066903,
     "end_time": "2020-10-27T11:34:19.622510",
     "exception": false,
     "start_time": "2020-10-27T11:34:19.555607",
     "status": "completed"
    },
    "tags": []
   },
   "source": [
    " This says how popular an itemset is, as measured by the proportion of transactions in which an itemset appears. In Table 1 below, the support of {apple} is 4 out of 8, or 50%. Itemsets can also contain multiple items. For instance, the support of {apple, beer, rice} is 2 out of 8, or 25%.\n"
   ]
  },
  {
   "cell_type": "markdown",
   "metadata": {
    "papermill": {
     "duration": 0.067027,
     "end_time": "2020-10-27T11:34:19.756787",
     "exception": false,
     "start_time": "2020-10-27T11:34:19.689760",
     "status": "completed"
    },
    "tags": []
   },
   "source": [
    "***"
   ]
  },
  {
   "cell_type": "markdown",
   "metadata": {
    "papermill": {
     "duration": 0.07947,
     "end_time": "2020-10-27T11:34:19.905525",
     "exception": false,
     "start_time": "2020-10-27T11:34:19.826055",
     "status": "completed"
    },
    "tags": []
   },
   "source": [
    " ### Finding out support for each possible products or diff. product sets present in transction dataframe(dataset1)"
   ]
  },
  {
   "cell_type": "code",
   "execution_count": 27,
   "metadata": {
    "execution": {
     "iopub.execute_input": "2020-10-27T11:34:20.050510Z",
     "iopub.status.busy": "2020-10-27T11:34:20.049732Z",
     "iopub.status.idle": "2020-10-27T11:34:20.167539Z",
     "shell.execute_reply": "2020-10-27T11:34:20.166864Z"
    },
    "papermill": {
     "duration": 0.192975,
     "end_time": "2020-10-27T11:34:20.167689",
     "exception": false,
     "start_time": "2020-10-27T11:34:19.974714",
     "status": "completed"
    },
    "tags": []
   },
   "outputs": [],
   "source": [
    "from mlxtend.frequent_patterns import apriori, association_rules\n",
    "\n",
    "freq_items = apriori(dataset1, min_support=0.02, use_colnames=True, max_len=5)\n",
    "\n",
    "# min_support value can be choose by the user/business need\n",
    "# max_len is item combinations..here i have taken as 5. total items in combination formed should not be more than 5"
   ]
  },
  {
   "cell_type": "code",
   "execution_count": 28,
   "metadata": {
    "execution": {
     "iopub.execute_input": "2020-10-27T11:34:20.310491Z",
     "iopub.status.busy": "2020-10-27T11:34:20.309548Z",
     "iopub.status.idle": "2020-10-27T11:34:20.313945Z",
     "shell.execute_reply": "2020-10-27T11:34:20.314550Z"
    },
    "papermill": {
     "duration": 0.07944,
     "end_time": "2020-10-27T11:34:20.314717",
     "exception": false,
     "start_time": "2020-10-27T11:34:20.235277",
     "status": "completed"
    },
    "tags": []
   },
   "outputs": [
    {
     "data": {
      "text/plain": [
       "(122, 2)"
      ]
     },
     "execution_count": 28,
     "metadata": {},
     "output_type": "execute_result"
    }
   ],
   "source": [
    "freq_items.shape"
   ]
  },
  {
   "cell_type": "markdown",
   "metadata": {
    "papermill": {
     "duration": 0.06851,
     "end_time": "2020-10-27T11:34:20.451280",
     "exception": false,
     "start_time": "2020-10-27T11:34:20.382770",
     "status": "completed"
    },
    "tags": []
   },
   "source": [
    "<p algin='justify'> This says how popular an itemset is, as measured by the proportion of transactions in which an itemset appears.</p> \n",
    "\n",
    "For example:\n",
    "\n",
    "In Table sorted_df, the support of {whole milk} is 2513 out of total 9835 row tranctions. i.e. 25.55%. \n",
    "\n",
    "\n",
    "Itemsets can also contain multiple items. For instance, the support of {bottled water, soda} is 285 out of 9835, or 2.89%"
   ]
  },
  {
   "cell_type": "code",
   "execution_count": 29,
   "metadata": {
    "execution": {
     "iopub.execute_input": "2020-10-27T11:34:20.604162Z",
     "iopub.status.busy": "2020-10-27T11:34:20.603087Z",
     "iopub.status.idle": "2020-10-27T11:34:20.608492Z",
     "shell.execute_reply": "2020-10-27T11:34:20.607693Z"
    },
    "papermill": {
     "duration": 0.089089,
     "end_time": "2020-10-27T11:34:20.608638",
     "exception": false,
     "start_time": "2020-10-27T11:34:20.519549",
     "status": "completed"
    },
    "tags": []
   },
   "outputs": [
    {
     "data": {
      "text/html": [
       "<div>\n",
       "<style scoped>\n",
       "    .dataframe tbody tr th:only-of-type {\n",
       "        vertical-align: middle;\n",
       "    }\n",
       "\n",
       "    .dataframe tbody tr th {\n",
       "        vertical-align: top;\n",
       "    }\n",
       "\n",
       "    .dataframe thead th {\n",
       "        text-align: right;\n",
       "    }\n",
       "</style>\n",
       "<table border=\"1\" class=\"dataframe\">\n",
       "  <thead>\n",
       "    <tr style=\"text-align: right;\">\n",
       "      <th></th>\n",
       "      <th>support</th>\n",
       "      <th>itemsets</th>\n",
       "    </tr>\n",
       "  </thead>\n",
       "  <tbody>\n",
       "    <tr>\n",
       "      <th>0</th>\n",
       "      <td>0.082766</td>\n",
       "      <td>(citrus fruit)</td>\n",
       "    </tr>\n",
       "    <tr>\n",
       "      <th>1</th>\n",
       "      <td>0.058566</td>\n",
       "      <td>(margarine)</td>\n",
       "    </tr>\n",
       "    <tr>\n",
       "      <th>2</th>\n",
       "      <td>0.104931</td>\n",
       "      <td>(tropical fruit)</td>\n",
       "    </tr>\n",
       "    <tr>\n",
       "      <th>3</th>\n",
       "      <td>0.139502</td>\n",
       "      <td>(yogurt)</td>\n",
       "    </tr>\n",
       "    <tr>\n",
       "      <th>4</th>\n",
       "      <td>0.058058</td>\n",
       "      <td>(coffee)</td>\n",
       "    </tr>\n",
       "    <tr>\n",
       "      <th>5</th>\n",
       "      <td>0.255516</td>\n",
       "      <td>(whole milk)</td>\n",
       "    </tr>\n",
       "    <tr>\n",
       "      <th>6</th>\n",
       "      <td>0.075648</td>\n",
       "      <td>(pip fruit)</td>\n",
       "    </tr>\n",
       "    <tr>\n",
       "      <th>7</th>\n",
       "      <td>0.039654</td>\n",
       "      <td>(cream cheese )</td>\n",
       "    </tr>\n",
       "    <tr>\n",
       "      <th>8</th>\n",
       "      <td>0.193493</td>\n",
       "      <td>(other vegetables)</td>\n",
       "    </tr>\n",
       "    <tr>\n",
       "      <th>9</th>\n",
       "      <td>0.037417</td>\n",
       "      <td>(long life bakery product)</td>\n",
       "    </tr>\n",
       "  </tbody>\n",
       "</table>\n",
       "</div>"
      ],
      "text/plain": [
       "    support                    itemsets\n",
       "0  0.082766              (citrus fruit)\n",
       "1  0.058566                 (margarine)\n",
       "2  0.104931            (tropical fruit)\n",
       "3  0.139502                    (yogurt)\n",
       "4  0.058058                    (coffee)\n",
       "5  0.255516                (whole milk)\n",
       "6  0.075648                 (pip fruit)\n",
       "7  0.039654             (cream cheese )\n",
       "8  0.193493          (other vegetables)\n",
       "9  0.037417  (long life bakery product)"
      ]
     },
     "execution_count": 29,
     "metadata": {},
     "output_type": "execute_result"
    }
   ],
   "source": [
    "# checking first 10 rows\n",
    "\n",
    "freq_items.head(10)"
   ]
  },
  {
   "cell_type": "code",
   "execution_count": 30,
   "metadata": {
    "execution": {
     "iopub.execute_input": "2020-10-27T11:34:20.764061Z",
     "iopub.status.busy": "2020-10-27T11:34:20.757221Z",
     "iopub.status.idle": "2020-10-27T11:34:20.769512Z",
     "shell.execute_reply": "2020-10-27T11:34:20.768831Z"
    },
    "papermill": {
     "duration": 0.091307,
     "end_time": "2020-10-27T11:34:20.769663",
     "exception": false,
     "start_time": "2020-10-27T11:34:20.678356",
     "status": "completed"
    },
    "tags": []
   },
   "outputs": [
    {
     "data": {
      "text/html": [
       "<div>\n",
       "<style scoped>\n",
       "    .dataframe tbody tr th:only-of-type {\n",
       "        vertical-align: middle;\n",
       "    }\n",
       "\n",
       "    .dataframe tbody tr th {\n",
       "        vertical-align: top;\n",
       "    }\n",
       "\n",
       "    .dataframe thead th {\n",
       "        text-align: right;\n",
       "    }\n",
       "</style>\n",
       "<table border=\"1\" class=\"dataframe\">\n",
       "  <thead>\n",
       "    <tr style=\"text-align: right;\">\n",
       "      <th></th>\n",
       "      <th>support</th>\n",
       "      <th>itemsets</th>\n",
       "    </tr>\n",
       "  </thead>\n",
       "  <tbody>\n",
       "    <tr>\n",
       "      <th>112</th>\n",
       "      <td>0.038332</td>\n",
       "      <td>(rolls/buns, soda)</td>\n",
       "    </tr>\n",
       "    <tr>\n",
       "      <th>113</th>\n",
       "      <td>0.020946</td>\n",
       "      <td>(rolls/buns, pastry)</td>\n",
       "    </tr>\n",
       "    <tr>\n",
       "      <th>114</th>\n",
       "      <td>0.024301</td>\n",
       "      <td>(rolls/buns, root vegetables)</td>\n",
       "    </tr>\n",
       "    <tr>\n",
       "      <th>115</th>\n",
       "      <td>0.030605</td>\n",
       "      <td>(sausage, rolls/buns)</td>\n",
       "    </tr>\n",
       "    <tr>\n",
       "      <th>116</th>\n",
       "      <td>0.028978</td>\n",
       "      <td>(bottled water, soda)</td>\n",
       "    </tr>\n",
       "    <tr>\n",
       "      <th>117</th>\n",
       "      <td>0.021047</td>\n",
       "      <td>(pastry, soda)</td>\n",
       "    </tr>\n",
       "    <tr>\n",
       "      <th>118</th>\n",
       "      <td>0.024301</td>\n",
       "      <td>(sausage, soda)</td>\n",
       "    </tr>\n",
       "    <tr>\n",
       "      <th>119</th>\n",
       "      <td>0.024606</td>\n",
       "      <td>(shopping bags, soda)</td>\n",
       "    </tr>\n",
       "    <tr>\n",
       "      <th>120</th>\n",
       "      <td>0.022267</td>\n",
       "      <td>(other vegetables, yogurt, whole milk)</td>\n",
       "    </tr>\n",
       "    <tr>\n",
       "      <th>121</th>\n",
       "      <td>0.023183</td>\n",
       "      <td>(other vegetables, root vegetables, whole milk)</td>\n",
       "    </tr>\n",
       "  </tbody>\n",
       "</table>\n",
       "</div>"
      ],
      "text/plain": [
       "      support                                         itemsets\n",
       "112  0.038332                               (rolls/buns, soda)\n",
       "113  0.020946                             (rolls/buns, pastry)\n",
       "114  0.024301                    (rolls/buns, root vegetables)\n",
       "115  0.030605                            (sausage, rolls/buns)\n",
       "116  0.028978                            (bottled water, soda)\n",
       "117  0.021047                                   (pastry, soda)\n",
       "118  0.024301                                  (sausage, soda)\n",
       "119  0.024606                            (shopping bags, soda)\n",
       "120  0.022267           (other vegetables, yogurt, whole milk)\n",
       "121  0.023183  (other vegetables, root vegetables, whole milk)"
      ]
     },
     "execution_count": 30,
     "metadata": {},
     "output_type": "execute_result"
    }
   ],
   "source": [
    "# checking last 10 rows \n",
    "\n",
    "freq_items.tail(10)"
   ]
  },
  {
   "cell_type": "markdown",
   "metadata": {
    "papermill": {
     "duration": 0.094532,
     "end_time": "2020-10-27T11:34:20.944393",
     "exception": false,
     "start_time": "2020-10-27T11:34:20.849861",
     "status": "completed"
    },
    "tags": []
   },
   "source": [
    "If you discover that sales of items beyond a certain proportion tend to have a significant impact on your profits, you might consider using that proportion as your support threshold. You may then identify itemsets with support values above this threshold as significant itemsets."
   ]
  },
  {
   "cell_type": "markdown",
   "metadata": {
    "papermill": {
     "duration": 0.069547,
     "end_time": "2020-10-27T11:34:21.093531",
     "exception": false,
     "start_time": "2020-10-27T11:34:21.023984",
     "status": "completed"
    },
    "tags": []
   },
   "source": [
    "## 4.2 Measure 2: Confidence"
   ]
  },
  {
   "cell_type": "markdown",
   "metadata": {
    "papermill": {
     "duration": 0.069503,
     "end_time": "2020-10-27T11:34:21.234028",
     "exception": false,
     "start_time": "2020-10-27T11:34:21.164525",
     "status": "completed"
    },
    "tags": []
   },
   "source": [
    " #### Concept:"
   ]
  },
  {
   "cell_type": "markdown",
   "metadata": {
    "papermill": {
     "duration": 0.06948,
     "end_time": "2020-10-27T11:34:21.373535",
     "exception": false,
     "start_time": "2020-10-27T11:34:21.304055",
     "status": "completed"
    },
    "tags": []
   },
   "source": [
    " This says how likely item Y is purchased when item X is purchased, expressed as {X -> Y}. This is measured by the proportion of transactions with item X, in which item Y also appears. In Table 1, the confidence of {apple -> beer} is 3 out of 4, or 75%.\n",
    "\n",
    "\n",
    "\n",
    "<img src=\"https://github.com/ShrikantUppin/Association_Rules/blob/main/measure2.png?raw=true\" >\n",
    "\n",
    "***\n",
    "* Drawbacks of Confidence measure:\n",
    "***\n",
    "\n",
    "* it might misrepresent the importance of an association. \n",
    "\n",
    "* This is because it only accounts for how popular apples are, but not beers. If beers are also very popular in general, there will be a higher chance that a transaction containing apples will also contain beers, thus inflating the confidence measure. \n",
    "\n",
    "\n",
    "Note: To account for the base popularity of both constituent items, we use a third measure called lift."
   ]
  },
  {
   "cell_type": "markdown",
   "metadata": {
    "papermill": {
     "duration": 0.069633,
     "end_time": "2020-10-27T11:34:21.514352",
     "exception": false,
     "start_time": "2020-10-27T11:34:21.444719",
     "status": "completed"
    },
    "tags": []
   },
   "source": [
    " ### Building Association rules using confidence metrics."
   ]
  },
  {
   "cell_type": "code",
   "execution_count": 31,
   "metadata": {
    "execution": {
     "iopub.execute_input": "2020-10-27T11:34:21.666753Z",
     "iopub.status.busy": "2020-10-27T11:34:21.665572Z",
     "iopub.status.idle": "2020-10-27T11:34:21.668474Z",
     "shell.execute_reply": "2020-10-27T11:34:21.667873Z"
    },
    "papermill": {
     "duration": 0.084323,
     "end_time": "2020-10-27T11:34:21.668616",
     "exception": false,
     "start_time": "2020-10-27T11:34:21.584293",
     "status": "completed"
    },
    "tags": []
   },
   "outputs": [],
   "source": [
    "# for this we need support value dataframe..that is fre_items from measure1.\n",
    "\n",
    "confidence_association = association_rules(freq_items, metric='confidence', min_threshold=0.2)\n",
    "\n",
    "# min_threshold is nothing but setting min % crieteria. In this case i have choosen 20% \n",
    "#...confidence should be minimum 20%."
   ]
  },
  {
   "cell_type": "code",
   "execution_count": 32,
   "metadata": {
    "execution": {
     "iopub.execute_input": "2020-10-27T11:34:21.839374Z",
     "iopub.status.busy": "2020-10-27T11:34:21.838256Z",
     "iopub.status.idle": "2020-10-27T11:34:21.843715Z",
     "shell.execute_reply": "2020-10-27T11:34:21.843091Z"
    },
    "papermill": {
     "duration": 0.104036,
     "end_time": "2020-10-27T11:34:21.843854",
     "exception": false,
     "start_time": "2020-10-27T11:34:21.739818",
     "status": "completed"
    },
    "tags": []
   },
   "outputs": [
    {
     "data": {
      "text/html": [
       "<div>\n",
       "<style scoped>\n",
       "    .dataframe tbody tr th:only-of-type {\n",
       "        vertical-align: middle;\n",
       "    }\n",
       "\n",
       "    .dataframe tbody tr th {\n",
       "        vertical-align: top;\n",
       "    }\n",
       "\n",
       "    .dataframe thead th {\n",
       "        text-align: right;\n",
       "    }\n",
       "</style>\n",
       "<table border=\"1\" class=\"dataframe\">\n",
       "  <thead>\n",
       "    <tr style=\"text-align: right;\">\n",
       "      <th></th>\n",
       "      <th>antecedents</th>\n",
       "      <th>consequents</th>\n",
       "      <th>antecedent support</th>\n",
       "      <th>consequent support</th>\n",
       "      <th>support</th>\n",
       "      <th>confidence</th>\n",
       "      <th>lift</th>\n",
       "      <th>leverage</th>\n",
       "      <th>conviction</th>\n",
       "    </tr>\n",
       "  </thead>\n",
       "  <tbody>\n",
       "    <tr>\n",
       "      <th>0</th>\n",
       "      <td>(citrus fruit)</td>\n",
       "      <td>(yogurt)</td>\n",
       "      <td>0.082766</td>\n",
       "      <td>0.139502</td>\n",
       "      <td>0.021657</td>\n",
       "      <td>0.261671</td>\n",
       "      <td>1.875752</td>\n",
       "      <td>0.010111</td>\n",
       "      <td>1.165467</td>\n",
       "    </tr>\n",
       "    <tr>\n",
       "      <th>1</th>\n",
       "      <td>(citrus fruit)</td>\n",
       "      <td>(whole milk)</td>\n",
       "      <td>0.082766</td>\n",
       "      <td>0.255516</td>\n",
       "      <td>0.030503</td>\n",
       "      <td>0.368550</td>\n",
       "      <td>1.442377</td>\n",
       "      <td>0.009355</td>\n",
       "      <td>1.179008</td>\n",
       "    </tr>\n",
       "    <tr>\n",
       "      <th>2</th>\n",
       "      <td>(citrus fruit)</td>\n",
       "      <td>(other vegetables)</td>\n",
       "      <td>0.082766</td>\n",
       "      <td>0.193493</td>\n",
       "      <td>0.028876</td>\n",
       "      <td>0.348894</td>\n",
       "      <td>1.803140</td>\n",
       "      <td>0.012862</td>\n",
       "      <td>1.238674</td>\n",
       "    </tr>\n",
       "    <tr>\n",
       "      <th>3</th>\n",
       "      <td>(margarine)</td>\n",
       "      <td>(whole milk)</td>\n",
       "      <td>0.058566</td>\n",
       "      <td>0.255516</td>\n",
       "      <td>0.024199</td>\n",
       "      <td>0.413194</td>\n",
       "      <td>1.617098</td>\n",
       "      <td>0.009235</td>\n",
       "      <td>1.268706</td>\n",
       "    </tr>\n",
       "    <tr>\n",
       "      <th>4</th>\n",
       "      <td>(tropical fruit)</td>\n",
       "      <td>(yogurt)</td>\n",
       "      <td>0.104931</td>\n",
       "      <td>0.139502</td>\n",
       "      <td>0.029283</td>\n",
       "      <td>0.279070</td>\n",
       "      <td>2.000475</td>\n",
       "      <td>0.014645</td>\n",
       "      <td>1.193594</td>\n",
       "    </tr>\n",
       "    <tr>\n",
       "      <th>5</th>\n",
       "      <td>(yogurt)</td>\n",
       "      <td>(tropical fruit)</td>\n",
       "      <td>0.139502</td>\n",
       "      <td>0.104931</td>\n",
       "      <td>0.029283</td>\n",
       "      <td>0.209913</td>\n",
       "      <td>2.000475</td>\n",
       "      <td>0.014645</td>\n",
       "      <td>1.132873</td>\n",
       "    </tr>\n",
       "    <tr>\n",
       "      <th>6</th>\n",
       "      <td>(tropical fruit)</td>\n",
       "      <td>(whole milk)</td>\n",
       "      <td>0.104931</td>\n",
       "      <td>0.255516</td>\n",
       "      <td>0.042298</td>\n",
       "      <td>0.403101</td>\n",
       "      <td>1.577595</td>\n",
       "      <td>0.015486</td>\n",
       "      <td>1.247252</td>\n",
       "    </tr>\n",
       "    <tr>\n",
       "      <th>7</th>\n",
       "      <td>(pip fruit)</td>\n",
       "      <td>(tropical fruit)</td>\n",
       "      <td>0.075648</td>\n",
       "      <td>0.104931</td>\n",
       "      <td>0.020437</td>\n",
       "      <td>0.270161</td>\n",
       "      <td>2.574648</td>\n",
       "      <td>0.012499</td>\n",
       "      <td>1.226392</td>\n",
       "    </tr>\n",
       "    <tr>\n",
       "      <th>8</th>\n",
       "      <td>(tropical fruit)</td>\n",
       "      <td>(other vegetables)</td>\n",
       "      <td>0.104931</td>\n",
       "      <td>0.193493</td>\n",
       "      <td>0.035892</td>\n",
       "      <td>0.342054</td>\n",
       "      <td>1.767790</td>\n",
       "      <td>0.015589</td>\n",
       "      <td>1.225796</td>\n",
       "    </tr>\n",
       "    <tr>\n",
       "      <th>9</th>\n",
       "      <td>(tropical fruit)</td>\n",
       "      <td>(rolls/buns)</td>\n",
       "      <td>0.104931</td>\n",
       "      <td>0.183935</td>\n",
       "      <td>0.024606</td>\n",
       "      <td>0.234496</td>\n",
       "      <td>1.274886</td>\n",
       "      <td>0.005305</td>\n",
       "      <td>1.066050</td>\n",
       "    </tr>\n",
       "  </tbody>\n",
       "</table>\n",
       "</div>"
      ],
      "text/plain": [
       "        antecedents         consequents  antecedent support  \\\n",
       "0    (citrus fruit)            (yogurt)            0.082766   \n",
       "1    (citrus fruit)        (whole milk)            0.082766   \n",
       "2    (citrus fruit)  (other vegetables)            0.082766   \n",
       "3       (margarine)        (whole milk)            0.058566   \n",
       "4  (tropical fruit)            (yogurt)            0.104931   \n",
       "5          (yogurt)    (tropical fruit)            0.139502   \n",
       "6  (tropical fruit)        (whole milk)            0.104931   \n",
       "7       (pip fruit)    (tropical fruit)            0.075648   \n",
       "8  (tropical fruit)  (other vegetables)            0.104931   \n",
       "9  (tropical fruit)        (rolls/buns)            0.104931   \n",
       "\n",
       "   consequent support   support  confidence      lift  leverage  conviction  \n",
       "0            0.139502  0.021657    0.261671  1.875752  0.010111    1.165467  \n",
       "1            0.255516  0.030503    0.368550  1.442377  0.009355    1.179008  \n",
       "2            0.193493  0.028876    0.348894  1.803140  0.012862    1.238674  \n",
       "3            0.255516  0.024199    0.413194  1.617098  0.009235    1.268706  \n",
       "4            0.139502  0.029283    0.279070  2.000475  0.014645    1.193594  \n",
       "5            0.104931  0.029283    0.209913  2.000475  0.014645    1.132873  \n",
       "6            0.255516  0.042298    0.403101  1.577595  0.015486    1.247252  \n",
       "7            0.104931  0.020437    0.270161  2.574648  0.012499    1.226392  \n",
       "8            0.193493  0.035892    0.342054  1.767790  0.015589    1.225796  \n",
       "9            0.183935  0.024606    0.234496  1.274886  0.005305    1.066050  "
      ]
     },
     "execution_count": 32,
     "metadata": {},
     "output_type": "execute_result"
    }
   ],
   "source": [
    "# checking combination in first 10 rows from dataset\n",
    "\n",
    "confidence_association.head(10)"
   ]
  },
  {
   "cell_type": "code",
   "execution_count": 33,
   "metadata": {
    "execution": {
     "iopub.execute_input": "2020-10-27T11:34:21.996122Z",
     "iopub.status.busy": "2020-10-27T11:34:21.995182Z",
     "iopub.status.idle": "2020-10-27T11:34:21.999835Z",
     "shell.execute_reply": "2020-10-27T11:34:21.999263Z"
    },
    "papermill": {
     "duration": 0.084569,
     "end_time": "2020-10-27T11:34:21.999965",
     "exception": false,
     "start_time": "2020-10-27T11:34:21.915396",
     "status": "completed"
    },
    "tags": []
   },
   "outputs": [
    {
     "data": {
      "text/plain": [
       "2.8978"
      ]
     },
     "execution_count": 33,
     "metadata": {},
     "output_type": "execute_result"
    }
   ],
   "source": [
    "0.028978*100"
   ]
  },
  {
   "cell_type": "code",
   "execution_count": 34,
   "metadata": {
    "execution": {
     "iopub.execute_input": "2020-10-27T11:34:22.174150Z",
     "iopub.status.busy": "2020-10-27T11:34:22.173061Z",
     "iopub.status.idle": "2020-10-27T11:34:22.178388Z",
     "shell.execute_reply": "2020-10-27T11:34:22.177796Z"
    },
    "papermill": {
     "duration": 0.106139,
     "end_time": "2020-10-27T11:34:22.178521",
     "exception": false,
     "start_time": "2020-10-27T11:34:22.072382",
     "status": "completed"
    },
    "tags": []
   },
   "outputs": [
    {
     "data": {
      "text/html": [
       "<div>\n",
       "<style scoped>\n",
       "    .dataframe tbody tr th:only-of-type {\n",
       "        vertical-align: middle;\n",
       "    }\n",
       "\n",
       "    .dataframe tbody tr th {\n",
       "        vertical-align: top;\n",
       "    }\n",
       "\n",
       "    .dataframe thead th {\n",
       "        text-align: right;\n",
       "    }\n",
       "</style>\n",
       "<table border=\"1\" class=\"dataframe\">\n",
       "  <thead>\n",
       "    <tr style=\"text-align: right;\">\n",
       "      <th></th>\n",
       "      <th>antecedents</th>\n",
       "      <th>consequents</th>\n",
       "      <th>antecedent support</th>\n",
       "      <th>consequent support</th>\n",
       "      <th>support</th>\n",
       "      <th>confidence</th>\n",
       "      <th>lift</th>\n",
       "      <th>leverage</th>\n",
       "      <th>conviction</th>\n",
       "    </tr>\n",
       "  </thead>\n",
       "  <tbody>\n",
       "    <tr>\n",
       "      <th>63</th>\n",
       "      <td>(pastry)</td>\n",
       "      <td>(soda)</td>\n",
       "      <td>0.088968</td>\n",
       "      <td>0.174377</td>\n",
       "      <td>0.021047</td>\n",
       "      <td>0.236571</td>\n",
       "      <td>1.356665</td>\n",
       "      <td>0.005533</td>\n",
       "      <td>1.081467</td>\n",
       "    </tr>\n",
       "    <tr>\n",
       "      <th>64</th>\n",
       "      <td>(sausage)</td>\n",
       "      <td>(soda)</td>\n",
       "      <td>0.093950</td>\n",
       "      <td>0.174377</td>\n",
       "      <td>0.024301</td>\n",
       "      <td>0.258658</td>\n",
       "      <td>1.483324</td>\n",
       "      <td>0.007918</td>\n",
       "      <td>1.113687</td>\n",
       "    </tr>\n",
       "    <tr>\n",
       "      <th>65</th>\n",
       "      <td>(shopping bags)</td>\n",
       "      <td>(soda)</td>\n",
       "      <td>0.098526</td>\n",
       "      <td>0.174377</td>\n",
       "      <td>0.024606</td>\n",
       "      <td>0.249742</td>\n",
       "      <td>1.432194</td>\n",
       "      <td>0.007425</td>\n",
       "      <td>1.100452</td>\n",
       "    </tr>\n",
       "    <tr>\n",
       "      <th>66</th>\n",
       "      <td>(other vegetables, yogurt)</td>\n",
       "      <td>(whole milk)</td>\n",
       "      <td>0.043416</td>\n",
       "      <td>0.255516</td>\n",
       "      <td>0.022267</td>\n",
       "      <td>0.512881</td>\n",
       "      <td>2.007235</td>\n",
       "      <td>0.011174</td>\n",
       "      <td>1.528340</td>\n",
       "    </tr>\n",
       "    <tr>\n",
       "      <th>67</th>\n",
       "      <td>(other vegetables, whole milk)</td>\n",
       "      <td>(yogurt)</td>\n",
       "      <td>0.074835</td>\n",
       "      <td>0.139502</td>\n",
       "      <td>0.022267</td>\n",
       "      <td>0.297554</td>\n",
       "      <td>2.132979</td>\n",
       "      <td>0.011828</td>\n",
       "      <td>1.225003</td>\n",
       "    </tr>\n",
       "    <tr>\n",
       "      <th>68</th>\n",
       "      <td>(yogurt, whole milk)</td>\n",
       "      <td>(other vegetables)</td>\n",
       "      <td>0.056024</td>\n",
       "      <td>0.193493</td>\n",
       "      <td>0.022267</td>\n",
       "      <td>0.397459</td>\n",
       "      <td>2.054131</td>\n",
       "      <td>0.011427</td>\n",
       "      <td>1.338511</td>\n",
       "    </tr>\n",
       "    <tr>\n",
       "      <th>69</th>\n",
       "      <td>(other vegetables, root vegetables)</td>\n",
       "      <td>(whole milk)</td>\n",
       "      <td>0.047382</td>\n",
       "      <td>0.255516</td>\n",
       "      <td>0.023183</td>\n",
       "      <td>0.489270</td>\n",
       "      <td>1.914833</td>\n",
       "      <td>0.011076</td>\n",
       "      <td>1.457687</td>\n",
       "    </tr>\n",
       "    <tr>\n",
       "      <th>70</th>\n",
       "      <td>(other vegetables, whole milk)</td>\n",
       "      <td>(root vegetables)</td>\n",
       "      <td>0.074835</td>\n",
       "      <td>0.108998</td>\n",
       "      <td>0.023183</td>\n",
       "      <td>0.309783</td>\n",
       "      <td>2.842082</td>\n",
       "      <td>0.015026</td>\n",
       "      <td>1.290900</td>\n",
       "    </tr>\n",
       "    <tr>\n",
       "      <th>71</th>\n",
       "      <td>(root vegetables, whole milk)</td>\n",
       "      <td>(other vegetables)</td>\n",
       "      <td>0.048907</td>\n",
       "      <td>0.193493</td>\n",
       "      <td>0.023183</td>\n",
       "      <td>0.474012</td>\n",
       "      <td>2.449770</td>\n",
       "      <td>0.013719</td>\n",
       "      <td>1.533320</td>\n",
       "    </tr>\n",
       "    <tr>\n",
       "      <th>72</th>\n",
       "      <td>(root vegetables)</td>\n",
       "      <td>(other vegetables, whole milk)</td>\n",
       "      <td>0.108998</td>\n",
       "      <td>0.074835</td>\n",
       "      <td>0.023183</td>\n",
       "      <td>0.212687</td>\n",
       "      <td>2.842082</td>\n",
       "      <td>0.015026</td>\n",
       "      <td>1.175091</td>\n",
       "    </tr>\n",
       "  </tbody>\n",
       "</table>\n",
       "</div>"
      ],
      "text/plain": [
       "                            antecedents                     consequents  \\\n",
       "63                             (pastry)                          (soda)   \n",
       "64                            (sausage)                          (soda)   \n",
       "65                      (shopping bags)                          (soda)   \n",
       "66           (other vegetables, yogurt)                    (whole milk)   \n",
       "67       (other vegetables, whole milk)                        (yogurt)   \n",
       "68                 (yogurt, whole milk)              (other vegetables)   \n",
       "69  (other vegetables, root vegetables)                    (whole milk)   \n",
       "70       (other vegetables, whole milk)               (root vegetables)   \n",
       "71        (root vegetables, whole milk)              (other vegetables)   \n",
       "72                    (root vegetables)  (other vegetables, whole milk)   \n",
       "\n",
       "    antecedent support  consequent support   support  confidence      lift  \\\n",
       "63            0.088968            0.174377  0.021047    0.236571  1.356665   \n",
       "64            0.093950            0.174377  0.024301    0.258658  1.483324   \n",
       "65            0.098526            0.174377  0.024606    0.249742  1.432194   \n",
       "66            0.043416            0.255516  0.022267    0.512881  2.007235   \n",
       "67            0.074835            0.139502  0.022267    0.297554  2.132979   \n",
       "68            0.056024            0.193493  0.022267    0.397459  2.054131   \n",
       "69            0.047382            0.255516  0.023183    0.489270  1.914833   \n",
       "70            0.074835            0.108998  0.023183    0.309783  2.842082   \n",
       "71            0.048907            0.193493  0.023183    0.474012  2.449770   \n",
       "72            0.108998            0.074835  0.023183    0.212687  2.842082   \n",
       "\n",
       "    leverage  conviction  \n",
       "63  0.005533    1.081467  \n",
       "64  0.007918    1.113687  \n",
       "65  0.007425    1.100452  \n",
       "66  0.011174    1.528340  \n",
       "67  0.011828    1.225003  \n",
       "68  0.011427    1.338511  \n",
       "69  0.011076    1.457687  \n",
       "70  0.015026    1.290900  \n",
       "71  0.013719    1.533320  \n",
       "72  0.015026    1.175091  "
      ]
     },
     "execution_count": 34,
     "metadata": {},
     "output_type": "execute_result"
    }
   ],
   "source": [
    "# checking combination in last 10 rows from dataset\n",
    "\n",
    "confidence_association.tail(10)"
   ]
  },
  {
   "cell_type": "markdown",
   "metadata": {
    "papermill": {
     "duration": 0.072424,
     "end_time": "2020-10-27T11:34:22.323785",
     "exception": false,
     "start_time": "2020-10-27T11:34:22.251361",
     "status": "completed"
    },
    "tags": []
   },
   "source": [
    " ### Understanding terminologies:\n",
    " ***\n",
    " \n",
    " [Basic Terminology](https://michael.hahsler.net/research/recommender/associationrules.html#:~:text=Leverage%20measures%20the%20difference%20of,expected%20from%20the%20independent%20sells)"
   ]
  },
  {
   "cell_type": "markdown",
   "metadata": {
    "papermill": {
     "duration": 0.072571,
     "end_time": "2020-10-27T11:34:22.468730",
     "exception": false,
     "start_time": "2020-10-27T11:34:22.396159",
     "status": "completed"
    },
    "tags": []
   },
   "source": [
    " #### 1 . Antecedent and Consequent\n",
    " \n",
    "The IF component of an association rule is known as the antecedent. The THEN component is known as the consequent. The antecedent and the consequent are disjoint; they have no items in common.\n",
    "\n",
    "\n",
    " #### 2. antecedent support\n",
    " \n",
    " It is antecedent support with all transction numbers.\n",
    " \n",
    " \n",
    " #### 3. consequent support\n",
    "\n",
    " It is consequent  support with all transction numbers.\n",
    " \n",
    " \n",
    " #### 4. Support:\n",
    " \n",
    " Here support is considered for antecedent+consequent combination.\n",
    " \n",
    " \n",
    " #### 5. confidence\n",
    " \n",
    " Confidence is related to 'consequent item' or 'consequent item combination' w.r.t. antecedent item  or item set.\n",
    " \n",
    " \n",
    " #### 6. lift\n",
    " \n",
    "Lift measures how many times more often X and Y occur together than expected if they where statistically independent. Lift is not down-ward closed and does not suffer from the rare item problem.\n",
    " \n",
    " In short firm possibilities of buying consequent whenever Antecedent item is purchaed by customer\n",
    " \n",
    " \n",
    " #### 7. Leverage\n",
    " \n",
    " Leverage measures the difference of X and Y appearing together in the data set and what would be expected if X and Y where statistically dependent. The rational in a sales setting is to find out how many more units (items X and Y together) are sold than expected from the independent sells.\n",
    " \n",
    " leverage also can suffer from the rare item problem.\n",
    " \n",
    " leverage(X -> Y) = P(X and Y) - (P(X)P(Y))\n",
    " \n",
    " \n",
    " #### 8. conviction\n",
    " \n",
    " conviction(X -> Y) = P(X)P(not Y)/P(X and not Y)=(1-sup(Y))/(1-conf(X -> Y))\n",
    "\n",
    "Conviction compares the probability that X appears without Y if they were dependent with the actual frequency of the appearance of X without Y. In that respect it is similar to lift (see section about lift on this page), however, it contrast to lift it is a directed measure. Furthermore, conviction is monotone in confidence and lift.\n",
    "\n",
    "\n",
    "#### 9. Coverage\n",
    "\n",
    "coverage(X) = P(X) = sup(X)\n",
    "\n",
    "A simple measure of how often a item set appears in the data set."
   ]
  },
  {
   "cell_type": "markdown",
   "metadata": {
    "papermill": {
     "duration": 0.072161,
     "end_time": "2020-10-27T11:34:22.613383",
     "exception": false,
     "start_time": "2020-10-27T11:34:22.541222",
     "status": "completed"
    },
    "tags": []
   },
   "source": [
    "## 4.3 Measure 3: Lift \n",
    "***"
   ]
  },
  {
   "cell_type": "markdown",
   "metadata": {
    "papermill": {
     "duration": 0.072172,
     "end_time": "2020-10-27T11:34:22.757744",
     "exception": false,
     "start_time": "2020-10-27T11:34:22.685572",
     "status": "completed"
    },
    "tags": []
   },
   "source": [
    " #### Concept:\n",
    "    \n",
    "This says how likely item Y is purchased when item X is purchased, while controlling for how popular item Y is. In Table 1, the lift of {apple -> beer} is 1,which implies no association between items. A lift value greater than 1 means that item Y is likely to be bought if item X is bought, while a value less than 1 means that item Y is unlikely to be bought if item X is bought.\n",
    "\n",
    "\n",
    "<img src=\"https://github.com/ShrikantUppin/Association_Rules/blob/main/measure3.png?raw=true\" >"
   ]
  },
  {
   "cell_type": "markdown",
   "metadata": {
    "papermill": {
     "duration": 0.072176,
     "end_time": "2020-10-27T11:34:22.902266",
     "exception": false,
     "start_time": "2020-10-27T11:34:22.830090",
     "status": "completed"
    },
    "tags": []
   },
   "source": [
    " ### Building Association rules using confidence metrics."
   ]
  },
  {
   "cell_type": "code",
   "execution_count": 35,
   "metadata": {
    "execution": {
     "iopub.execute_input": "2020-10-27T11:34:23.063338Z",
     "iopub.status.busy": "2020-10-27T11:34:23.062226Z",
     "iopub.status.idle": "2020-10-27T11:34:23.065326Z",
     "shell.execute_reply": "2020-10-27T11:34:23.064591Z"
    },
    "papermill": {
     "duration": 0.088845,
     "end_time": "2020-10-27T11:34:23.065454",
     "exception": false,
     "start_time": "2020-10-27T11:34:22.976609",
     "status": "completed"
    },
    "tags": []
   },
   "outputs": [],
   "source": [
    "lift_association = association_rules(freq_items, metric=\"lift\", min_threshold=1)"
   ]
  },
  {
   "cell_type": "code",
   "execution_count": 36,
   "metadata": {
    "execution": {
     "iopub.execute_input": "2020-10-27T11:34:23.216726Z",
     "iopub.status.busy": "2020-10-27T11:34:23.215663Z",
     "iopub.status.idle": "2020-10-27T11:34:23.219081Z",
     "shell.execute_reply": "2020-10-27T11:34:23.219669Z"
    },
    "papermill": {
     "duration": 0.082294,
     "end_time": "2020-10-27T11:34:23.219824",
     "exception": false,
     "start_time": "2020-10-27T11:34:23.137530",
     "status": "completed"
    },
    "tags": []
   },
   "outputs": [
    {
     "data": {
      "text/plain": [
       "(126, 9)"
      ]
     },
     "execution_count": 36,
     "metadata": {},
     "output_type": "execute_result"
    }
   ],
   "source": [
    "lift_association.shape"
   ]
  },
  {
   "cell_type": "code",
   "execution_count": 37,
   "metadata": {
    "execution": {
     "iopub.execute_input": "2020-10-27T11:34:23.395611Z",
     "iopub.status.busy": "2020-10-27T11:34:23.392065Z",
     "iopub.status.idle": "2020-10-27T11:34:23.400743Z",
     "shell.execute_reply": "2020-10-27T11:34:23.401417Z"
    },
    "papermill": {
     "duration": 0.108123,
     "end_time": "2020-10-27T11:34:23.401607",
     "exception": false,
     "start_time": "2020-10-27T11:34:23.293484",
     "status": "completed"
    },
    "tags": []
   },
   "outputs": [
    {
     "data": {
      "text/html": [
       "<div>\n",
       "<style scoped>\n",
       "    .dataframe tbody tr th:only-of-type {\n",
       "        vertical-align: middle;\n",
       "    }\n",
       "\n",
       "    .dataframe tbody tr th {\n",
       "        vertical-align: top;\n",
       "    }\n",
       "\n",
       "    .dataframe thead th {\n",
       "        text-align: right;\n",
       "    }\n",
       "</style>\n",
       "<table border=\"1\" class=\"dataframe\">\n",
       "  <thead>\n",
       "    <tr style=\"text-align: right;\">\n",
       "      <th></th>\n",
       "      <th>antecedents</th>\n",
       "      <th>consequents</th>\n",
       "      <th>antecedent support</th>\n",
       "      <th>consequent support</th>\n",
       "      <th>support</th>\n",
       "      <th>confidence</th>\n",
       "      <th>lift</th>\n",
       "      <th>leverage</th>\n",
       "      <th>conviction</th>\n",
       "    </tr>\n",
       "  </thead>\n",
       "  <tbody>\n",
       "    <tr>\n",
       "      <th>0</th>\n",
       "      <td>(citrus fruit)</td>\n",
       "      <td>(yogurt)</td>\n",
       "      <td>0.082766</td>\n",
       "      <td>0.139502</td>\n",
       "      <td>0.021657</td>\n",
       "      <td>0.261671</td>\n",
       "      <td>1.875752</td>\n",
       "      <td>0.010111</td>\n",
       "      <td>1.165467</td>\n",
       "    </tr>\n",
       "    <tr>\n",
       "      <th>1</th>\n",
       "      <td>(yogurt)</td>\n",
       "      <td>(citrus fruit)</td>\n",
       "      <td>0.139502</td>\n",
       "      <td>0.082766</td>\n",
       "      <td>0.021657</td>\n",
       "      <td>0.155248</td>\n",
       "      <td>1.875752</td>\n",
       "      <td>0.010111</td>\n",
       "      <td>1.085803</td>\n",
       "    </tr>\n",
       "    <tr>\n",
       "      <th>2</th>\n",
       "      <td>(citrus fruit)</td>\n",
       "      <td>(whole milk)</td>\n",
       "      <td>0.082766</td>\n",
       "      <td>0.255516</td>\n",
       "      <td>0.030503</td>\n",
       "      <td>0.368550</td>\n",
       "      <td>1.442377</td>\n",
       "      <td>0.009355</td>\n",
       "      <td>1.179008</td>\n",
       "    </tr>\n",
       "    <tr>\n",
       "      <th>3</th>\n",
       "      <td>(whole milk)</td>\n",
       "      <td>(citrus fruit)</td>\n",
       "      <td>0.255516</td>\n",
       "      <td>0.082766</td>\n",
       "      <td>0.030503</td>\n",
       "      <td>0.119379</td>\n",
       "      <td>1.442377</td>\n",
       "      <td>0.009355</td>\n",
       "      <td>1.041577</td>\n",
       "    </tr>\n",
       "    <tr>\n",
       "      <th>4</th>\n",
       "      <td>(other vegetables)</td>\n",
       "      <td>(citrus fruit)</td>\n",
       "      <td>0.193493</td>\n",
       "      <td>0.082766</td>\n",
       "      <td>0.028876</td>\n",
       "      <td>0.149238</td>\n",
       "      <td>1.803140</td>\n",
       "      <td>0.012862</td>\n",
       "      <td>1.078133</td>\n",
       "    </tr>\n",
       "    <tr>\n",
       "      <th>5</th>\n",
       "      <td>(citrus fruit)</td>\n",
       "      <td>(other vegetables)</td>\n",
       "      <td>0.082766</td>\n",
       "      <td>0.193493</td>\n",
       "      <td>0.028876</td>\n",
       "      <td>0.348894</td>\n",
       "      <td>1.803140</td>\n",
       "      <td>0.012862</td>\n",
       "      <td>1.238674</td>\n",
       "    </tr>\n",
       "    <tr>\n",
       "      <th>6</th>\n",
       "      <td>(margarine)</td>\n",
       "      <td>(whole milk)</td>\n",
       "      <td>0.058566</td>\n",
       "      <td>0.255516</td>\n",
       "      <td>0.024199</td>\n",
       "      <td>0.413194</td>\n",
       "      <td>1.617098</td>\n",
       "      <td>0.009235</td>\n",
       "      <td>1.268706</td>\n",
       "    </tr>\n",
       "    <tr>\n",
       "      <th>7</th>\n",
       "      <td>(whole milk)</td>\n",
       "      <td>(margarine)</td>\n",
       "      <td>0.255516</td>\n",
       "      <td>0.058566</td>\n",
       "      <td>0.024199</td>\n",
       "      <td>0.094708</td>\n",
       "      <td>1.617098</td>\n",
       "      <td>0.009235</td>\n",
       "      <td>1.039922</td>\n",
       "    </tr>\n",
       "    <tr>\n",
       "      <th>8</th>\n",
       "      <td>(tropical fruit)</td>\n",
       "      <td>(yogurt)</td>\n",
       "      <td>0.104931</td>\n",
       "      <td>0.139502</td>\n",
       "      <td>0.029283</td>\n",
       "      <td>0.279070</td>\n",
       "      <td>2.000475</td>\n",
       "      <td>0.014645</td>\n",
       "      <td>1.193594</td>\n",
       "    </tr>\n",
       "    <tr>\n",
       "      <th>9</th>\n",
       "      <td>(yogurt)</td>\n",
       "      <td>(tropical fruit)</td>\n",
       "      <td>0.139502</td>\n",
       "      <td>0.104931</td>\n",
       "      <td>0.029283</td>\n",
       "      <td>0.209913</td>\n",
       "      <td>2.000475</td>\n",
       "      <td>0.014645</td>\n",
       "      <td>1.132873</td>\n",
       "    </tr>\n",
       "  </tbody>\n",
       "</table>\n",
       "</div>"
      ],
      "text/plain": [
       "          antecedents         consequents  antecedent support  \\\n",
       "0      (citrus fruit)            (yogurt)            0.082766   \n",
       "1            (yogurt)      (citrus fruit)            0.139502   \n",
       "2      (citrus fruit)        (whole milk)            0.082766   \n",
       "3        (whole milk)      (citrus fruit)            0.255516   \n",
       "4  (other vegetables)      (citrus fruit)            0.193493   \n",
       "5      (citrus fruit)  (other vegetables)            0.082766   \n",
       "6         (margarine)        (whole milk)            0.058566   \n",
       "7        (whole milk)         (margarine)            0.255516   \n",
       "8    (tropical fruit)            (yogurt)            0.104931   \n",
       "9            (yogurt)    (tropical fruit)            0.139502   \n",
       "\n",
       "   consequent support   support  confidence      lift  leverage  conviction  \n",
       "0            0.139502  0.021657    0.261671  1.875752  0.010111    1.165467  \n",
       "1            0.082766  0.021657    0.155248  1.875752  0.010111    1.085803  \n",
       "2            0.255516  0.030503    0.368550  1.442377  0.009355    1.179008  \n",
       "3            0.082766  0.030503    0.119379  1.442377  0.009355    1.041577  \n",
       "4            0.082766  0.028876    0.149238  1.803140  0.012862    1.078133  \n",
       "5            0.193493  0.028876    0.348894  1.803140  0.012862    1.238674  \n",
       "6            0.255516  0.024199    0.413194  1.617098  0.009235    1.268706  \n",
       "7            0.058566  0.024199    0.094708  1.617098  0.009235    1.039922  \n",
       "8            0.139502  0.029283    0.279070  2.000475  0.014645    1.193594  \n",
       "9            0.104931  0.029283    0.209913  2.000475  0.014645    1.132873  "
      ]
     },
     "execution_count": 37,
     "metadata": {},
     "output_type": "execute_result"
    }
   ],
   "source": [
    "lift_association.head(10)"
   ]
  },
  {
   "cell_type": "code",
   "execution_count": 38,
   "metadata": {
    "execution": {
     "iopub.execute_input": "2020-10-27T11:34:23.584829Z",
     "iopub.status.busy": "2020-10-27T11:34:23.583861Z",
     "iopub.status.idle": "2020-10-27T11:34:23.589516Z",
     "shell.execute_reply": "2020-10-27T11:34:23.588805Z"
    },
    "papermill": {
     "duration": 0.102831,
     "end_time": "2020-10-27T11:34:23.589662",
     "exception": false,
     "start_time": "2020-10-27T11:34:23.486831",
     "status": "completed"
    },
    "tags": []
   },
   "outputs": [
    {
     "data": {
      "text/html": [
       "<div>\n",
       "<style scoped>\n",
       "    .dataframe tbody tr th:only-of-type {\n",
       "        vertical-align: middle;\n",
       "    }\n",
       "\n",
       "    .dataframe tbody tr th {\n",
       "        vertical-align: top;\n",
       "    }\n",
       "\n",
       "    .dataframe thead th {\n",
       "        text-align: right;\n",
       "    }\n",
       "</style>\n",
       "<table border=\"1\" class=\"dataframe\">\n",
       "  <thead>\n",
       "    <tr style=\"text-align: right;\">\n",
       "      <th></th>\n",
       "      <th>antecedents</th>\n",
       "      <th>consequents</th>\n",
       "      <th>antecedent support</th>\n",
       "      <th>consequent support</th>\n",
       "      <th>support</th>\n",
       "      <th>confidence</th>\n",
       "      <th>lift</th>\n",
       "      <th>leverage</th>\n",
       "      <th>conviction</th>\n",
       "    </tr>\n",
       "  </thead>\n",
       "  <tbody>\n",
       "    <tr>\n",
       "      <th>121</th>\n",
       "      <td>(other vegetables, whole milk)</td>\n",
       "      <td>(root vegetables)</td>\n",
       "      <td>0.074835</td>\n",
       "      <td>0.108998</td>\n",
       "      <td>0.023183</td>\n",
       "      <td>0.309783</td>\n",
       "      <td>2.842082</td>\n",
       "      <td>0.015026</td>\n",
       "      <td>1.290900</td>\n",
       "    </tr>\n",
       "    <tr>\n",
       "      <th>122</th>\n",
       "      <td>(root vegetables, whole milk)</td>\n",
       "      <td>(other vegetables)</td>\n",
       "      <td>0.048907</td>\n",
       "      <td>0.193493</td>\n",
       "      <td>0.023183</td>\n",
       "      <td>0.474012</td>\n",
       "      <td>2.449770</td>\n",
       "      <td>0.013719</td>\n",
       "      <td>1.533320</td>\n",
       "    </tr>\n",
       "    <tr>\n",
       "      <th>123</th>\n",
       "      <td>(other vegetables)</td>\n",
       "      <td>(root vegetables, whole milk)</td>\n",
       "      <td>0.193493</td>\n",
       "      <td>0.048907</td>\n",
       "      <td>0.023183</td>\n",
       "      <td>0.119811</td>\n",
       "      <td>2.449770</td>\n",
       "      <td>0.013719</td>\n",
       "      <td>1.080555</td>\n",
       "    </tr>\n",
       "    <tr>\n",
       "      <th>124</th>\n",
       "      <td>(root vegetables)</td>\n",
       "      <td>(other vegetables, whole milk)</td>\n",
       "      <td>0.108998</td>\n",
       "      <td>0.074835</td>\n",
       "      <td>0.023183</td>\n",
       "      <td>0.212687</td>\n",
       "      <td>2.842082</td>\n",
       "      <td>0.015026</td>\n",
       "      <td>1.175091</td>\n",
       "    </tr>\n",
       "    <tr>\n",
       "      <th>125</th>\n",
       "      <td>(whole milk)</td>\n",
       "      <td>(other vegetables, root vegetables)</td>\n",
       "      <td>0.255516</td>\n",
       "      <td>0.047382</td>\n",
       "      <td>0.023183</td>\n",
       "      <td>0.090728</td>\n",
       "      <td>1.914833</td>\n",
       "      <td>0.011076</td>\n",
       "      <td>1.047672</td>\n",
       "    </tr>\n",
       "  </tbody>\n",
       "</table>\n",
       "</div>"
      ],
      "text/plain": [
       "                        antecedents                          consequents  \\\n",
       "121  (other vegetables, whole milk)                    (root vegetables)   \n",
       "122   (root vegetables, whole milk)                   (other vegetables)   \n",
       "123              (other vegetables)        (root vegetables, whole milk)   \n",
       "124               (root vegetables)       (other vegetables, whole milk)   \n",
       "125                    (whole milk)  (other vegetables, root vegetables)   \n",
       "\n",
       "     antecedent support  consequent support   support  confidence      lift  \\\n",
       "121            0.074835            0.108998  0.023183    0.309783  2.842082   \n",
       "122            0.048907            0.193493  0.023183    0.474012  2.449770   \n",
       "123            0.193493            0.048907  0.023183    0.119811  2.449770   \n",
       "124            0.108998            0.074835  0.023183    0.212687  2.842082   \n",
       "125            0.255516            0.047382  0.023183    0.090728  1.914833   \n",
       "\n",
       "     leverage  conviction  \n",
       "121  0.015026    1.290900  \n",
       "122  0.013719    1.533320  \n",
       "123  0.013719    1.080555  \n",
       "124  0.015026    1.175091  \n",
       "125  0.011076    1.047672  "
      ]
     },
     "execution_count": 38,
     "metadata": {},
     "output_type": "execute_result"
    }
   ],
   "source": [
    "lift_association.tail(5)"
   ]
  },
  {
   "cell_type": "markdown",
   "metadata": {
    "papermill": {
     "duration": 0.076382,
     "end_time": "2020-10-27T11:34:23.749274",
     "exception": false,
     "start_time": "2020-10-27T11:34:23.672892",
     "status": "completed"
    },
    "tags": []
   },
   "source": [
    "## 4.4 Eliminating redudancy sets...\n",
    " "
   ]
  },
  {
   "cell_type": "code",
   "execution_count": 39,
   "metadata": {
    "execution": {
     "iopub.execute_input": "2020-10-27T11:34:23.915487Z",
     "iopub.status.busy": "2020-10-27T11:34:23.914710Z",
     "iopub.status.idle": "2020-10-27T11:34:23.940499Z",
     "shell.execute_reply": "2020-10-27T11:34:23.939814Z"
    },
    "papermill": {
     "duration": 0.114882,
     "end_time": "2020-10-27T11:34:23.940646",
     "exception": false,
     "start_time": "2020-10-27T11:34:23.825764",
     "status": "completed"
    },
    "tags": []
   },
   "outputs": [
    {
     "data": {
      "text/html": [
       "<div>\n",
       "<style scoped>\n",
       "    .dataframe tbody tr th:only-of-type {\n",
       "        vertical-align: middle;\n",
       "    }\n",
       "\n",
       "    .dataframe tbody tr th {\n",
       "        vertical-align: top;\n",
       "    }\n",
       "\n",
       "    .dataframe thead th {\n",
       "        text-align: right;\n",
       "    }\n",
       "</style>\n",
       "<table border=\"1\" class=\"dataframe\">\n",
       "  <thead>\n",
       "    <tr style=\"text-align: right;\">\n",
       "      <th></th>\n",
       "      <th>antecedents</th>\n",
       "      <th>consequents</th>\n",
       "      <th>antecedent support</th>\n",
       "      <th>consequent support</th>\n",
       "      <th>support</th>\n",
       "      <th>confidence</th>\n",
       "      <th>lift</th>\n",
       "      <th>leverage</th>\n",
       "      <th>conviction</th>\n",
       "    </tr>\n",
       "  </thead>\n",
       "  <tbody>\n",
       "    <tr>\n",
       "      <th>0</th>\n",
       "      <td>(root vegetables)</td>\n",
       "      <td>(other vegetables)</td>\n",
       "      <td>0.108998</td>\n",
       "      <td>0.193493</td>\n",
       "      <td>0.047382</td>\n",
       "      <td>0.434701</td>\n",
       "      <td>2.246605</td>\n",
       "      <td>0.026291</td>\n",
       "      <td>1.426693</td>\n",
       "    </tr>\n",
       "    <tr>\n",
       "      <th>1</th>\n",
       "      <td>(other vegetables)</td>\n",
       "      <td>(root vegetables)</td>\n",
       "      <td>0.193493</td>\n",
       "      <td>0.108998</td>\n",
       "      <td>0.047382</td>\n",
       "      <td>0.244877</td>\n",
       "      <td>2.246605</td>\n",
       "      <td>0.026291</td>\n",
       "      <td>1.179941</td>\n",
       "    </tr>\n",
       "    <tr>\n",
       "      <th>2</th>\n",
       "      <td>(other vegetables)</td>\n",
       "      <td>(whole milk)</td>\n",
       "      <td>0.193493</td>\n",
       "      <td>0.255516</td>\n",
       "      <td>0.074835</td>\n",
       "      <td>0.386758</td>\n",
       "      <td>1.513634</td>\n",
       "      <td>0.025394</td>\n",
       "      <td>1.214013</td>\n",
       "    </tr>\n",
       "    <tr>\n",
       "      <th>3</th>\n",
       "      <td>(whole milk)</td>\n",
       "      <td>(other vegetables)</td>\n",
       "      <td>0.255516</td>\n",
       "      <td>0.193493</td>\n",
       "      <td>0.074835</td>\n",
       "      <td>0.292877</td>\n",
       "      <td>1.513634</td>\n",
       "      <td>0.025394</td>\n",
       "      <td>1.140548</td>\n",
       "    </tr>\n",
       "    <tr>\n",
       "      <th>4</th>\n",
       "      <td>(root vegetables)</td>\n",
       "      <td>(whole milk)</td>\n",
       "      <td>0.108998</td>\n",
       "      <td>0.255516</td>\n",
       "      <td>0.048907</td>\n",
       "      <td>0.448694</td>\n",
       "      <td>1.756031</td>\n",
       "      <td>0.021056</td>\n",
       "      <td>1.350401</td>\n",
       "    </tr>\n",
       "  </tbody>\n",
       "</table>\n",
       "</div>"
      ],
      "text/plain": [
       "          antecedents         consequents  antecedent support  \\\n",
       "0   (root vegetables)  (other vegetables)            0.108998   \n",
       "1  (other vegetables)   (root vegetables)            0.193493   \n",
       "2  (other vegetables)        (whole milk)            0.193493   \n",
       "3        (whole milk)  (other vegetables)            0.255516   \n",
       "4   (root vegetables)        (whole milk)            0.108998   \n",
       "\n",
       "   consequent support   support  confidence      lift  leverage  conviction  \n",
       "0            0.193493  0.047382    0.434701  2.246605  0.026291    1.426693  \n",
       "1            0.108998  0.047382    0.244877  2.246605  0.026291    1.179941  \n",
       "2            0.255516  0.074835    0.386758  1.513634  0.025394    1.214013  \n",
       "3            0.193493  0.074835    0.292877  1.513634  0.025394    1.140548  \n",
       "4            0.255516  0.048907    0.448694  1.756031  0.021056    1.350401  "
      ]
     },
     "execution_count": 39,
     "metadata": {},
     "output_type": "execute_result"
    }
   ],
   "source": [
    "# As per above output observation, it is clear that when same items repeated..\n",
    "#...(for ex: in first row: A-->B, and in next row B-->A) gives same leverage & lift but confidence is different.\n",
    "#...this is known as redudency when same item set shuffled as ancedents & consequent.\n",
    "#.... so to eliminates in easist way..will sort n the basis of leverage & confidence.\n",
    "\n",
    "redundancy = lift_association.sort_values(by=['leverage','confidence'],axis=0, ascending=False).reset_index()\n",
    "redundancy = redundancy.drop(['index'], axis=1)\n",
    "redundancy.shape\n",
    "redundancy.head()"
   ]
  },
  {
   "cell_type": "code",
   "execution_count": 40,
   "metadata": {
    "execution": {
     "iopub.execute_input": "2020-10-27T11:34:24.122635Z",
     "iopub.status.busy": "2020-10-27T11:34:24.121526Z",
     "iopub.status.idle": "2020-10-27T11:34:24.127059Z",
     "shell.execute_reply": "2020-10-27T11:34:24.126427Z"
    },
    "papermill": {
     "duration": 0.105327,
     "end_time": "2020-10-27T11:34:24.127229",
     "exception": false,
     "start_time": "2020-10-27T11:34:24.021902",
     "status": "completed"
    },
    "tags": []
   },
   "outputs": [
    {
     "data": {
      "text/html": [
       "<div>\n",
       "<style scoped>\n",
       "    .dataframe tbody tr th:only-of-type {\n",
       "        vertical-align: middle;\n",
       "    }\n",
       "\n",
       "    .dataframe tbody tr th {\n",
       "        vertical-align: top;\n",
       "    }\n",
       "\n",
       "    .dataframe thead th {\n",
       "        text-align: right;\n",
       "    }\n",
       "</style>\n",
       "<table border=\"1\" class=\"dataframe\">\n",
       "  <thead>\n",
       "    <tr style=\"text-align: right;\">\n",
       "      <th></th>\n",
       "      <th>antecedents</th>\n",
       "      <th>consequents</th>\n",
       "      <th>antecedent support</th>\n",
       "      <th>consequent support</th>\n",
       "      <th>support</th>\n",
       "      <th>confidence</th>\n",
       "      <th>lift</th>\n",
       "      <th>leverage</th>\n",
       "      <th>conviction</th>\n",
       "    </tr>\n",
       "  </thead>\n",
       "  <tbody>\n",
       "    <tr>\n",
       "      <th>121</th>\n",
       "      <td>(other vegetables)</td>\n",
       "      <td>(bottled water)</td>\n",
       "      <td>0.193493</td>\n",
       "      <td>0.110524</td>\n",
       "      <td>0.024809</td>\n",
       "      <td>0.128219</td>\n",
       "      <td>1.160101</td>\n",
       "      <td>0.003424</td>\n",
       "      <td>1.020297</td>\n",
       "    </tr>\n",
       "    <tr>\n",
       "      <th>122</th>\n",
       "      <td>(yogurt)</td>\n",
       "      <td>(soda)</td>\n",
       "      <td>0.139502</td>\n",
       "      <td>0.174377</td>\n",
       "      <td>0.027351</td>\n",
       "      <td>0.196064</td>\n",
       "      <td>1.124368</td>\n",
       "      <td>0.003025</td>\n",
       "      <td>1.026976</td>\n",
       "    </tr>\n",
       "    <tr>\n",
       "      <th>123</th>\n",
       "      <td>(soda)</td>\n",
       "      <td>(yogurt)</td>\n",
       "      <td>0.174377</td>\n",
       "      <td>0.139502</td>\n",
       "      <td>0.027351</td>\n",
       "      <td>0.156851</td>\n",
       "      <td>1.124368</td>\n",
       "      <td>0.003025</td>\n",
       "      <td>1.020577</td>\n",
       "    </tr>\n",
       "    <tr>\n",
       "      <th>124</th>\n",
       "      <td>(tropical fruit)</td>\n",
       "      <td>(soda)</td>\n",
       "      <td>0.104931</td>\n",
       "      <td>0.174377</td>\n",
       "      <td>0.020844</td>\n",
       "      <td>0.198643</td>\n",
       "      <td>1.139159</td>\n",
       "      <td>0.002546</td>\n",
       "      <td>1.030281</td>\n",
       "    </tr>\n",
       "    <tr>\n",
       "      <th>125</th>\n",
       "      <td>(soda)</td>\n",
       "      <td>(tropical fruit)</td>\n",
       "      <td>0.174377</td>\n",
       "      <td>0.104931</td>\n",
       "      <td>0.020844</td>\n",
       "      <td>0.119534</td>\n",
       "      <td>1.139159</td>\n",
       "      <td>0.002546</td>\n",
       "      <td>1.016585</td>\n",
       "    </tr>\n",
       "  </tbody>\n",
       "</table>\n",
       "</div>"
      ],
      "text/plain": [
       "            antecedents       consequents  antecedent support  \\\n",
       "121  (other vegetables)   (bottled water)            0.193493   \n",
       "122            (yogurt)            (soda)            0.139502   \n",
       "123              (soda)          (yogurt)            0.174377   \n",
       "124    (tropical fruit)            (soda)            0.104931   \n",
       "125              (soda)  (tropical fruit)            0.174377   \n",
       "\n",
       "     consequent support   support  confidence      lift  leverage  conviction  \n",
       "121            0.110524  0.024809    0.128219  1.160101  0.003424    1.020297  \n",
       "122            0.174377  0.027351    0.196064  1.124368  0.003025    1.026976  \n",
       "123            0.139502  0.027351    0.156851  1.124368  0.003025    1.020577  \n",
       "124            0.174377  0.020844    0.198643  1.139159  0.002546    1.030281  \n",
       "125            0.104931  0.020844    0.119534  1.139159  0.002546    1.016585  "
      ]
     },
     "execution_count": 40,
     "metadata": {},
     "output_type": "execute_result"
    }
   ],
   "source": [
    "redundancy.tail()"
   ]
  },
  {
   "cell_type": "code",
   "execution_count": 41,
   "metadata": {
    "execution": {
     "iopub.execute_input": "2020-10-27T11:34:24.294432Z",
     "iopub.status.busy": "2020-10-27T11:34:24.293338Z",
     "iopub.status.idle": "2020-10-27T11:34:24.297251Z",
     "shell.execute_reply": "2020-10-27T11:34:24.297777Z"
    },
    "papermill": {
     "duration": 0.087947,
     "end_time": "2020-10-27T11:34:24.297932",
     "exception": false,
     "start_time": "2020-10-27T11:34:24.209985",
     "status": "completed"
    },
    "tags": []
   },
   "outputs": [
    {
     "data": {
      "text/plain": [
       "(63, 9)"
      ]
     },
     "execution_count": 41,
     "metadata": {},
     "output_type": "execute_result"
    }
   ],
   "source": [
    "# Now check output of above cells, when leverage and lift are same for consequent rows..then compare with the value of confidence\n",
    "#...if confidence of middle cell found less than two side cells..drop it.\n",
    "# dropping odd index rows..since it contains less confidence\n",
    "# ultimately this will help us to elminate repeated combination..which has low lift & confidence..\n",
    "\n",
    "unique_rules = redundancy.iloc[::2]\n",
    "unique_rules.shape"
   ]
  },
  {
   "cell_type": "code",
   "execution_count": 42,
   "metadata": {
    "execution": {
     "iopub.execute_input": "2020-10-27T11:34:24.483494Z",
     "iopub.status.busy": "2020-10-27T11:34:24.482343Z",
     "iopub.status.idle": "2020-10-27T11:34:24.487496Z",
     "shell.execute_reply": "2020-10-27T11:34:24.486750Z"
    },
    "papermill": {
     "duration": 0.112139,
     "end_time": "2020-10-27T11:34:24.487622",
     "exception": false,
     "start_time": "2020-10-27T11:34:24.375483",
     "status": "completed"
    },
    "tags": []
   },
   "outputs": [
    {
     "data": {
      "text/html": [
       "<div>\n",
       "<style scoped>\n",
       "    .dataframe tbody tr th:only-of-type {\n",
       "        vertical-align: middle;\n",
       "    }\n",
       "\n",
       "    .dataframe tbody tr th {\n",
       "        vertical-align: top;\n",
       "    }\n",
       "\n",
       "    .dataframe thead th {\n",
       "        text-align: right;\n",
       "    }\n",
       "</style>\n",
       "<table border=\"1\" class=\"dataframe\">\n",
       "  <thead>\n",
       "    <tr style=\"text-align: right;\">\n",
       "      <th></th>\n",
       "      <th>antecedents</th>\n",
       "      <th>consequents</th>\n",
       "      <th>antecedent support</th>\n",
       "      <th>consequent support</th>\n",
       "      <th>support</th>\n",
       "      <th>confidence</th>\n",
       "      <th>lift</th>\n",
       "      <th>leverage</th>\n",
       "      <th>conviction</th>\n",
       "    </tr>\n",
       "  </thead>\n",
       "  <tbody>\n",
       "    <tr>\n",
       "      <th>0</th>\n",
       "      <td>(root vegetables)</td>\n",
       "      <td>(other vegetables)</td>\n",
       "      <td>0.108998</td>\n",
       "      <td>0.193493</td>\n",
       "      <td>0.047382</td>\n",
       "      <td>0.434701</td>\n",
       "      <td>2.246605</td>\n",
       "      <td>0.026291</td>\n",
       "      <td>1.426693</td>\n",
       "    </tr>\n",
       "    <tr>\n",
       "      <th>2</th>\n",
       "      <td>(other vegetables)</td>\n",
       "      <td>(whole milk)</td>\n",
       "      <td>0.193493</td>\n",
       "      <td>0.255516</td>\n",
       "      <td>0.074835</td>\n",
       "      <td>0.386758</td>\n",
       "      <td>1.513634</td>\n",
       "      <td>0.025394</td>\n",
       "      <td>1.214013</td>\n",
       "    </tr>\n",
       "    <tr>\n",
       "      <th>4</th>\n",
       "      <td>(root vegetables)</td>\n",
       "      <td>(whole milk)</td>\n",
       "      <td>0.108998</td>\n",
       "      <td>0.255516</td>\n",
       "      <td>0.048907</td>\n",
       "      <td>0.448694</td>\n",
       "      <td>1.756031</td>\n",
       "      <td>0.021056</td>\n",
       "      <td>1.350401</td>\n",
       "    </tr>\n",
       "    <tr>\n",
       "      <th>6</th>\n",
       "      <td>(yogurt)</td>\n",
       "      <td>(whole milk)</td>\n",
       "      <td>0.139502</td>\n",
       "      <td>0.255516</td>\n",
       "      <td>0.056024</td>\n",
       "      <td>0.401603</td>\n",
       "      <td>1.571735</td>\n",
       "      <td>0.020379</td>\n",
       "      <td>1.244132</td>\n",
       "    </tr>\n",
       "    <tr>\n",
       "      <th>8</th>\n",
       "      <td>(yogurt)</td>\n",
       "      <td>(other vegetables)</td>\n",
       "      <td>0.139502</td>\n",
       "      <td>0.193493</td>\n",
       "      <td>0.043416</td>\n",
       "      <td>0.311224</td>\n",
       "      <td>1.608457</td>\n",
       "      <td>0.016424</td>\n",
       "      <td>1.170929</td>\n",
       "    </tr>\n",
       "    <tr>\n",
       "      <th>10</th>\n",
       "      <td>(tropical fruit)</td>\n",
       "      <td>(other vegetables)</td>\n",
       "      <td>0.104931</td>\n",
       "      <td>0.193493</td>\n",
       "      <td>0.035892</td>\n",
       "      <td>0.342054</td>\n",
       "      <td>1.767790</td>\n",
       "      <td>0.015589</td>\n",
       "      <td>1.225796</td>\n",
       "    </tr>\n",
       "    <tr>\n",
       "      <th>12</th>\n",
       "      <td>(tropical fruit)</td>\n",
       "      <td>(whole milk)</td>\n",
       "      <td>0.104931</td>\n",
       "      <td>0.255516</td>\n",
       "      <td>0.042298</td>\n",
       "      <td>0.403101</td>\n",
       "      <td>1.577595</td>\n",
       "      <td>0.015486</td>\n",
       "      <td>1.247252</td>\n",
       "    </tr>\n",
       "    <tr>\n",
       "      <th>14</th>\n",
       "      <td>(other vegetables, whole milk)</td>\n",
       "      <td>(root vegetables)</td>\n",
       "      <td>0.074835</td>\n",
       "      <td>0.108998</td>\n",
       "      <td>0.023183</td>\n",
       "      <td>0.309783</td>\n",
       "      <td>2.842082</td>\n",
       "      <td>0.015026</td>\n",
       "      <td>1.290900</td>\n",
       "    </tr>\n",
       "    <tr>\n",
       "      <th>16</th>\n",
       "      <td>(whipped/sour cream)</td>\n",
       "      <td>(other vegetables)</td>\n",
       "      <td>0.071683</td>\n",
       "      <td>0.193493</td>\n",
       "      <td>0.028876</td>\n",
       "      <td>0.402837</td>\n",
       "      <td>2.081924</td>\n",
       "      <td>0.015006</td>\n",
       "      <td>1.350565</td>\n",
       "    </tr>\n",
       "    <tr>\n",
       "      <th>18</th>\n",
       "      <td>(tropical fruit)</td>\n",
       "      <td>(yogurt)</td>\n",
       "      <td>0.104931</td>\n",
       "      <td>0.139502</td>\n",
       "      <td>0.029283</td>\n",
       "      <td>0.279070</td>\n",
       "      <td>2.000475</td>\n",
       "      <td>0.014645</td>\n",
       "      <td>1.193594</td>\n",
       "    </tr>\n",
       "  </tbody>\n",
       "</table>\n",
       "</div>"
      ],
      "text/plain": [
       "                       antecedents         consequents  antecedent support  \\\n",
       "0                (root vegetables)  (other vegetables)            0.108998   \n",
       "2               (other vegetables)        (whole milk)            0.193493   \n",
       "4                (root vegetables)        (whole milk)            0.108998   \n",
       "6                         (yogurt)        (whole milk)            0.139502   \n",
       "8                         (yogurt)  (other vegetables)            0.139502   \n",
       "10                (tropical fruit)  (other vegetables)            0.104931   \n",
       "12                (tropical fruit)        (whole milk)            0.104931   \n",
       "14  (other vegetables, whole milk)   (root vegetables)            0.074835   \n",
       "16            (whipped/sour cream)  (other vegetables)            0.071683   \n",
       "18                (tropical fruit)            (yogurt)            0.104931   \n",
       "\n",
       "    consequent support   support  confidence      lift  leverage  conviction  \n",
       "0             0.193493  0.047382    0.434701  2.246605  0.026291    1.426693  \n",
       "2             0.255516  0.074835    0.386758  1.513634  0.025394    1.214013  \n",
       "4             0.255516  0.048907    0.448694  1.756031  0.021056    1.350401  \n",
       "6             0.255516  0.056024    0.401603  1.571735  0.020379    1.244132  \n",
       "8             0.193493  0.043416    0.311224  1.608457  0.016424    1.170929  \n",
       "10            0.193493  0.035892    0.342054  1.767790  0.015589    1.225796  \n",
       "12            0.255516  0.042298    0.403101  1.577595  0.015486    1.247252  \n",
       "14            0.108998  0.023183    0.309783  2.842082  0.015026    1.290900  \n",
       "16            0.193493  0.028876    0.402837  2.081924  0.015006    1.350565  \n",
       "18            0.139502  0.029283    0.279070  2.000475  0.014645    1.193594  "
      ]
     },
     "execution_count": 42,
     "metadata": {},
     "output_type": "execute_result"
    }
   ],
   "source": [
    "unique_rules.head(10)"
   ]
  },
  {
   "cell_type": "markdown",
   "metadata": {
    "papermill": {
     "duration": 0.078142,
     "end_time": "2020-10-27T11:34:24.644495",
     "exception": false,
     "start_time": "2020-10-27T11:34:24.566353",
     "status": "completed"
    },
    "tags": []
   },
   "source": [
    " ### Summary:\n",
    " \n",
    " \n",
    " * freq_items = apriori(dataset1, min_support=0.02, use_colnames=True, max_len=5)\n",
    " \n",
    " \n",
    "\n",
    " * confidence_association = association_rules(freq_items, metric='confidence', min_threshold=0.2)\n",
    " \n",
    " \n",
    " * lift_association = association_rules(freq_items, metric=\"lift\", min_threshold=1)\n",
    " "
   ]
  },
  {
   "cell_type": "markdown",
   "metadata": {
    "papermill": {
     "duration": 0.078503,
     "end_time": "2020-10-27T11:34:24.801574",
     "exception": false,
     "start_time": "2020-10-27T11:34:24.723071",
     "status": "completed"
    },
    "tags": []
   },
   "source": [
    "# Step 5: Generated Rules analysis/Processing"
   ]
  },
  {
   "cell_type": "markdown",
   "metadata": {
    "papermill": {
     "duration": 0.078838,
     "end_time": "2020-10-27T11:34:24.958671",
     "exception": false,
     "start_time": "2020-10-27T11:34:24.879833",
     "status": "completed"
    },
    "tags": []
   },
   "source": [
    "We have obtained unique_rules with metric='lift'. Now, this unique_rules dataframe will be used for analysis..just filtering as per threshold value set/required & obtaining diff. pairs of item sets.\n",
    "\n",
    "\n",
    "Note: lift is set to 1. in previous code. Since if lift is equal to or greater than 1..that means chances to pick consequents items by customer is more..!!"
   ]
  },
  {
   "cell_type": "code",
   "execution_count": 43,
   "metadata": {
    "execution": {
     "iopub.execute_input": "2020-10-27T11:34:25.128492Z",
     "iopub.status.busy": "2020-10-27T11:34:25.127469Z",
     "iopub.status.idle": "2020-10-27T11:34:25.130571Z",
     "shell.execute_reply": "2020-10-27T11:34:25.129786Z"
    },
    "papermill": {
     "duration": 0.090237,
     "end_time": "2020-10-27T11:34:25.130713",
     "exception": false,
     "start_time": "2020-10-27T11:34:25.040476",
     "status": "completed"
    },
    "tags": []
   },
   "outputs": [],
   "source": [
    "top_20 = unique_rules[unique_rules['lift']>1.5]"
   ]
  },
  {
   "cell_type": "markdown",
   "metadata": {
    "papermill": {
     "duration": 0.078649,
     "end_time": "2020-10-27T11:34:25.289539",
     "exception": false,
     "start_time": "2020-10-27T11:34:25.210890",
     "status": "completed"
    },
    "tags": []
   },
   "source": [
    " ### Top 20 combinations w.r.t. Lift more than 1.5"
   ]
  },
  {
   "cell_type": "code",
   "execution_count": 44,
   "metadata": {
    "execution": {
     "iopub.execute_input": "2020-10-27T11:34:25.457007Z",
     "iopub.status.busy": "2020-10-27T11:34:25.456034Z",
     "iopub.status.idle": "2020-10-27T11:34:25.460205Z",
     "shell.execute_reply": "2020-10-27T11:34:25.459506Z"
    },
    "papermill": {
     "duration": 0.091512,
     "end_time": "2020-10-27T11:34:25.460376",
     "exception": false,
     "start_time": "2020-10-27T11:34:25.368864",
     "status": "completed"
    },
    "tags": []
   },
   "outputs": [],
   "source": [
    "top_20_sort = top_20.sort_values(by='lift', ascending=False)\n",
    "top_20_sort.reset_index(inplace=True)"
   ]
  },
  {
   "cell_type": "code",
   "execution_count": 45,
   "metadata": {
    "execution": {
     "iopub.execute_input": "2020-10-27T11:34:25.632919Z",
     "iopub.status.busy": "2020-10-27T11:34:25.632088Z",
     "iopub.status.idle": "2020-10-27T11:34:25.635598Z",
     "shell.execute_reply": "2020-10-27T11:34:25.634770Z"
    },
    "papermill": {
     "duration": 0.093873,
     "end_time": "2020-10-27T11:34:25.635741",
     "exception": false,
     "start_time": "2020-10-27T11:34:25.541868",
     "status": "completed"
    },
    "tags": []
   },
   "outputs": [],
   "source": [
    "top_20_sort = top_20_sort.drop(['index'],axis=1)"
   ]
  },
  {
   "cell_type": "code",
   "execution_count": 46,
   "metadata": {
    "execution": {
     "iopub.execute_input": "2020-10-27T11:34:25.824375Z",
     "iopub.status.busy": "2020-10-27T11:34:25.823416Z",
     "iopub.status.idle": "2020-10-27T11:34:25.829513Z",
     "shell.execute_reply": "2020-10-27T11:34:25.828735Z"
    },
    "papermill": {
     "duration": 0.111797,
     "end_time": "2020-10-27T11:34:25.829649",
     "exception": false,
     "start_time": "2020-10-27T11:34:25.717852",
     "status": "completed"
    },
    "tags": []
   },
   "outputs": [
    {
     "data": {
      "text/html": [
       "<div>\n",
       "<style scoped>\n",
       "    .dataframe tbody tr th:only-of-type {\n",
       "        vertical-align: middle;\n",
       "    }\n",
       "\n",
       "    .dataframe tbody tr th {\n",
       "        vertical-align: top;\n",
       "    }\n",
       "\n",
       "    .dataframe thead th {\n",
       "        text-align: right;\n",
       "    }\n",
       "</style>\n",
       "<table border=\"1\" class=\"dataframe\">\n",
       "  <thead>\n",
       "    <tr style=\"text-align: right;\">\n",
       "      <th></th>\n",
       "      <th>antecedents</th>\n",
       "      <th>consequents</th>\n",
       "      <th>antecedent support</th>\n",
       "      <th>consequent support</th>\n",
       "      <th>support</th>\n",
       "      <th>confidence</th>\n",
       "      <th>lift</th>\n",
       "      <th>leverage</th>\n",
       "      <th>conviction</th>\n",
       "    </tr>\n",
       "  </thead>\n",
       "  <tbody>\n",
       "    <tr>\n",
       "      <th>0</th>\n",
       "      <td>(other vegetables, whole milk)</td>\n",
       "      <td>(root vegetables)</td>\n",
       "      <td>0.074835</td>\n",
       "      <td>0.108998</td>\n",
       "      <td>0.023183</td>\n",
       "      <td>0.309783</td>\n",
       "      <td>2.842082</td>\n",
       "      <td>0.015026</td>\n",
       "      <td>1.290900</td>\n",
       "    </tr>\n",
       "    <tr>\n",
       "      <th>1</th>\n",
       "      <td>(pip fruit)</td>\n",
       "      <td>(tropical fruit)</td>\n",
       "      <td>0.075648</td>\n",
       "      <td>0.104931</td>\n",
       "      <td>0.020437</td>\n",
       "      <td>0.270161</td>\n",
       "      <td>2.574648</td>\n",
       "      <td>0.012499</td>\n",
       "      <td>1.226392</td>\n",
       "    </tr>\n",
       "    <tr>\n",
       "      <th>2</th>\n",
       "      <td>(root vegetables, whole milk)</td>\n",
       "      <td>(other vegetables)</td>\n",
       "      <td>0.048907</td>\n",
       "      <td>0.193493</td>\n",
       "      <td>0.023183</td>\n",
       "      <td>0.474012</td>\n",
       "      <td>2.449770</td>\n",
       "      <td>0.013719</td>\n",
       "      <td>1.533320</td>\n",
       "    </tr>\n",
       "    <tr>\n",
       "      <th>3</th>\n",
       "      <td>(root vegetables)</td>\n",
       "      <td>(other vegetables)</td>\n",
       "      <td>0.108998</td>\n",
       "      <td>0.193493</td>\n",
       "      <td>0.047382</td>\n",
       "      <td>0.434701</td>\n",
       "      <td>2.246605</td>\n",
       "      <td>0.026291</td>\n",
       "      <td>1.426693</td>\n",
       "    </tr>\n",
       "    <tr>\n",
       "      <th>4</th>\n",
       "      <td>(other vegetables, whole milk)</td>\n",
       "      <td>(yogurt)</td>\n",
       "      <td>0.074835</td>\n",
       "      <td>0.139502</td>\n",
       "      <td>0.022267</td>\n",
       "      <td>0.297554</td>\n",
       "      <td>2.132979</td>\n",
       "      <td>0.011828</td>\n",
       "      <td>1.225003</td>\n",
       "    </tr>\n",
       "  </tbody>\n",
       "</table>\n",
       "</div>"
      ],
      "text/plain": [
       "                      antecedents         consequents  antecedent support  \\\n",
       "0  (other vegetables, whole milk)   (root vegetables)            0.074835   \n",
       "1                     (pip fruit)    (tropical fruit)            0.075648   \n",
       "2   (root vegetables, whole milk)  (other vegetables)            0.048907   \n",
       "3               (root vegetables)  (other vegetables)            0.108998   \n",
       "4  (other vegetables, whole milk)            (yogurt)            0.074835   \n",
       "\n",
       "   consequent support   support  confidence      lift  leverage  conviction  \n",
       "0            0.108998  0.023183    0.309783  2.842082  0.015026    1.290900  \n",
       "1            0.104931  0.020437    0.270161  2.574648  0.012499    1.226392  \n",
       "2            0.193493  0.023183    0.474012  2.449770  0.013719    1.533320  \n",
       "3            0.193493  0.047382    0.434701  2.246605  0.026291    1.426693  \n",
       "4            0.139502  0.022267    0.297554  2.132979  0.011828    1.225003  "
      ]
     },
     "execution_count": 46,
     "metadata": {},
     "output_type": "execute_result"
    }
   ],
   "source": [
    "top_20_sort.head()"
   ]
  },
  {
   "cell_type": "markdown",
   "metadata": {
    "papermill": {
     "duration": 0.082382,
     "end_time": "2020-10-27T11:34:25.993903",
     "exception": false,
     "start_time": "2020-10-27T11:34:25.911521",
     "status": "completed"
    },
    "tags": []
   },
   "source": [
    " ### Unique item names from to 20 lift combinations.."
   ]
  },
  {
   "cell_type": "code",
   "execution_count": 47,
   "metadata": {
    "execution": {
     "iopub.execute_input": "2020-10-27T11:34:26.171268Z",
     "iopub.status.busy": "2020-10-27T11:34:26.170269Z",
     "iopub.status.idle": "2020-10-27T11:34:26.174270Z",
     "shell.execute_reply": "2020-10-27T11:34:26.173485Z"
    },
    "papermill": {
     "duration": 0.095584,
     "end_time": "2020-10-27T11:34:26.174406",
     "exception": false,
     "start_time": "2020-10-27T11:34:26.078822",
     "status": "completed"
    },
    "tags": []
   },
   "outputs": [],
   "source": [
    "x = top_20_sort[['antecedents','consequents']]"
   ]
  },
  {
   "cell_type": "code",
   "execution_count": 48,
   "metadata": {
    "execution": {
     "iopub.execute_input": "2020-10-27T11:34:26.342794Z",
     "iopub.status.busy": "2020-10-27T11:34:26.341631Z",
     "iopub.status.idle": "2020-10-27T11:34:26.345370Z",
     "shell.execute_reply": "2020-10-27T11:34:26.344548Z"
    },
    "papermill": {
     "duration": 0.090839,
     "end_time": "2020-10-27T11:34:26.345513",
     "exception": false,
     "start_time": "2020-10-27T11:34:26.254674",
     "status": "completed"
    },
    "tags": []
   },
   "outputs": [],
   "source": [
    "item_list = []\n",
    "for i in x.antecedents.to_list():\n",
    "    for j in list(set(i)):\n",
    "        item_list .append(j)"
   ]
  },
  {
   "cell_type": "code",
   "execution_count": 49,
   "metadata": {
    "execution": {
     "iopub.execute_input": "2020-10-27T11:34:26.514271Z",
     "iopub.status.busy": "2020-10-27T11:34:26.513466Z",
     "iopub.status.idle": "2020-10-27T11:34:26.516839Z",
     "shell.execute_reply": "2020-10-27T11:34:26.516043Z"
    },
    "papermill": {
     "duration": 0.090412,
     "end_time": "2020-10-27T11:34:26.516967",
     "exception": false,
     "start_time": "2020-10-27T11:34:26.426555",
     "status": "completed"
    },
    "tags": []
   },
   "outputs": [],
   "source": [
    "for p in x.consequents.to_list():\n",
    "    for q in list(set(p)):\n",
    "        item_list.append(q)"
   ]
  },
  {
   "cell_type": "code",
   "execution_count": 50,
   "metadata": {
    "execution": {
     "iopub.execute_input": "2020-10-27T11:34:26.687535Z",
     "iopub.status.busy": "2020-10-27T11:34:26.686414Z",
     "iopub.status.idle": "2020-10-27T11:34:26.689838Z",
     "shell.execute_reply": "2020-10-27T11:34:26.689071Z"
    },
    "papermill": {
     "duration": 0.091407,
     "end_time": "2020-10-27T11:34:26.689969",
     "exception": false,
     "start_time": "2020-10-27T11:34:26.598562",
     "status": "completed"
    },
    "tags": []
   },
   "outputs": [],
   "source": [
    "def unique(list1): \n",
    "    # insert the list to the set \n",
    "    list_set = set(list1) \n",
    "    # convert the set to the list \n",
    "    unique_list = (list(list_set))\n",
    "    top_items =[]\n",
    "    for m in unique_list:\n",
    "        top_items.append(m)\n",
    "    print(top_items)"
   ]
  },
  {
   "cell_type": "code",
   "execution_count": 51,
   "metadata": {
    "execution": {
     "iopub.execute_input": "2020-10-27T11:34:26.857522Z",
     "iopub.status.busy": "2020-10-27T11:34:26.856691Z",
     "iopub.status.idle": "2020-10-27T11:34:26.861323Z",
     "shell.execute_reply": "2020-10-27T11:34:26.859808Z"
    },
    "papermill": {
     "duration": 0.090854,
     "end_time": "2020-10-27T11:34:26.861745",
     "exception": false,
     "start_time": "2020-10-27T11:34:26.770891",
     "status": "completed"
    },
    "tags": []
   },
   "outputs": [
    {
     "name": "stdout",
     "output_type": "stream",
     "text": [
      "['yogurt', 'bottled water', 'other vegetables', 'citrus fruit', 'curd', 'tropical fruit', 'pip fruit', 'domestic eggs', 'rolls/buns', 'margarine', 'brown bread', 'beef', 'pork', 'whole milk', 'sausage', 'root vegetables', 'soda', 'frozen vegetables', 'whipped/sour cream', 'butter', 'fruit/vegetable juice']\n"
     ]
    }
   ],
   "source": [
    "unique(item_list)"
   ]
  },
  {
   "cell_type": "markdown",
   "metadata": {
    "papermill": {
     "duration": 0.08333,
     "end_time": "2020-10-27T11:34:27.028117",
     "exception": false,
     "start_time": "2020-10-27T11:34:26.944787",
     "status": "completed"
    },
    "tags": []
   },
   "source": [
    "above are the top 20 products items & the shuffled combination gives top lift result."
   ]
  },
  {
   "cell_type": "markdown",
   "metadata": {
    "papermill": {
     "duration": 0.081431,
     "end_time": "2020-10-27T11:34:27.191287",
     "exception": false,
     "start_time": "2020-10-27T11:34:27.109856",
     "status": "completed"
    },
    "tags": []
   },
   "source": [
    "***\n",
    "***"
   ]
  }
 ],
 "metadata": {
  "kernelspec": {
   "display_name": "retail",
   "language": "python",
   "name": "retail"
  },
  "language_info": {
   "codemirror_mode": {
    "name": "ipython",
    "version": 3
   },
   "file_extension": ".py",
   "mimetype": "text/x-python",
   "name": "python",
   "nbconvert_exporter": "python",
   "pygments_lexer": "ipython3",
   "version": "3.8.10"
  },
  "papermill": {
   "duration": 147.4854,
   "end_time": "2020-10-27T11:34:27.383436",
   "environment_variables": {},
   "exception": null,
   "input_path": "__notebook__.ipynb",
   "output_path": "__notebook__.ipynb",
   "parameters": {},
   "start_time": "2020-10-27T11:31:59.898036",
   "version": "2.1.0"
  }
 },
 "nbformat": 4,
 "nbformat_minor": 4
}
