{
 "cells": [
  {
   "cell_type": "markdown",
   "metadata": {},
   "source": [
    "### Simple collaborative filtering algorithm"
   ]
  },
  {
   "cell_type": "code",
   "execution_count": 1,
   "metadata": {},
   "outputs": [],
   "source": [
    "import math\n",
    "import pandas as pd\n",
    "import operator"
   ]
  },
  {
   "cell_type": "code",
   "execution_count": 2,
   "metadata": {},
   "outputs": [],
   "source": [
    "# We build movie rating for several users \n",
    "\n",
    "#Building Custom Data for Movie Rating\n",
    "review = {\n",
    "'User 1': {\n",
    "'Avatar': 4.00,\n",
    "'The Godfather': 5.00, \n",
    "'The Godfather Part II': 4.29,\n",
    "'Apocalypse Now': 5.00, \n",
    "'Jaws': 1.,\n",
    "'The Notebook':0.5\n",
    "},\n",
    "'User 2': {\n",
    "'The Shawshank Redemption': 4.89, \n",
    "'The Shining': 4.93 , \n",
    "'The Green Mile': 4.87,\n",
    "'The Godfather': 1.33,\n",
    "},\n",
    "'User 3': {\n",
    "'Raiders of the Lost Ark': 5.0, \n",
    "'Jaws': 4.89,\n",
    "'Saving Private Ryan': 4.78, \n",
    "'Star Wars Episode IV - A New Hope': 4.33,\n",
    "'Close Encounters of the Third Kind': 4.77,\n",
    "'The Godfather':  1.25,\n",
    "'The Notebook': 5,\n",
    "'The Apartment': 4.8,\n",
    "'The Godfather Part II': 1.72\n",
    "},\n",
    "'User 4':{\n",
    "'Star Wars Episode IV - A New Hope': 5.00,\n",
    "'The Notebook': 3\n",
    "},\n",
    "'User 5': {\n",
    "'The Godfather': 4.02, \n",
    "'The Godfather Part II': 5.00,\n",
    "'Avatar': 2\n",
    "},\n",
    "'User 6': {\n",
    "'The Godfather': 3.07, \n",
    "'The Godfather Part II': 4.29, \n",
    "'Raging Bull': 5.00,\n",
    "'The Notebook': 1.00,\n",
    "'Goodfellas':  4.89\n",
    "},\n",
    "'User 7': {\n",
    "'The Godfather': 3.80, \n",
    "'The Godfather Part II': 3.61,\n",
    "'Apocalypse Now': 4.26 \n",
    "},\n",
    "'User 8': {\n",
    "'The Shining': 5.0,\n",
    "'One Flew Over The Cuckoos Nest': 5.0,\n",
    "'The Godfather': 2.22,\n",
    "'The Godfather Part II': 3.34\n",
    "},\n",
    "'User 9': {\n",
    "'The Shawshank Redemption': 4.98,\n",
    "'The Shining': 4.42,\n",
    "'Apocalypse Now': 1.63,\n",
    "'The Godfather': 1.12,\n",
    "'The Godfather Part II': 2.16,\n",
    "'Avatar': 4.99\n",
    "},\n",
    "'User 10': {\n",
    "'Raiders of the Lost Ark': 5.0, \n",
    "'Star Wars Episode IV - A New Hope': 4.84,\n",
    "},\n",
    "'User 11': {\n",
    "'Saving Private Ryan': 3.78, \n",
    "'The Green Mile': 4.96,\n",
    "'The Godfather': 1.04,\n",
    "'The Godfather Part II': 1.03\n",
    "},\n",
    "'User 12': {\n",
    "'The Godfather': 5.00, \n",
    "'The Godfather Part II': 5.0, \n",
    "'Jaws': 1.24,\n",
    "'One Flew Over The Cuckoos Nest': 2.02\n",
    "},\n",
    "'User 13': {\n",
    "'Raging Bull': 5.0, \n",
    "'Goodfellas': 4.87,\n",
    "'Close Encounters of the Third Kind': 1.14,\n",
    "'The Godfather': 4.00\n",
    "},\n",
    "'User 14': {\n",
    "'The Godfather': 1.98,\n",
    "'The Godfather Part II': 1.93,\n",
    "'Close Encounters of the Third Kind': 1.37\n",
    "},\n",
    "'User 15': {\n",
    "'Jaws': 5.0, \n",
    "'Sex in the City': 4.8,\n",
    "'The Notebook': 4.5,\n",
    "'Avatar': 4.8,\n",
    "'Close Encounters of the Third Kind': 2.0,\n",
    "'The Godfather': 1.07,\n",
    "'The Godfather Part II': 0.63\n",
    "},\n",
    "'User 16': {\n",
    "'Raging Bull': 4.89, \n",
    "'Goodfellas': 5.0,\n",
    "'The Godfather': 4.87,\n",
    "'Star Wars Episode IV - A New Hope': 1.32\n",
    "}\n",
    "}"
   ]
  },
  {
   "cell_type": "code",
   "execution_count": 3,
   "metadata": {},
   "outputs": [],
   "source": [
    "# Will User 14 would like The Notebook?"
   ]
  },
  {
   "cell_type": "code",
   "execution_count": 4,
   "metadata": {},
   "outputs": [],
   "source": [
    "# Function to get common movies b/w Users\n",
    "def get_common_movies(userA,userB):\n",
    "    return [movie for movie in review[userA] if movie in review[userB]]"
   ]
  },
  {
   "cell_type": "code",
   "execution_count": 5,
   "metadata": {
    "scrolled": true
   },
   "outputs": [
    {
     "data": {
      "text/plain": [
       "['The Godfather']"
      ]
     },
     "execution_count": 5,
     "metadata": {},
     "output_type": "execute_result"
    }
   ],
   "source": [
    "get_common_movies('User 2','User 3')"
   ]
  },
  {
   "cell_type": "code",
   "execution_count": 6,
   "metadata": {},
   "outputs": [],
   "source": [
    "# Reviews from the common movies\n",
    "def get_reviews(userA,userB):\n",
    "    common_movies = get_common_movies(userA,userB)\n",
    "    return [(review[userA][movie], review[userB][movie]) for movie in common_movies]"
   ]
  },
  {
   "cell_type": "code",
   "execution_count": 7,
   "metadata": {},
   "outputs": [
    {
     "data": {
      "text/plain": [
       "[(5.0, 1.25), (4.29, 1.72), (1.0, 4.89), (0.5, 5)]"
      ]
     },
     "execution_count": 7,
     "metadata": {},
     "output_type": "execute_result"
    }
   ],
   "source": [
    "get_reviews('User 1','User 3')"
   ]
  },
  {
   "cell_type": "markdown",
   "metadata": {},
   "source": [
    "## Euclidean Distance Formula for Calculating similarity\n",
    "$d(x,y)=\\sqrt{(x1-y1)^2 + (x2-y1)^2 + (xn-yn)^2}$"
   ]
  },
  {
   "cell_type": "code",
   "execution_count": 8,
   "metadata": {},
   "outputs": [],
   "source": [
    "# Function to get Euclidean Distance b/w 2 points \n",
    "def euclidean_distance(points):\n",
    "    squared_diffs = [(point[0] - point[1]) ** 2 for point in points]\n",
    "    summed_squared_diffs = sum(squared_diffs)\n",
    "    distance = math.sqrt(summed_squared_diffs)\n",
    "    return distance"
   ]
  },
  {
   "cell_type": "code",
   "execution_count": 9,
   "metadata": {},
   "outputs": [],
   "source": [
    "# Function to  calculate similarity more similar less the distance and vice versa\n",
    "# Added 1 for if highly similar can make the distance zero and give NotDefined Error\n",
    "def similarity(reviews):\n",
    "    return 1/ (1 + euclidean_distance(reviews))"
   ]
  },
  {
   "cell_type": "code",
   "execution_count": 10,
   "metadata": {},
   "outputs": [],
   "source": [
    "# Function to get similarity b/w 2 users\n",
    "def get_critic_similarity(userA, userB):\n",
    "    reviews = get_reviews(userA,userB)\n",
    "    return similarity(reviews)"
   ]
  },
  {
   "cell_type": "code",
   "execution_count": 11,
   "metadata": {
    "scrolled": true
   },
   "outputs": [
    {
     "data": {
      "text/plain": [
       "0.21413276231263384"
      ]
     },
     "execution_count": 11,
     "metadata": {},
     "output_type": "execute_result"
    }
   ],
   "source": [
    "get_critic_similarity('User 1','User 2')"
   ]
  },
  {
   "cell_type": "code",
   "execution_count": 14,
   "metadata": {},
   "outputs": [],
   "source": [
    "# Function to give recommendation to users based on their reviews.\n",
    "def recommend_movies(critic, num_suggestions):\n",
    "    similarity_scores = [(get_critic_similarity(critic, other), other) for other in review if other != critic]\n",
    "    # Get similarity Scores for all the critics\n",
    "    similarity_scores.sort() \n",
    "    similarity_scores.reverse()\n",
    "    similarity_scores = similarity_scores[0:num_suggestions]\n",
    "\n",
    "    recommendations = {}\n",
    "    # Dictionary to store recommendations\n",
    "    for similarity, other in similarity_scores:\n",
    "        reviewed = review[other]\n",
    "        # Storing the review\n",
    "        for movie in reviewed:\n",
    "            if movie not in review[critic]:\n",
    "                weight = similarity * reviewed[movie]\n",
    "                # Weighing similarity with review\n",
    "                if movie in recommendations:\n",
    "                    sim, weights = recommendations[movie]\n",
    "                    recommendations[movie] = (sim + similarity, weights + [weight])\n",
    "                    # Similarity of movie along with weight\n",
    "                else:\n",
    "                    recommendations[movie] = (similarity, [weight])\n",
    "                    \n",
    "\n",
    "    for recommendation in recommendations:\n",
    "        similarity, movie = recommendations[recommendation]\n",
    "        recommendations[recommendation] = sum(movie) / similarity\n",
    "        # Normalizing weights with similarity\n",
    "\n",
    "    sorted_recommendations = sorted(recommendations.items(), key=operator.itemgetter(1), reverse=True)\n",
    "     #Sorting recommendations with weight\n",
    "    return sorted_recommendations"
   ]
  },
  {
   "cell_type": "code",
   "execution_count": 16,
   "metadata": {
    "scrolled": true
   },
   "outputs": [
    {
     "data": {
      "text/plain": [
       "[('Apocalypse Now', 5.000000000000001),\n",
       " ('The Godfather Part II', 4.7280538302277435),\n",
       " ('Avatar', 3.2416107382550337),\n",
       " ('One Flew Over The Cuckoos Nest', 2.02),\n",
       " ('Close Encounters of the Third Kind', 1.14),\n",
       " ('Jaws', 1.12),\n",
       " ('The Notebook', 0.5)]"
      ]
     },
     "execution_count": 16,
     "metadata": {},
     "output_type": "execute_result"
    }
   ],
   "source": [
    "recommend_movies('User 16',4)"
   ]
  },
  {
   "cell_type": "code",
   "execution_count": null,
   "metadata": {},
   "outputs": [],
   "source": [
    "#EOF"
   ]
  }
 ],
 "metadata": {
  "kernelspec": {
   "display_name": "Python 3 (ipykernel)",
   "language": "python",
   "name": "python3"
  },
  "language_info": {
   "codemirror_mode": {
    "name": "ipython",
    "version": 3
   },
   "file_extension": ".py",
   "mimetype": "text/x-python",
   "name": "python",
   "nbconvert_exporter": "python",
   "pygments_lexer": "ipython3",
   "version": "3.8.12"
  }
 },
 "nbformat": 4,
 "nbformat_minor": 2
}
