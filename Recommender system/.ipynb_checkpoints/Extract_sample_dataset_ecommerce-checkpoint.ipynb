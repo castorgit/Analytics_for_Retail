{
 "cells": [
  {
   "cell_type": "markdown",
   "id": "48cab6eb",
   "metadata": {},
   "source": [
    "### Extracts sample data from files in Kaggle Recommendation challenge\n",
    "\n",
    "Initial file has 2M rows.\n"
   ]
  },
  {
   "cell_type": "code",
   "execution_count": 1,
   "id": "1dd9a8e7",
   "metadata": {},
   "outputs": [],
   "source": [
    "import pandas as pd\n",
    "file = '2019-Oct.csv'\n",
    "df = pd.read_csv(file)"
   ]
  },
  {
   "cell_type": "code",
   "execution_count": 2,
   "id": "b81f286c",
   "metadata": {},
   "outputs": [],
   "source": [
    "df=df.dropna()\n",
    "df1 = df[df['category_code'].str.contains(\"computer\")]"
   ]
  },
  {
   "cell_type": "code",
   "execution_count": 3,
   "id": "3498841b",
   "metadata": {},
   "outputs": [
    {
     "data": {
      "text/plain": [
       "3                      computers.notebook\n",
       "5                       computers.desktop\n",
       "18                     computers.notebook\n",
       "22                      computers.desktop\n",
       "50          computers.peripherals.monitor\n",
       "                        ...              \n",
       "42448688               computers.notebook\n",
       "42448703               computers.notebook\n",
       "42448729               computers.notebook\n",
       "42448731               computers.notebook\n",
       "42448748                computers.desktop\n",
       "Name: category_code, Length: 2254076, dtype: object"
      ]
     },
     "execution_count": 3,
     "metadata": {},
     "output_type": "execute_result"
    }
   ],
   "source": [
    "df1['category_code']"
   ]
  },
  {
   "cell_type": "code",
   "execution_count": 4,
   "id": "e3c7819e",
   "metadata": {},
   "outputs": [
    {
     "data": {
      "text/plain": [
       "event_time        object\n",
       "event_type        object\n",
       "product_id         int64\n",
       "category_id        int64\n",
       "category_code     object\n",
       "brand             object\n",
       "price            float64\n",
       "user_id            int64\n",
       "user_session      object\n",
       "dtype: object"
      ]
     },
     "execution_count": 4,
     "metadata": {},
     "output_type": "execute_result"
    }
   ],
   "source": [
    "df1.dtypes"
   ]
  },
  {
   "cell_type": "code",
   "execution_count": 5,
   "id": "6703430d",
   "metadata": {},
   "outputs": [],
   "source": [
    "#df1['aaa'] = pd.to_datetime(df1['event_time'], infer_datetime_format=True)\n",
    "df1 = df1.assign(event_time_dt=pd.to_datetime(df1['event_time'], infer_datetime_format=True))"
   ]
  },
  {
   "cell_type": "code",
   "execution_count": 6,
   "id": "742056d2",
   "metadata": {},
   "outputs": [
    {
     "data": {
      "text/plain": [
       "event_time                    object\n",
       "event_type                    object\n",
       "product_id                     int64\n",
       "category_id                    int64\n",
       "category_code                 object\n",
       "brand                         object\n",
       "price                        float64\n",
       "user_id                        int64\n",
       "user_session                  object\n",
       "event_time_dt    datetime64[ns, UTC]\n",
       "dtype: object"
      ]
     },
     "execution_count": 6,
     "metadata": {},
     "output_type": "execute_result"
    }
   ],
   "source": [
    "df1.dtypes"
   ]
  },
  {
   "cell_type": "code",
   "execution_count": 7,
   "id": "10ab2f5e",
   "metadata": {},
   "outputs": [],
   "source": [
    "#df1 = df1.assign(e=pd.to_datetime(df1['event_time'], infer_datetime_format=True))"
   ]
  },
  {
   "cell_type": "code",
   "execution_count": 8,
   "id": "dfb4a390",
   "metadata": {},
   "outputs": [],
   "source": [
    "start_date = '01-Oct-2019'\n",
    "end_date = '12-Oct-2019'\n",
    "# Convert start / end dates to datetime\n",
    "#start_date = pd.to_datetime(start_date)\n",
    "#end_date = pd.to_datetime(end_date)\n",
    "df2 = df1[df1['event_time_dt'].between(start_date, end_date)]"
   ]
  },
  {
   "cell_type": "code",
   "execution_count": 9,
   "id": "c85b4823",
   "metadata": {},
   "outputs": [],
   "source": [
    "df2.to_csv(\"file_sales.csv\", index=False)"
   ]
  },
  {
   "cell_type": "code",
   "execution_count": null,
   "id": "48a4fbd0",
   "metadata": {},
   "outputs": [],
   "source": []
  }
 ],
 "metadata": {
  "kernelspec": {
   "display_name": "Python 3 (ipykernel)",
   "language": "python",
   "name": "python3"
  },
  "language_info": {
   "codemirror_mode": {
    "name": "ipython",
    "version": 3
   },
   "file_extension": ".py",
   "mimetype": "text/x-python",
   "name": "python",
   "nbconvert_exporter": "python",
   "pygments_lexer": "ipython3",
   "version": "3.8.12"
  }
 },
 "nbformat": 4,
 "nbformat_minor": 5
}
